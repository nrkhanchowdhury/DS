{
 "cells": [
  {
   "cell_type": "markdown",
   "id": "2cdcb25a",
   "metadata": {},
   "source": [
    "### shallow copy or aliasing\n",
    "\n",
    "#### the pointer refers to the same object"
   ]
  },
  {
   "cell_type": "code",
   "execution_count": 1,
   "id": "47c8bd5e",
   "metadata": {},
   "outputs": [
    {
     "name": "stdout",
     "output_type": "stream",
     "text": [
      "[10, 40, 30]\n",
      "[10, 40, 30]\n",
      "True\n",
      "4549632512 4549632512\n"
     ]
    }
   ],
   "source": [
    "a = [10,20,30]\n",
    "b = a #shallow copy\n",
    "a[1] = 40\n",
    "print(a)\n",
    "print(b)\n",
    "print(b is a)\n",
    "print(id(a), id(b))"
   ]
  },
  {
   "cell_type": "markdown",
   "id": "72ed2da0",
   "metadata": {},
   "source": [
    "### deep copy or cloning\n",
    "\n",
    "#### the pointer referes to a new copy of the object\n",
    "\n"
   ]
  },
  {
   "cell_type": "code",
   "execution_count": 2,
   "id": "acd1f2a3",
   "metadata": {},
   "outputs": [
    {
     "name": "stdout",
     "output_type": "stream",
     "text": [
      "[10, 40, 30]\n",
      "[10, 20, 30]\n",
      "False\n",
      "4549633728 4549632320\n"
     ]
    }
   ],
   "source": [
    "a = [10,20,30]\n",
    "b = a[:] #deep copy\n",
    "a[1] = 40\n",
    "print(a)\n",
    "print(b)\n",
    "print(b is a)\n",
    "print(id(a), id(b))"
   ]
  },
  {
   "cell_type": "code",
   "execution_count": 3,
   "id": "afb9d1bf",
   "metadata": {},
   "outputs": [
    {
     "name": "stdout",
     "output_type": "stream",
     "text": [
      "[10, 20, 30] [10, 20, 30]\n",
      "4549629184 4549628224\n"
     ]
    }
   ],
   "source": [
    "a = [10,20,30]\n",
    "b = a.copy() # a[:]\n",
    "print(a,b)\n",
    "print(id(a), id(b))"
   ]
  },
  {
   "cell_type": "code",
   "execution_count": null,
   "id": "d2b8bc38",
   "metadata": {},
   "outputs": [],
   "source": []
  }
 ],
 "metadata": {
  "kernelspec": {
   "display_name": "Python 3 (ipykernel)",
   "language": "python",
   "name": "python3"
  },
  "language_info": {
   "codemirror_mode": {
    "name": "ipython",
    "version": 3
   },
   "file_extension": ".py",
   "mimetype": "text/x-python",
   "name": "python",
   "nbconvert_exporter": "python",
   "pygments_lexer": "ipython3",
   "version": "3.9.5"
  }
 },
 "nbformat": 4,
 "nbformat_minor": 5
}
