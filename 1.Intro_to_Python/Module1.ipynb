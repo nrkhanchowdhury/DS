{
 "cells": [
  {
   "cell_type": "code",
   "execution_count": 1,
   "id": "f8a05095",
   "metadata": {},
   "outputs": [
    {
     "name": "stdout",
     "output_type": "stream",
     "text": [
      "2\n"
     ]
    }
   ],
   "source": [
    "x = 2\n",
    "if x > 2:\n",
    "    x = x*2\n",
    "if x > 4:\n",
    "    x = 0\n",
    "print(x)"
   ]
  },
  {
   "cell_type": "code",
   "execution_count": 2,
   "id": "75321a27",
   "metadata": {},
   "outputs": [
    {
     "name": "stdout",
     "output_type": "stream",
     "text": [
      "9\n",
      "nine "
     ]
    }
   ],
   "source": [
    "\n",
    "A = input()\n",
    "\n",
    "numbers_dict = {\"0\":\"zero\",\n",
    "            \"1\": \"one\",\n",
    "            \"2\": \"two\",\n",
    "            \"3\": \"three\",\n",
    "            \"4\": \"four\",\n",
    "            \"5\": \"five\",\n",
    "            \"6\": \"six\",\n",
    "            \"7\": \"seven\",\n",
    "            \"8\": \"eight\",\n",
    "            \"9\": \"nine\"}\n",
    "\n",
    "\n",
    "\n",
    "\n",
    "    \n",
    "for i in A:\n",
    "    #for k  numbers.values():\n",
    "    print(numbers_dict[i], end =\" \")\n"
   ]
  },
  {
   "cell_type": "code",
   "execution_count": 3,
   "id": "2c87cf30",
   "metadata": {},
   "outputs": [
    {
     "name": "stdout",
     "output_type": "stream",
     "text": [
      "5\n",
      "2 is PRIME within 5\n",
      "3 is PRIME within 5\n",
      "5 is PRIME within 5\n"
     ]
    }
   ],
   "source": [
    "N = int(input())\n",
    "\n",
    "for M in range(2, N+1):\n",
    "    i = 2\n",
    "    flag = True\n",
    "    while i < M:\n",
    "        if M % i ==0:\n",
    "            flag = False\n",
    "        i = i+1\n",
    "    if flag:\n",
    "        print(\"{} is PRIME within {}\".format(M, N))\n",
    "    #else:\n",
    "    #    print(\"{} is NOT PRIME\".format{M})\n",
    "    "
   ]
  },
  {
   "cell_type": "code",
   "execution_count": 4,
   "id": "f5a0925b",
   "metadata": {},
   "outputs": [
    {
     "name": "stdout",
     "output_type": "stream",
     "text": [
      "5\n"
     ]
    }
   ],
   "source": [
    "      \n",
    "A = int(input())\n",
    "        \n",
    "for N in range(1, A):   \n",
    "    \n",
    "    \n",
    "    # the first divisor\n",
    "    div = 1\n",
    "        \n",
    "    # variable to collect the sum of the divisors\n",
    "    tot =0\n",
    "\n",
    "    while div < N:\n",
    "        if N % div ==0: #condition for perfect divisor\n",
    "            tot += div  #add to tot if its a perfect divisor\n",
    "\n",
    "            #increment and look for the next divisor\n",
    "        div +=1\n",
    "        \n",
    "\n",
    "    if tot == N:\n",
    "        print(N)\n",
    "    #else:\n",
    "    #    print(\"NO\")"
   ]
  },
  {
   "cell_type": "code",
   "execution_count": 5,
   "id": "02c69c71",
   "metadata": {},
   "outputs": [],
   "source": [
    "def dec_to_bin(n: int):\n",
    "    \n",
    "    # empty string to store the binary number\n",
    "    string = \"\"\n",
    "\n",
    "    while n>0:\n",
    "        if n%2==0:\n",
    "            string = \"0\" + string\n",
    "        else:\n",
    "            string = \"1\" + string\n",
    "        n = n//2\n",
    "    return int(string)\n",
    "\n",
    "    \n"
   ]
  },
  {
   "cell_type": "code",
   "execution_count": 7,
   "id": "dc0524f7",
   "metadata": {},
   "outputs": [
    {
     "data": {
      "text/plain": [
       "1"
      ]
     },
     "execution_count": 7,
     "metadata": {},
     "output_type": "execute_result"
    }
   ],
   "source": [
    "dec_to_bin(1)\n",
    "          "
   ]
  },
  {
   "cell_type": "code",
   "execution_count": 2,
   "id": "dd18cf75",
   "metadata": {},
   "outputs": [],
   "source": [
    "def findHCF(A, B):\n",
    "    \n",
    "    x = min(A, B)\n",
    "    hcf = None\n",
    "    for i in range(x, 0, -1):\n",
    "        if (A%i ==0) and (B%i ==0):\n",
    "            hcf = i\n",
    "            break\n",
    "    print(\"HCF of {} and {} is {}\".format(A, B, hcf))\n",
    "        \n",
    "            \n",
    "    \n"
   ]
  },
  {
   "cell_type": "code",
   "execution_count": 3,
   "id": "e319e54d",
   "metadata": {},
   "outputs": [
    {
     "name": "stdout",
     "output_type": "stream",
     "text": [
      "HCF of 4 and 9 is 1\n"
     ]
    }
   ],
   "source": [
    "findHCF(4,9)"
   ]
  },
  {
   "cell_type": "code",
   "execution_count": 1,
   "id": "d019f7d3",
   "metadata": {},
   "outputs": [],
   "source": [
    "def HCF(x,y):\n",
    "    if y ==0:\n",
    "        return x\n",
    "    else:\n",
    "        return HCF(y, x%y)"
   ]
  },
  {
   "cell_type": "code",
   "execution_count": 6,
   "id": "68598a6d",
   "metadata": {},
   "outputs": [
    {
     "data": {
      "text/plain": [
       "1"
      ]
     },
     "execution_count": 6,
     "metadata": {},
     "output_type": "execute_result"
    }
   ],
   "source": [
    "HCF(5,8)"
   ]
  },
  {
   "cell_type": "code",
   "execution_count": null,
   "id": "bdfecb2a",
   "metadata": {},
   "outputs": [
    {
     "name": "stdout",
     "output_type": "stream",
     "text": [
      "4\n",
      "4\n",
      "4\n",
      "HCF of 4 and 4 is 4\n"
     ]
    }
   ],
   "source": [
    "T = int(input())\n",
    "\n",
    "for i in range(T):\n",
    "    A = int(input())\n",
    "    B = int(input())\n",
    "    findHCF(A, B)"
   ]
  },
  {
   "cell_type": "code",
   "execution_count": null,
   "id": "708d530d",
   "metadata": {},
   "outputs": [],
   "source": [
    "def reverse_number(X):\n",
    "    rev = \"\"\n",
    "    for i in str(X):\n",
    "        rev =  i + rev\n",
    "        \n",
    "    \n",
    "    return int(rev)\n",
    "        "
   ]
  },
  {
   "cell_type": "code",
   "execution_count": null,
   "id": "f67167de",
   "metadata": {},
   "outputs": [],
   "source": [
    "reverse_number(100)"
   ]
  },
  {
   "cell_type": "code",
   "execution_count": null,
   "id": "4319d287",
   "metadata": {},
   "outputs": [],
   "source": [
    "reverse_number(123)"
   ]
  },
  {
   "cell_type": "code",
   "execution_count": null,
   "id": "6dd333b1",
   "metadata": {},
   "outputs": [],
   "source": [
    "\n",
    "def findLCM(A, B):\n",
    "    \n",
    "    x = min(A, B)\n",
    "    HCF = 1\n",
    "    for i in range(x, 0, -1):\n",
    "        if (A%i ==0) and (B%i ==0):\n",
    "            hcf = i\n",
    "            break\n",
    "    LCM = int((A * B)/HCF)\n",
    "    #print(\"HCF of {} and {} is {}\".format(A, B, HCF))\n",
    "    return LCM"
   ]
  },
  {
   "cell_type": "code",
   "execution_count": null,
   "id": "adef1437",
   "metadata": {},
   "outputs": [],
   "source": [
    "findLCM(3,33)"
   ]
  },
  {
   "cell_type": "code",
   "execution_count": null,
   "id": "bcce5ff1",
   "metadata": {},
   "outputs": [],
   "source": [
    "def main():\n",
    "    # YOUR CODE GOES HERE\n",
    "    # Please take input and print output to standard input/output (stdin/stdout)\n",
    "    # E.g. 'input()/raw_input()' for input & 'print' for output\n",
    "    T = int(input())\n",
    "\n",
    "    for i in range(T):\n",
    "        A = int(input())\n",
    "        B = int(input())\n",
    "        LCM = findLCM(A, B)\n",
    "        print(LCM)\n",
    "\n",
    "    return 0"
   ]
  },
  {
   "cell_type": "code",
   "execution_count": null,
   "id": "ff9b04dc",
   "metadata": {},
   "outputs": [],
   "source": [
    "main()"
   ]
  },
  {
   "cell_type": "code",
   "execution_count": null,
   "id": "79c0f2b9",
   "metadata": {},
   "outputs": [],
   "source": [
    "N = int(input())\n",
    "for i in range(N):\n",
    "    print(\"*  *\")"
   ]
  },
  {
   "cell_type": "code",
   "execution_count": null,
   "id": "08f76d06",
   "metadata": {},
   "outputs": [],
   "source": [
    "N = int(input())\n",
    "for i in range(N):\n",
    "    print(\"*\", \"*\", sep = (N-2)*\" \")\n",
    "    "
   ]
  },
  {
   "cell_type": "code",
   "execution_count": null,
   "id": "b24923a2",
   "metadata": {},
   "outputs": [],
   "source": [
    "N = int(input())\n",
    "for i in range(N):\n",
    "    #for j in range(1):\n",
    "    print(\"*\", (N-2)*\" \", \"*\", sep = \"\")\n",
    "    #print(\"*\", end = \"\\n\") # \"\\n\" is default "
   ]
  },
  {
   "cell_type": "code",
   "execution_count": null,
   "id": "e9e7f77e",
   "metadata": {},
   "outputs": [],
   "source": [
    "\"\"\"\n",
    "1\n",
    "1 2\n",
    "1 2 3\n",
    "1 2 3 4\n",
    "\"\"\""
   ]
  },
  {
   "cell_type": "code",
   "execution_count": null,
   "id": "b0e853cc",
   "metadata": {},
   "outputs": [],
   "source": [
    "N = int(input())\n",
    "for i in range(1, N+1):\n",
    "    for j in range(1,i+1):\n",
    "        if j == i:\n",
    "            print(j, end =\"\")\n",
    "        else:\n",
    "            print(j, end =\" \")\n",
    "    print()"
   ]
  },
  {
   "cell_type": "code",
   "execution_count": null,
   "id": "ba1fc3fc",
   "metadata": {},
   "outputs": [],
   "source": [
    "N = int(input())\n",
    "for i in range(N, 0, -1):\n",
    "    for j in range(1,i+1):\n",
    "        if j == i:\n",
    "            print(j, end =\"\")\n",
    "        else:\n",
    "            print(j, end =\" \")\n",
    "    print()\n",
    "    \n",
    "    \n",
    "    "
   ]
  },
  {
   "cell_type": "code",
   "execution_count": null,
   "id": "aa5d034e",
   "metadata": {},
   "outputs": [],
   "source": [
    "import math\n",
    "\n",
    "def bin_to_dec(n):\n",
    "    \n",
    "    i = 0\n",
    "    decval = 0\n",
    "\n",
    "    while n >0:\n",
    "        # get the last digit\n",
    "        rem = n%10\n",
    "        \n",
    "        # 2 exponent the postion i\n",
    "        decval = decval + rem*math.pow(2,i)\n",
    "      \n",
    "        # increment pos\n",
    "        i+=1\n",
    "        \n",
    "        #new N for next loop\n",
    "        n = n//10\n",
    "    \n",
    "    return int(decval)\n",
    "    "
   ]
  },
  {
   "cell_type": "code",
   "execution_count": null,
   "id": "9a7096ce",
   "metadata": {},
   "outputs": [],
   "source": [
    "bin_to_dec(0)"
   ]
  },
  {
   "cell_type": "code",
   "execution_count": null,
   "id": "f8434fae",
   "metadata": {},
   "outputs": [],
   "source": [
    "for i in range(1):\n",
    "    for j in range(2):\n",
    "        for k in range(1):\n",
    "            print(\"a\", end=\" \")\n",
    "        #print(end=\"\")\n",
    "        print(\"c\")"
   ]
  },
  {
   "cell_type": "code",
   "execution_count": null,
   "id": "514fd7d2",
   "metadata": {},
   "outputs": [],
   "source": [
    "Take an integer N as input, print the corresponding stair pattern for N.\n",
    "\n",
    "For example if N = 4 then stair pattern will be like:\n",
    "*\n",
    "**\n",
    "***\n",
    "****"
   ]
  },
  {
   "cell_type": "code",
   "execution_count": null,
   "id": "d7b45c0b",
   "metadata": {},
   "outputs": [],
   "source": [
    "N = int(input())\n",
    "\n",
    "for i in range(1, N+1):\n",
    "    for j in range(1, i+1):\n",
    "        print(\"*\", end =\"\")\n",
    "    print()"
   ]
  },
  {
   "cell_type": "code",
   "execution_count": null,
   "id": "b8a8f96d",
   "metadata": {},
   "outputs": [],
   "source": [
    "#take an input number and typecast to integer\n",
    "A = int(input())\n",
    "        \n",
    "# variable to store reverse of of A\n",
    "revA = 0\n",
    "\n",
    "# temp var to store A\n",
    "temp = A\n",
    "        \n",
    "#variable to store digits\n",
    "digit = 0\n",
    "        \n",
    "#getting the digits from A using loop\n",
    "while temp >0:\n",
    "        #getting the last digit\n",
    "        digit = temp%10\n",
    "        \n",
    "        #getting the reverse\n",
    "        revA = revA*10 + digit\n",
    "        \n",
    "        \n",
    "        #get A for next iter\n",
    "        temp = temp//10\n",
    "\n",
    "if revA == A: \n",
    "    print(\"Yes\")\n",
    "else:\n",
    "    print(\"NO\")        "
   ]
  },
  {
   "cell_type": "code",
   "execution_count": null,
   "id": "20132609",
   "metadata": {},
   "outputs": [],
   "source": []
  },
  {
   "cell_type": "code",
   "execution_count": null,
   "id": "50af9f80",
   "metadata": {},
   "outputs": [],
   "source": [
    "A = int(input())\n",
    "\n",
    "j = A\n",
    "for i in range(A):\n",
    "    print(i, \":\", j*\"*\", 2*i*\" \", j*\"*\", sep =\"\")\n",
    "    j -=1"
   ]
  },
  {
   "cell_type": "code",
   "execution_count": null,
   "id": "1d3af4bd",
   "metadata": {},
   "outputs": [],
   "source": [
    "def is_coprime(x, y):\n",
    "\n",
    "    m = min(x,y)\n",
    "    gcd = None\n",
    "    for i in range(m, 0, -1):\n",
    "        if (x%i==0) and (y%i==0):\n",
    "            gcd = i\n",
    "            break\n",
    "    \n",
    "    if gcd == 1:\n",
    "        return True\n",
    "    else:\n",
    "        return False\n",
    "    \n"
   ]
  },
  {
   "cell_type": "code",
   "execution_count": null,
   "id": "995cb2e9",
   "metadata": {},
   "outputs": [],
   "source": [
    "is_coprime(13,26)"
   ]
  },
  {
   "cell_type": "code",
   "execution_count": null,
   "id": "78678763",
   "metadata": {},
   "outputs": [],
   "source": [
    "def findLCM(x, y):\n",
    "\n",
    "    m = max(x,y)\n",
    "    LCM = None\n",
    "    for i in range(m, x*y+1):\n",
    "        if i%x ==0 and i%y==0:\n",
    "            LCM = i\n",
    "            break\n",
    "   \n",
    "        \n",
    "    return LCM\n",
    "\n",
    "            "
   ]
  },
  {
   "cell_type": "code",
   "execution_count": null,
   "id": "8caf0858",
   "metadata": {},
   "outputs": [],
   "source": [
    "findLCM(4,5)"
   ]
  },
  {
   "cell_type": "code",
   "execution_count": null,
   "id": "e20748e2",
   "metadata": {},
   "outputs": [],
   "source": [
    "def gcd(p,q):\n",
    "    print(p, q)\n",
    "# Create the gcd of two positive integers.\n",
    "    while q != 0:\n",
    "        p, q = q, p%q\n",
    "        print(p, q)\n",
    "    return p\n"
   ]
  },
  {
   "cell_type": "code",
   "execution_count": null,
   "id": "328a8843",
   "metadata": {},
   "outputs": [],
   "source": [
    "gcd(3,6)"
   ]
  },
  {
   "cell_type": "code",
   "execution_count": null,
   "id": "235934f5",
   "metadata": {},
   "outputs": [],
   "source": [
    "A = int(input())\n",
    "for i in range(2,A):\n",
    "    if is_coprime(i, A):\n",
    "        print(i)   "
   ]
  },
  {
   "cell_type": "code",
   "execution_count": 9,
   "id": "5052cc86",
   "metadata": {},
   "outputs": [],
   "source": [
    "def find_coprimes(x):\n",
    "    \n",
    "    coprime = None\n",
    "    \n",
    "    for y in range(2,x):\n",
    "        \n",
    "        m = min(x, y)\n",
    "        hcf = None\n",
    "        for i in range(m, 0, -1):\n",
    "            if x%i ==0 and y%i==0:\n",
    "                hcf = i\n",
    "                break\n",
    "        #print(hcf)\n",
    "        \n",
    "        if hcf ==1:\n",
    "            print(y)\n",
    "        \n",
    "        \n",
    "        "
   ]
  },
  {
   "cell_type": "code",
   "execution_count": 10,
   "id": "aecf74dc",
   "metadata": {},
   "outputs": [
    {
     "name": "stdout",
     "output_type": "stream",
     "text": [
      "2\n",
      "3\n",
      "4\n",
      "5\n",
      "6\n",
      "7\n",
      "8\n",
      "9\n",
      "10\n",
      "11\n",
      "12\n"
     ]
    }
   ],
   "source": [
    "find_coprimes(13)"
   ]
  },
  {
   "cell_type": "code",
   "execution_count": null,
   "id": "b345bb1a",
   "metadata": {},
   "outputs": [],
   "source": [
    "T = int(input())\n",
    "for i in range(T):\n",
    "    A = int(input())\n",
    "    B = int(input())\n",
    "    Max = max(A,B)\n",
    "    Z = A*B\n",
    "    for i in range(Max, Z+1, Max):\n",
    "        if i%A==0 and i%B==0:\n",
    "            print(i)\n",
    "            break\n",
    "        \n"
   ]
  },
  {
   "cell_type": "markdown",
   "id": "6b76a683",
   "metadata": {},
   "source": [
    "#### Print sqaure of 1,3,6,10,15,21"
   ]
  },
  {
   "cell_type": "code",
   "execution_count": null,
   "id": "d11fdcd0",
   "metadata": {},
   "outputs": [],
   "source": [
    "j = 0\n",
    "for i in range(1,7):\n",
    "    j+=1\n",
    "    print(j)"
   ]
  },
  {
   "cell_type": "code",
   "execution_count": null,
   "id": "11635875",
   "metadata": {},
   "outputs": [],
   "source": [
    "T = 10\n",
    "for i in range(T):\n",
    "    N = input()\n",
    "    count = len(N)\n",
    "    if N == 0:\n",
    "        count = 1\n",
    "    print(count)"
   ]
  },
  {
   "cell_type": "code",
   "execution_count": null,
   "id": "7105b52e",
   "metadata": {},
   "outputs": [],
   "source": [
    "def bar(x, y):\n",
    "    if y ==0:\n",
    "        return 0\n",
    "    return(x + bar(x, y-1))\n",
    "\n",
    "def foo(x, y):\n",
    "    if y ==0:\n",
    "        return 1\n",
    "    return bar(x, foo(x, y-1))\n",
    "\n"
   ]
  },
  {
   "cell_type": "code",
   "execution_count": null,
   "id": "860ca4ce",
   "metadata": {},
   "outputs": [],
   "source": [
    "\n",
    "print(bar(3,0))\n",
    "print(bar(3,1))\n",
    "print(bar(3,2))\n",
    "print(bar(3,3))\n",
    "print(bar(3,4))\n",
    "print(bar(3,5))"
   ]
  },
  {
   "cell_type": "code",
   "execution_count": null,
   "id": "1dc7b177",
   "metadata": {},
   "outputs": [],
   "source": [
    "foo(3,0)\n",
    "foo(3,1)\n",
    "foo(3,2)\n",
    "foo(3,5)"
   ]
  },
  {
   "cell_type": "code",
   "execution_count": null,
   "id": "18ebc0c0",
   "metadata": {},
   "outputs": [],
   "source": [
    "*****\n",
    "_****\n",
    "__***\n",
    "___**\n",
    "____*"
   ]
  },
  {
   "cell_type": "code",
   "execution_count": null,
   "id": "f1f26b95",
   "metadata": {},
   "outputs": [],
   "source": [
    "n_row=int(input())\n",
    "\n",
    "for i in range(n_row):\n",
    "    for j in range(i):\n",
    "        print(\"_\", end=\"\")\n",
    "        \n",
    "        \n",
    "        \n",
    "    for k in range(n_row -i):\n",
    "        print(\"*\", end=\"\")\n",
    "    print()"
   ]
  },
  {
   "cell_type": "code",
   "execution_count": null,
   "id": "508d7a19",
   "metadata": {},
   "outputs": [],
   "source": [
    "import numpy as np"
   ]
  },
  {
   "cell_type": "code",
   "execution_count": null,
   "id": "78120add",
   "metadata": {},
   "outputs": [],
   "source": [
    "arr = np.arange(20)"
   ]
  },
  {
   "cell_type": "code",
   "execution_count": null,
   "id": "6fd52b17",
   "metadata": {},
   "outputs": [],
   "source": [
    "print(arr)"
   ]
  },
  {
   "cell_type": "code",
   "execution_count": null,
   "id": "25669242",
   "metadata": {},
   "outputs": [],
   "source": [
    "for i in range(5):\n",
    "    print(i, end =\" \")"
   ]
  },
  {
   "cell_type": "code",
   "execution_count": null,
   "id": "f673d2c2",
   "metadata": {},
   "outputs": [],
   "source": [
    "n = 5\n",
    "for i in range(n):\n",
    "    print(n-i)"
   ]
  },
  {
   "cell_type": "code",
   "execution_count": null,
   "id": "723cb555",
   "metadata": {},
   "outputs": [],
   "source": [
    "rows = int(input(\"Enter number of rows: \"))\n",
    "\n",
    "k = 0\n",
    "count=0\n",
    "count1=0\n",
    "\n",
    "for i in range(1, rows+1):\n",
    "    for space in range(1, (rows-i)+1):\n",
    "        print(\"  \", end=\"\")\n",
    "        count+=1\n",
    "    \n",
    "    while k!=((2*i)-1):\n",
    "        if count<=rows-1:\n",
    "            print(i+k, end=\" \")\n",
    "            count+=1\n",
    "        else:\n",
    "            count1+=1\n",
    "            print(i+k-(2*count1), end=\" \")\n",
    "        k += 1\n",
    "    \n",
    "    count1 = count = k = 0\n",
    "    print()"
   ]
  },
  {
   "cell_type": "code",
   "execution_count": null,
   "id": "db680eda",
   "metadata": {},
   "outputs": [],
   "source": [
    "#n = int(input(\"Enter number of rows: \"))\n",
    "n=5\n",
    "\n",
    "for i in range(1, n+1):\n",
    "    #print(\"i:\", i)\n",
    "    for space in range(n-i+1):#, 0, -1):\n",
    "        \n",
    "        print(\"*\", end=\"\")\n",
    "        \n",
    "    for space in range(1,2*i):\n",
    "        print(\"-\", end=\"\")\n",
    "        #print((2*i-1)*\"-\", end=\"\")\n",
    "        #print(space*\"-\", end=\"\")\n",
    "    for space in range(n-i+1):#, 0, -1):\n",
    "        \n",
    "        print(\"*\", end=\"\")\n",
    "        \n",
    "    #for space in range(1, (rows-i)+1):\n",
    "    #    print(\"+\", end=\"\")\n",
    "\n",
    "    \n",
    "    \n",
    "    print()"
   ]
  },
  {
   "cell_type": "code",
   "execution_count": null,
   "id": "f8598fe9",
   "metadata": {},
   "outputs": [],
   "source": [
    " '''\n",
    "    * \n",
    "   * * \n",
    "  * * * \n",
    " * * * * \n",
    "* * * * * \n",
    " '''\n",
    "    \n",
    "\n"
   ]
  },
  {
   "cell_type": "code",
   "execution_count": null,
   "id": "6eec1ae1",
   "metadata": {},
   "outputs": [],
   "source": [
    " n = 5\n",
    "\n",
    "for i in range(1, n+1):\n",
    "    for space in range(n-i):\n",
    "        print(\"_\", end=\" \")\n",
    "        \n",
    "    for j in range(1,2*i):\n",
    "        if j%2==0:\n",
    "            print(\"_\", end=\" \")\n",
    "        else:\n",
    "            print(\"*\", end=\" \")\n",
    "            \n",
    "    for space in range(n-i):\n",
    "        print(\"_\", end=\" \")\n",
    "        \n",
    "    print()"
   ]
  },
  {
   "cell_type": "code",
   "execution_count": null,
   "id": "d321e6e0",
   "metadata": {},
   "outputs": [],
   "source": [
    "A = float(input())\n",
    "\n",
    "if A>=195:\n",
    "    print(\"abnormal\")\n",
    "if A>=165 and A<195:\n",
    "    print(\"taller\")\n",
    "if A>=150 and A<165:\n",
    "    print(\"average\")\n",
    "else:\n",
    "    print(\"dwarf\")\n",
    "    \n",
    "return 0"
   ]
  },
  {
   "cell_type": "markdown",
   "id": "dec75d0a",
   "metadata": {},
   "source": [
    "### considering it as two triangle (right + inverse left)"
   ]
  },
  {
   "cell_type": "code",
   "execution_count": null,
   "id": "d32ab349",
   "metadata": {},
   "outputs": [],
   "source": [
    "n_row=int(input())\n",
    "\n",
    "for i in range(n_row):\n",
    "    \n",
    "    #printing the spaces triangle\n",
    "    for j in range(i):\n",
    "        print(\"_\", end=\"\")\n",
    "        \n",
    "    #printing the \"* triangle    \n",
    "    for k in range(n_row -i):\n",
    "        print(\"*\", end=\"\")\n",
    "        \n",
    "    print()"
   ]
  },
  {
   "cell_type": "markdown",
   "id": "3177fee1",
   "metadata": {},
   "source": [
    "### thinking it as a rectangle"
   ]
  },
  {
   "cell_type": "code",
   "execution_count": null,
   "id": "2642280b",
   "metadata": {},
   "outputs": [],
   "source": [
    "n_row=int(input())\n",
    "\n",
    "for i in range(1, n_row+1):\n",
    "    \n",
    "    #printing the spaces triangle\n",
    "    for j in range(1, n_row+1):\n",
    "        if j<i:\n",
    "            print(\"_\", end=\"\")\n",
    "        else:\n",
    "            print(\"*\", end=\"\")\n",
    "        \n",
    "    print()"
   ]
  },
  {
   "cell_type": "markdown",
   "id": "f41deb7f",
   "metadata": {},
   "source": [
    "### one for loop"
   ]
  },
  {
   "cell_type": "code",
   "execution_count": null,
   "id": "cd9dae52",
   "metadata": {},
   "outputs": [],
   "source": [
    "n_row=int(input())\n",
    "\n",
    "for i in range(n_row,0,-1):\n",
    "    print((n_row -i)*\"_\", i*\"*\", sep=\"\")"
   ]
  },
  {
   "cell_type": "code",
   "execution_count": null,
   "id": "4688d96c",
   "metadata": {},
   "outputs": [],
   "source": [
    "n_row=int(input())\n",
    "\n",
    "for i in range(n_row,0,-1):\n",
    "    print((n_row -i)*\"_\"+ i*\"*\")\n",
    "print()  #dummy print, not needed"
   ]
  },
  {
   "cell_type": "code",
   "execution_count": null,
   "id": "306ffd96",
   "metadata": {},
   "outputs": [],
   "source": [
    "\n",
    "    for i in range(n_row,0,-1):\n",
    "        for j in range(1,n_row+1):\n",
    "            if j<i:\n",
    "                print(\"_\", end=\"\")\n",
    "            else:\n",
    "                print(\"*\", end=\"\")\n",
    "        \n",
    "        print()"
   ]
  },
  {
   "cell_type": "code",
   "execution_count": null,
   "id": "26d1f5d1",
   "metadata": {},
   "outputs": [],
   "source": [
    "n = 5\n",
    "\n",
    "for i in range(1,n+1):\n",
    "    \n",
    "    #ZEROES\n",
    "    for j in range(n-i,0,-1):\n",
    "        print(0, end=\" \")\n",
    "        \n",
    "    #PYRAMID WITH ELEMENTS J*I\n",
    "    for j in range(1,2*i):\n",
    "        print(j*(n-i+1), end=\" \")\n",
    "            \n",
    "        \n",
    "    #ZEROES\n",
    "    for j in range(n-i,0,-1):\n",
    "        print(0, end=\" \")\n",
    "    \n",
    "    print()\n",
    "        \n",
    "    "
   ]
  },
  {
   "cell_type": "code",
   "execution_count": null,
   "id": "fdc53aa3",
   "metadata": {},
   "outputs": [],
   "source": [
    "    * \n",
    "   * * \n",
    "  * * * \n",
    " * * * * \n",
    "* * * * * "
   ]
  },
  {
   "cell_type": "code",
   "execution_count": null,
   "id": "559e9748",
   "metadata": {},
   "outputs": [],
   "source": []
  },
  {
   "cell_type": "code",
   "execution_count": 11,
   "id": "d2f24b04",
   "metadata": {},
   "outputs": [
    {
     "name": "stdout",
     "output_type": "stream",
     "text": [
      "*--------*\n",
      "**------**\n",
      "***----***\n",
      "****--****\n",
      "**********\n"
     ]
    }
   ],
   "source": [
    "n = 5\n",
    "\n",
    "#for five rows\n",
    "for i in range(1, n+1):\n",
    "    \n",
    "    #for 10 (2*n) columns in each row\n",
    "    for j in range(1,2*n+1):\n",
    "        \n",
    "        #print \"*\" on left and right if\n",
    "        if j<=i or j>(2*n-i):\n",
    "            print(\"*\", end=\"\")\n",
    "        else:\n",
    "            print(\"-\", end=\"\")\n",
    "    print()"
   ]
  },
  {
   "cell_type": "code",
   "execution_count": 12,
   "id": "de0aeffe",
   "metadata": {},
   "outputs": [
    {
     "name": "stdout",
     "output_type": "stream",
     "text": [
      "**********\n",
      "****--****\n",
      "***----***\n",
      "**------**\n",
      "*--------*\n"
     ]
    }
   ],
   "source": [
    "#for five rows\n",
    "\n",
    "for i in range(n, 0, -1):\n",
    "    \n",
    "    #for 10 (2*n) columns in each row\n",
    "    for j in range(1,2*n+1):\n",
    "        \n",
    "        #print \"*\" on left and right if\n",
    "        if j<=i or j>(2*n-i):\n",
    "            print(\"*\", end=\"\")\n",
    "        else:\n",
    "            print(\"-\", end=\"\")\n",
    "    print()"
   ]
  },
  {
   "cell_type": "code",
   "execution_count": 13,
   "id": "37e3c4af",
   "metadata": {},
   "outputs": [
    {
     "name": "stdout",
     "output_type": "stream",
     "text": [
      "*\n",
      "**\n",
      "***\n",
      "****\n",
      "*****\n",
      "****\n",
      "***\n",
      "**\n",
      "*\n"
     ]
    }
   ],
   "source": [
    "N = 5\n",
    "\n",
    "# range(1, 2N) return list with 2N-1 elements\n",
    "for i in range(1, 2*N):\n",
    "    \n",
    "    #increasing columns for first N rows\n",
    "    if i<=N:\n",
    "        for j in range(1,i+1):\n",
    "            print(\"*\", end=\"\")\n",
    "        \n",
    "    #decreasing columns for next N-1 rows\n",
    "    else:\n",
    "        for k in range(2*N-i,0,-1):\n",
    "            print(\"*\", end=\"\")\n",
    "    print()"
   ]
  },
  {
   "cell_type": "code",
   "execution_count": 14,
   "id": "6fa86c23",
   "metadata": {},
   "outputs": [
    {
     "name": "stdout",
     "output_type": "stream",
     "text": [
      "5\n",
      "*\n",
      "**\n",
      "***\n",
      "****\n",
      "*****\n",
      "****\n",
      "***\n",
      "**\n",
      "*\n"
     ]
    }
   ],
   "source": [
    "N=int(input())\n",
    "for i in range(1,N+1):\n",
    "    for j in range (i):\n",
    "        print('*',end='')\n",
    "    print()\n",
    "for t in range(N-1,0,-1):\n",
    "    for s in range(t):\n",
    "        print('*',end='')\n",
    "    print()"
   ]
  },
  {
   "cell_type": "code",
   "execution_count": null,
   "id": "5a250d7c",
   "metadata": {},
   "outputs": [],
   "source": [
    "N = int(input())\n",
    "\n",
    "for i in range(N):\n",
    "    for j in range(i):\n",
    "        print(i*\" \" + (N-i)*\"*\", end=\"\")\n",
    "    print()"
   ]
  },
  {
   "cell_type": "code",
   "execution_count": null,
   "id": "681c6906",
   "metadata": {},
   "outputs": [],
   "source": [
    "N = 5\n",
    "\n",
    "for i in range(N):\n",
    "    for j in range(i):\n",
    "        print(\"-\", end=\"\")\n",
    "       \n",
    "    for k in range(N-i):\n",
    "        if k == N-i:\n",
    "            print(\"*\", end=\"\")\n",
    "        else:\n",
    "            print(\"*\", end=\" \")\n",
    "    print()"
   ]
  },
  {
   "cell_type": "code",
   "execution_count": null,
   "id": "8fe5f868",
   "metadata": {},
   "outputs": [],
   "source": [
    "******\n",
    "*   *\n",
    "*  *\n",
    "* *\n",
    "**\n",
    "*\n",
    "\n"
   ]
  },
  {
   "cell_type": "code",
   "execution_count": null,
   "id": "0312108f",
   "metadata": {},
   "outputs": [],
   "source": [
    "N = 6\n",
    "\n",
    "for i in range(N,0,-1):\n",
    "    \n",
    "    if i ==N or i ==1:\n",
    "        for j in range(i):\n",
    "            print(\"*\", end=\"\")\n",
    "    else:\n",
    "            \n",
    "        print(\"*\", (i-2)*\" \", \"*\", sep=\"\", end=\"\")\n",
    "    print()\n",
    "    #print()"
   ]
  },
  {
   "cell_type": "code",
   "execution_count": null,
   "id": "425bca81",
   "metadata": {},
   "outputs": [],
   "source": [
    "0 0 0 0 1 0 0 0 0 \n",
    "0 0 0 2 3 2 0 0 0 \n",
    "0 0 3 4 5 4 3 0 0\n",
    "0 4 5 6 7 6 5 4 0\n",
    "5 6 7 8 9 8 7 6 5 "
   ]
  },
  {
   "cell_type": "code",
   "execution_count": 21,
   "id": "299fd3a4",
   "metadata": {},
   "outputs": [
    {
     "name": "stdout",
     "output_type": "stream",
     "text": [
      "0 0 0 0 1 0 0 0 0 \n",
      "0 0 0 2 3 2 0 0 0 \n",
      "0 0 3 4 5 4 3 0 0 \n",
      "0 4 5 6 7 6 5 4 0 \n",
      "5 6 7 8 9 8 7 6 5 \n"
     ]
    }
   ],
   "source": [
    "n = 5\n",
    "num=1\n",
    "\n",
    "for i in range(1,n+1):\n",
    "    \n",
    "    num = i\n",
    "    \n",
    "    #ZEROES\n",
    "    for j in range(n-i,0,-1):\n",
    "        print(0, end=\" \")\n",
    "        \n",
    "    #numbers\n",
    "    for j in range(1,i+1):\n",
    "        print(num, end=\" \")\n",
    "        num +=1\n",
    "    #print(\"um\", num)\n",
    "    \n",
    "    #right triangle\n",
    "    #num = 2*(i-1)\n",
    "    num = num - 2\n",
    "    for j in range(1,i):\n",
    "        print(num, end=\" \")\n",
    "        num = num -1\n",
    "    \n",
    "    \n",
    "    #ZEROES\n",
    "    for j in range(n-i,0,-1):\n",
    "        print(0, end=\" \")\n",
    "    \n",
    "    print()     \n",
    "    "
   ]
  },
  {
   "cell_type": "code",
   "execution_count": 15,
   "id": "7a211857",
   "metadata": {},
   "outputs": [
    {
     "name": "stdout",
     "output_type": "stream",
     "text": [
      "    1\n",
      "   232\n",
      "  34543\n",
      " 4567654\n",
      "567898765\n"
     ]
    }
   ],
   "source": [
    "n = 5\n",
    "num = 1\n",
    "gap = n - 1\n",
    "for j in range(1, n + 1) :\n",
    "    num = j\n",
    "    for i in range(1, gap + 1) :\n",
    "        print(\" \", end=\"\")\n",
    "    gap = gap - 1\n",
    "          \n",
    "    for i in range(1, j + 1) :\n",
    "        print(num, end=\"\")\n",
    "        num = num + 1\n",
    "      \n",
    "    num = num - 2\n",
    "    for i in range(1, j) :\n",
    "        print(num, end=\"\")\n",
    "        num = num - 1\n",
    "      \n",
    "    print()"
   ]
  },
  {
   "cell_type": "code",
   "execution_count": 16,
   "id": "11d717ad",
   "metadata": {},
   "outputs": [],
   "source": [
    "def isvowel(C):\n",
    "    ans = None\n",
    "    # YOUR CODE GOES HERE\n",
    "    vow = [\"a\", \"e\", \"i\", \"o\", \"u\"]\n",
    "\n",
    "    if C in vow:\n",
    "        ans = 1\n",
    "    else:\n",
    "        ans = 0\n",
    "    \n",
    "    \n",
    "    return ans"
   ]
  },
  {
   "cell_type": "code",
   "execution_count": 5,
   "id": "540b0af8",
   "metadata": {},
   "outputs": [
    {
     "name": "stdout",
     "output_type": "stream",
     "text": [
      "4\n",
      "********\n",
      "***--***\n",
      "**----**\n",
      "*------*\n"
     ]
    }
   ],
   "source": [
    "\n",
    "\n",
    "n = int(input())\n",
    "for i in range(1,n+1):\n",
    "    #print *\n",
    "    for j in range(n-i+1):\n",
    "        print(\"*\", end=\"\")\n",
    "    \n",
    "    #print _\n",
    "    for j in range(2*(i-1)):\n",
    "        print(\"-\", end=\"\")\n",
    "    \n",
    "    #print *\n",
    "    for j in range(n-i+1):\n",
    "        print(\"*\", end=\"\")\n",
    "    print()"
   ]
  },
  {
   "cell_type": "code",
   "execution_count": 6,
   "id": "2643d83f",
   "metadata": {},
   "outputs": [
    {
     "name": "stdout",
     "output_type": "stream",
     "text": [
      "4\n",
      "*------*\n",
      "**----**\n",
      "***--***\n",
      "********\n"
     ]
    }
   ],
   "source": [
    "n = int(input())\n",
    "for i in range(1,n+1):\n",
    "    #print *\n",
    "    for j in range(i):\n",
    "        print(\"*\", end=\"\")\n",
    "    \n",
    "    #print _\n",
    "    for j in range(2*(n-i)):\n",
    "        print(\"-\", end=\"\")\n",
    "    \n",
    "    #print *\n",
    "    for j in range(i):\n",
    "        print(\"*\", end=\"\")\n",
    "    print()"
   ]
  },
  {
   "cell_type": "code",
   "execution_count": 22,
   "id": "18822844",
   "metadata": {},
   "outputs": [
    {
     "name": "stdout",
     "output_type": "stream",
     "text": [
      "4\n",
      "********\n",
      "***  ***\n",
      "**    **\n",
      "*      *\n",
      "**    **\n",
      "***  ***\n",
      "********\n"
     ]
    }
   ],
   "source": [
    "n = int(input())\n",
    "for i in range(1,n):\n",
    "    #print *\n",
    "    for j in range(n-i+1):\n",
    "        print(\"*\", end=\"\")\n",
    "    \n",
    "    #print _\n",
    "    for j in range(2*(i-1)):\n",
    "        print(\" \", end=\"\")\n",
    "    \n",
    "    #print *\n",
    "    for j in range(n-i+1):\n",
    "        print(\"*\", end=\"\")\n",
    "    print()\n",
    "        \n",
    "\n",
    "for i in range(1,n+1):\n",
    "    #print *\n",
    "    for j in range(i):\n",
    "        print(\"*\", end=\"\")\n",
    "    \n",
    "    #print _\n",
    "    for j in range(2*(n-i)):\n",
    "        print(\" \", end=\"\")\n",
    "    \n",
    "    #print *\n",
    "    for j in range(i):\n",
    "        print(\"*\", end=\"\")\n",
    "    print()"
   ]
  },
  {
   "cell_type": "code",
   "execution_count": 31,
   "id": "3b794426",
   "metadata": {},
   "outputs": [
    {
     "name": "stdout",
     "output_type": "stream",
     "text": [
      "5\n",
      "_____*_____\n",
      "____***____\n",
      "___*****___\n",
      "__*******__\n",
      "_*********_\n",
      "__*******__\n",
      "___*****___\n",
      "____***____\n",
      "_____*_____\n"
     ]
    }
   ],
   "source": [
    "n = int(input())\n",
    "for i in range(1,n):\n",
    "    \n",
    "    #print *\n",
    "    for j in range(n-i+1):\n",
    "        print(\"_\", end=\"\")\n",
    "    print(\"*\", end=\"\")\n",
    "    #print _\n",
    "    for j in range(2*(i-1)):\n",
    "        print(\"*\", end=\"\")\n",
    "    \n",
    "    #print *\n",
    "    for j in range(n-i+1):\n",
    "        print(\"_\", end=\"\")\n",
    "    print()\n",
    "        \n",
    "\n",
    "for i in range(1,n+1):\n",
    "    #print *\n",
    "    for j in range(i):\n",
    "        print(\"_\", end=\"\")\n",
    "        \n",
    "    print(\"*\", end=\"\")\n",
    "    #print _\n",
    "    for j in range(2*(n-i)):\n",
    "        print(\"*\", end=\"\")\n",
    "    \n",
    "    #print *\n",
    "    for j in range(i):\n",
    "        print(\"_\", end=\"\")\n",
    "        \n",
    "    print()"
   ]
  },
  {
   "cell_type": "code",
   "execution_count": 28,
   "id": "5cd01cf4",
   "metadata": {},
   "outputs": [
    {
     "name": "stdout",
     "output_type": "stream",
     "text": [
      "1\n",
      "12\n",
      "123\n",
      "1234\n",
      "12345\n",
      "1234\n",
      "123\n",
      "12\n",
      "1\n"
     ]
    }
   ],
   "source": [
    "n = 5\n",
    "for i in range(1,n):\n",
    "    for j in range(1, i+1):\n",
    "        print(j, end=\"\")\n",
    "    print()\n",
    "for i in range(1, n+1):\n",
    "    for j in range(1, n-i+2):\n",
    "        print(j, end=\"\")\n",
    "    print()"
   ]
  },
  {
   "cell_type": "markdown",
   "id": "5560d67c",
   "metadata": {},
   "source": [
    "## print divisors of a natural number\n",
    "\n",
    "### time complexity is O(sqrt(n))\n"
   ]
  },
  {
   "cell_type": "code",
   "execution_count": 26,
   "id": "693eec58",
   "metadata": {},
   "outputs": [
    {
     "name": "stdout",
     "output_type": "stream",
     "text": [
      "< sqrt\n",
      "1 \n",
      "> sqrt\n",
      "5 "
     ]
    }
   ],
   "source": [
    "import math\n",
    "def printDivisors(n):\n",
    "    \n",
    "    list = []\n",
    " \n",
    "    # List to store half of the divisors\n",
    "    for i in range(1, int(math.sqrt(n) + 1)):\n",
    " \n",
    "        if (n % i == 0):\n",
    " \n",
    "            # Check if divisors are equal\n",
    "            if (n / i == i):\n",
    "                print(\"sqrt\")\n",
    "                print(i, end=\"\\n\")   \n",
    "            else:\n",
    "            #    # Otherwise print both\n",
    "                print(\"< sqrt\")\n",
    "                print(i, end=\" \\n\")\n",
    "                #print(n/i,)\n",
    "                list.append(int(n / i))\n",
    " \n",
    "    # The list will be printed in reverse\n",
    "    for i in list[::-1]:\n",
    "        #pass\n",
    "        print(\"> sqrt\")\n",
    "        print(i, end=\" \")\n",
    "        \n",
    "        \n",
    "printDivisors(5)"
   ]
  },
  {
   "cell_type": "code",
   "execution_count": 25,
   "id": "7aac81a6",
   "metadata": {},
   "outputs": [
    {
     "name": "stdout",
     "output_type": "stream",
     "text": [
      "1\n",
      "2\n",
      "4\n",
      "5\n",
      "10\n",
      "20\n",
      "25\n",
      "50\n",
      "100\n"
     ]
    }
   ],
   "source": [
    "def printDiv(n):\n",
    "    \n",
    "    for i in range(1, int(math.sqrt(n))):\n",
    "        if n%i == 0:\n",
    "            print(i)\n",
    "    for j in range(int(math.sqrt(n)), 0, -1):\n",
    "        if n%j ==0:\n",
    "            print(n//j)\n",
    "            \n",
    "printDiv(100)"
   ]
  },
  {
   "cell_type": "code",
   "execution_count": 3,
   "id": "92f1477d",
   "metadata": {},
   "outputs": [
    {
     "name": "stdout",
     "output_type": "stream",
     "text": [
      "True\n",
      "True\n",
      "True\n",
      "False\n"
     ]
    }
   ],
   "source": [
    "L = [1,1,1,1,12,2,3,45,56]\n",
    "N = len(L)\n",
    "\n",
    "for i in range(1,len(L)):\n",
    "    if L[i-1] != L[i]:\n",
    "        print(False)\n",
    "        break\n",
    "    else: \n",
    "        print(True)"
   ]
  },
  {
   "cell_type": "code",
   "execution_count": null,
   "id": "df692faa",
   "metadata": {},
   "outputs": [],
   "source": []
  }
 ],
 "metadata": {
  "kernelspec": {
   "display_name": "Python 3 (ipykernel)",
   "language": "python",
   "name": "python3"
  },
  "language_info": {
   "codemirror_mode": {
    "name": "ipython",
    "version": 3
   },
   "file_extension": ".py",
   "mimetype": "text/x-python",
   "name": "python",
   "nbconvert_exporter": "python",
   "pygments_lexer": "ipython3",
   "version": "3.9.5"
  }
 },
 "nbformat": 4,
 "nbformat_minor": 5
}
