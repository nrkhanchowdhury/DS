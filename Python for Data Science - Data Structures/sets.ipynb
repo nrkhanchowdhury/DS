{
 "cells": [
  {
   "cell_type": "markdown",
   "id": "c18eab62",
   "metadata": {},
   "source": [
    "# Sets\n",
    "\n",
    "#### -> Set is an unordered (cannot be indexed) collection of itmes. \n",
    "\n",
    "#### -> Every element is unique\n",
    "\n",
    "#### -> Set is mutable"
   ]
  },
  {
   "cell_type": "markdown",
   "id": "e29e691c",
   "metadata": {},
   "source": [
    "## Set Creation"
   ]
  },
  {
   "cell_type": "code",
   "execution_count": 2,
   "id": "733828b6",
   "metadata": {},
   "outputs": [
    {
     "name": "stdout",
     "output_type": "stream",
     "text": [
      "<class 'set'>\n"
     ]
    }
   ],
   "source": [
    "s = {1,2,3,4}\n",
    "print(type(s))"
   ]
  },
  {
   "cell_type": "code",
   "execution_count": 4,
   "id": "bbbc519d",
   "metadata": {},
   "outputs": [
    {
     "data": {
      "text/plain": [
       "{1, 2, 3, 4}"
      ]
     },
     "execution_count": 4,
     "metadata": {},
     "output_type": "execute_result"
    }
   ],
   "source": [
    "s  = set([1,2,3,4,2,3,4]) #set doesnt allow duplicates\n",
    "s"
   ]
  },
  {
   "cell_type": "code",
   "execution_count": 6,
   "id": "56101366",
   "metadata": {},
   "outputs": [
    {
     "name": "stdout",
     "output_type": "stream",
     "text": [
      "<class 'set'>\n"
     ]
    }
   ],
   "source": [
    "#initialise a set with set() method\n",
    "s = set()\n",
    "print(type(s))"
   ]
  },
  {
   "cell_type": "markdown",
   "id": "1303c579",
   "metadata": {},
   "source": [
    "## Add element to Set"
   ]
  },
  {
   "cell_type": "code",
   "execution_count": 10,
   "id": "380f33d7",
   "metadata": {},
   "outputs": [
    {
     "data": {
      "text/plain": [
       "{1, 2, 3, 5}"
      ]
     },
     "execution_count": 10,
     "metadata": {},
     "output_type": "execute_result"
    }
   ],
   "source": [
    "s ={1,2,3,3} #sets are mutable\n",
    "s.add(5)\n",
    "s"
   ]
  },
  {
   "cell_type": "code",
   "execution_count": 13,
   "id": "a0e80e31",
   "metadata": {},
   "outputs": [
    {
     "data": {
      "text/plain": [
       "{1, 2, 3, 4, 5, 6, 7}"
      ]
     },
     "execution_count": 13,
     "metadata": {},
     "output_type": "execute_result"
    }
   ],
   "source": [
    "# add multiple elemmets\n",
    "s.update([4,5,6,7,])\n",
    "s"
   ]
  },
  {
   "cell_type": "markdown",
   "id": "47e4db8c",
   "metadata": {},
   "source": [
    "## remove elements from set"
   ]
  },
  {
   "cell_type": "code",
   "execution_count": 16,
   "id": "ae09daf1",
   "metadata": {},
   "outputs": [
    {
     "data": {
      "text/plain": [
       "{1, 2, 3, 4}"
      ]
     },
     "execution_count": 16,
     "metadata": {},
     "output_type": "execute_result"
    }
   ],
   "source": [
    "S = {1,2,3,4,5}\n",
    "S.discard(5)\n",
    "S"
   ]
  },
  {
   "cell_type": "code",
   "execution_count": 17,
   "id": "0f9899a6",
   "metadata": {},
   "outputs": [
    {
     "ename": "KeyError",
     "evalue": "5",
     "output_type": "error",
     "traceback": [
      "\u001b[0;31m---------------------------------------------------------------------------\u001b[0m",
      "\u001b[0;31mKeyError\u001b[0m                                  Traceback (most recent call last)",
      "Cell \u001b[0;32mIn [17], line 1\u001b[0m\n\u001b[0;32m----> 1\u001b[0m S\u001b[38;5;241m.\u001b[39mremove(\u001b[38;5;241m5\u001b[39m)\n",
      "\u001b[0;31mKeyError\u001b[0m: 5"
     ]
    }
   ],
   "source": [
    "S.remove(5) #throws error if element absent in set"
   ]
  },
  {
   "cell_type": "code",
   "execution_count": 21,
   "id": "5060f85b",
   "metadata": {},
   "outputs": [
    {
     "data": {
      "text/plain": [
       "{1, 2, 3}"
      ]
     },
     "execution_count": 21,
     "metadata": {},
     "output_type": "execute_result"
    }
   ],
   "source": [
    "S.remove(4)\n",
    "S"
   ]
  },
  {
   "cell_type": "code",
   "execution_count": 23,
   "id": "a48868e5",
   "metadata": {},
   "outputs": [
    {
     "data": {
      "text/plain": [
       "{1, 2, 3}"
      ]
     },
     "execution_count": 23,
     "metadata": {},
     "output_type": "execute_result"
    }
   ],
   "source": [
    "S.discard(7) # doesnt raise error if element is absetn\n",
    "\n",
    "S"
   ]
  },
  {
   "cell_type": "code",
   "execution_count": 24,
   "id": "09fb2b91",
   "metadata": {},
   "outputs": [
    {
     "data": {
      "text/plain": [
       "{1, 2, 3}"
      ]
     },
     "execution_count": 24,
     "metadata": {},
     "output_type": "execute_result"
    }
   ],
   "source": [
    "S"
   ]
  },
  {
   "cell_type": "code",
   "execution_count": 26,
   "id": "3e184518",
   "metadata": {},
   "outputs": [
    {
     "data": {
      "text/plain": [
       "1"
      ]
     },
     "execution_count": 26,
     "metadata": {},
     "output_type": "execute_result"
    }
   ],
   "source": [
    "S.pop() # removes one elemet at random"
   ]
  },
  {
   "cell_type": "code",
   "execution_count": 27,
   "id": "da40bcc5",
   "metadata": {},
   "outputs": [
    {
     "data": {
      "text/plain": [
       "{2, 3}"
      ]
     },
     "execution_count": 27,
     "metadata": {},
     "output_type": "execute_result"
    }
   ],
   "source": [
    "S"
   ]
  },
  {
   "cell_type": "code",
   "execution_count": 28,
   "id": "218b3fe3",
   "metadata": {},
   "outputs": [
    {
     "data": {
      "text/plain": [
       "2"
      ]
     },
     "execution_count": 28,
     "metadata": {},
     "output_type": "execute_result"
    }
   ],
   "source": [
    "S.pop()"
   ]
  },
  {
   "cell_type": "code",
   "execution_count": 29,
   "id": "e0d420f7",
   "metadata": {},
   "outputs": [
    {
     "data": {
      "text/plain": [
       "{3}"
      ]
     },
     "execution_count": 29,
     "metadata": {},
     "output_type": "execute_result"
    }
   ],
   "source": [
    "S"
   ]
  },
  {
   "cell_type": "markdown",
   "id": "ea324684",
   "metadata": {},
   "source": [
    "## Python Set operations"
   ]
  },
  {
   "cell_type": "code",
   "execution_count": 30,
   "id": "773c6b60",
   "metadata": {},
   "outputs": [],
   "source": [
    "set1 = {1,2,3,4,5}\n",
    "set2 = {4,5,6,7,8}"
   ]
  },
  {
   "cell_type": "code",
   "execution_count": 31,
   "id": "c073ae17",
   "metadata": {},
   "outputs": [
    {
     "data": {
      "text/plain": [
       "{1, 2, 3, 4, 5, 6, 7, 8}"
      ]
     },
     "execution_count": 31,
     "metadata": {},
     "output_type": "execute_result"
    }
   ],
   "source": [
    "#union\n",
    "set1 | set2"
   ]
  },
  {
   "cell_type": "code",
   "execution_count": 32,
   "id": "a962aa0d",
   "metadata": {},
   "outputs": [
    {
     "data": {
      "text/plain": [
       "{1, 2, 3, 4, 5, 6, 7, 8}"
      ]
     },
     "execution_count": 32,
     "metadata": {},
     "output_type": "execute_result"
    }
   ],
   "source": [
    "#union\n",
    "set1.union(set2)"
   ]
  },
  {
   "cell_type": "code",
   "execution_count": 33,
   "id": "b6fdaa75",
   "metadata": {},
   "outputs": [
    {
     "data": {
      "text/plain": [
       "{4, 5}"
      ]
     },
     "execution_count": 33,
     "metadata": {},
     "output_type": "execute_result"
    }
   ],
   "source": [
    "#intersection\n",
    "set1 & set2"
   ]
  },
  {
   "cell_type": "code",
   "execution_count": 34,
   "id": "9479b546",
   "metadata": {},
   "outputs": [
    {
     "data": {
      "text/plain": [
       "{4, 5}"
      ]
     },
     "execution_count": 34,
     "metadata": {},
     "output_type": "execute_result"
    }
   ],
   "source": [
    "#intersection\n",
    "set1.intersection(set2)"
   ]
  },
  {
   "cell_type": "code",
   "execution_count": 35,
   "id": "f930c241",
   "metadata": {},
   "outputs": [
    {
     "data": {
      "text/plain": [
       "{1, 2, 3}"
      ]
     },
     "execution_count": 35,
     "metadata": {},
     "output_type": "execute_result"
    }
   ],
   "source": [
    "# set difference: set of elemets present in 1 and not in set2\n",
    "set1 - set2"
   ]
  },
  {
   "cell_type": "code",
   "execution_count": 36,
   "id": "ca092aa0",
   "metadata": {},
   "outputs": [
    {
     "data": {
      "text/plain": [
       "{1, 2, 3}"
      ]
     },
     "execution_count": 36,
     "metadata": {},
     "output_type": "execute_result"
    }
   ],
   "source": [
    "set1.difference(set2)"
   ]
  },
  {
   "cell_type": "code",
   "execution_count": 37,
   "id": "808246c2",
   "metadata": {},
   "outputs": [
    {
     "data": {
      "text/plain": [
       "{1, 2, 3, 6, 7, 8}"
      ]
     },
     "execution_count": 37,
     "metadata": {},
     "output_type": "execute_result"
    }
   ],
   "source": [
    "#symmeetric differenr: set of elemetns presnt in both 1 and 2 except those common in both\n",
    "set1^set2"
   ]
  },
  {
   "cell_type": "code",
   "execution_count": 38,
   "id": "61c62851",
   "metadata": {},
   "outputs": [
    {
     "data": {
      "text/plain": [
       "{1, 2, 3, 6, 7, 8}"
      ]
     },
     "execution_count": 38,
     "metadata": {},
     "output_type": "execute_result"
    }
   ],
   "source": [
    "set1.symmetric_difference(set2)"
   ]
  },
  {
   "cell_type": "code",
   "execution_count": 41,
   "id": "4f1b6297",
   "metadata": {},
   "outputs": [
    {
     "name": "stdout",
     "output_type": "stream",
     "text": [
      "set X is subset of set Y? Ans: False\n",
      "set Y is subset of set X? Ans: True\n"
     ]
    }
   ],
   "source": [
    "# find issubset()\n",
    "X = {1,2,3,4,5,6}\n",
    "Y = {3,4}\n",
    "\n",
    "print(\"set X is subset of set Y? Ans: {}\".format(X.issubset(Y)))\n",
    "print(\"set Y is subset of set X? Ans: {}\".format(Y.issubset(X)))"
   ]
  },
  {
   "cell_type": "markdown",
   "id": "b231cf79",
   "metadata": {},
   "source": [
    "# Frozen sets"
   ]
  },
  {
   "cell_type": "markdown",
   "id": "a56208e9",
   "metadata": {},
   "source": [
    " ####   Frozen sets cant be changed once assinged. While Tuple are immutable lists, frozen sets are immutable sets.\n",
    " "
   ]
  },
  {
   "cell_type": "code",
   "execution_count": 42,
   "id": "7a952bdb",
   "metadata": {},
   "outputs": [],
   "source": [
    "set1 = frozenset([1,2,3,4,5])\n",
    "set2 = frozenset([2,3,4,5,6,7])"
   ]
  },
  {
   "cell_type": "code",
   "execution_count": 43,
   "id": "c9ffdcb6",
   "metadata": {},
   "outputs": [
    {
     "ename": "AttributeError",
     "evalue": "'frozenset' object has no attribute 'add'",
     "output_type": "error",
     "traceback": [
      "\u001b[0;31m---------------------------------------------------------------------------\u001b[0m",
      "\u001b[0;31mAttributeError\u001b[0m                            Traceback (most recent call last)",
      "Cell \u001b[0;32mIn [43], line 1\u001b[0m\n\u001b[0;32m----> 1\u001b[0m set1\u001b[38;5;241m.\u001b[39madd(\u001b[38;5;241m3\u001b[39m)\n",
      "\u001b[0;31mAttributeError\u001b[0m: 'frozenset' object has no attribute 'add'"
     ]
    }
   ],
   "source": [
    "set1.add(3)"
   ]
  },
  {
   "cell_type": "code",
   "execution_count": 45,
   "id": "f7225df0",
   "metadata": {},
   "outputs": [
    {
     "data": {
      "text/plain": [
       "(3, 2, 1)"
      ]
     },
     "execution_count": 45,
     "metadata": {},
     "output_type": "execute_result"
    }
   ],
   "source": [
    "t=(1,2,3)\n",
    "t[::-1]"
   ]
  },
  {
   "cell_type": "code",
   "execution_count": 48,
   "id": "e0c08f01",
   "metadata": {},
   "outputs": [
    {
     "data": {
      "text/plain": [
       "('nafis',)"
      ]
     },
     "execution_count": 48,
     "metadata": {},
     "output_type": "execute_result"
    }
   ],
   "source": [
    "tuple({\"nafis\"})\n"
   ]
  },
  {
   "cell_type": "code",
   "execution_count": 49,
   "id": "78f00e35",
   "metadata": {},
   "outputs": [],
   "source": [
    "set1 ={1,2,3}"
   ]
  },
  {
   "cell_type": "code",
   "execution_count": 50,
   "id": "10150276",
   "metadata": {},
   "outputs": [],
   "source": [
    "set1.add(4)"
   ]
  },
  {
   "cell_type": "code",
   "execution_count": 51,
   "id": "d9b2ccb7",
   "metadata": {},
   "outputs": [
    {
     "data": {
      "text/plain": [
       "{1, 2, 3, 4}"
      ]
     },
     "execution_count": 51,
     "metadata": {},
     "output_type": "execute_result"
    }
   ],
   "source": [
    "set1"
   ]
  },
  {
   "cell_type": "code",
   "execution_count": 52,
   "id": "0fbd283a",
   "metadata": {},
   "outputs": [
    {
     "data": {
      "text/plain": [
       "4631784128"
      ]
     },
     "execution_count": 52,
     "metadata": {},
     "output_type": "execute_result"
    }
   ],
   "source": [
    "id(set1)"
   ]
  },
  {
   "cell_type": "code",
   "execution_count": 53,
   "id": "87702281",
   "metadata": {},
   "outputs": [],
   "source": [
    "set1.add(5)"
   ]
  },
  {
   "cell_type": "code",
   "execution_count": 54,
   "id": "9ff1b3b4",
   "metadata": {},
   "outputs": [
    {
     "data": {
      "text/plain": [
       "{1, 2, 3, 4, 5}"
      ]
     },
     "execution_count": 54,
     "metadata": {},
     "output_type": "execute_result"
    }
   ],
   "source": [
    "set1"
   ]
  },
  {
   "cell_type": "code",
   "execution_count": 56,
   "id": "c97f696c",
   "metadata": {},
   "outputs": [
    {
     "data": {
      "text/plain": [
       "4631784128"
      ]
     },
     "execution_count": 56,
     "metadata": {},
     "output_type": "execute_result"
    }
   ],
   "source": [
    "id(set1)"
   ]
  },
  {
   "cell_type": "code",
   "execution_count": 1,
   "id": "c63b8b56",
   "metadata": {},
   "outputs": [
    {
     "ename": "TypeError",
     "evalue": "unsupported operand type(s) for +: 'set' and 'set'",
     "output_type": "error",
     "traceback": [
      "\u001b[0;31m---------------------------------------------------------------------------\u001b[0m",
      "\u001b[0;31mTypeError\u001b[0m                                 Traceback (most recent call last)",
      "Cell \u001b[0;32mIn [1], line 3\u001b[0m\n\u001b[1;32m      1\u001b[0m set1 \u001b[38;5;241m=\u001b[39m {\u001b[38;5;241m1\u001b[39m, \u001b[38;5;241m2\u001b[39m, \u001b[38;5;241m4\u001b[39m}\n\u001b[1;32m      2\u001b[0m set2 \u001b[38;5;241m=\u001b[39m {\u001b[38;5;241m4\u001b[39m, \u001b[38;5;241m5\u001b[39m, \u001b[38;5;241m6\u001b[39m}\n\u001b[0;32m----> 3\u001b[0m \u001b[38;5;28mprint\u001b[39m(\u001b[38;5;28mlen\u001b[39m(set1 \u001b[38;5;241m+\u001b[39m set2))\n",
      "\u001b[0;31mTypeError\u001b[0m: unsupported operand type(s) for +: 'set' and 'set'"
     ]
    }
   ],
   "source": [
    "set1 = {1, 2, 4}\n",
    "set2 = {4, 5, 6}\n",
    "print(len(set1 + set2))"
   ]
  },
  {
   "cell_type": "code",
   "execution_count": 3,
   "id": "edb0e3a6",
   "metadata": {},
   "outputs": [
    {
     "data": {
      "text/plain": [
       "{'academy', 'scaler'}"
      ]
     },
     "execution_count": 3,
     "metadata": {},
     "output_type": "execute_result"
    }
   ],
   "source": [
    "S = set([\"scaler\",\"academy\"])\n",
    "S"
   ]
  },
  {
   "cell_type": "code",
   "execution_count": 6,
   "id": "3981d97a",
   "metadata": {},
   "outputs": [
    {
     "data": {
      "text/plain": [
       "{' ', 'a', 'c', 'd', 'e', 'l', 'm', 'r', 's', 'y'}"
      ]
     },
     "execution_count": 6,
     "metadata": {},
     "output_type": "execute_result"
    }
   ],
   "source": [
    "#S = set(\"scaler\",\"academy\")\n",
    "S = set(\"scaler academy\")\n",
    "S"
   ]
  },
  {
   "cell_type": "code",
   "execution_count": 8,
   "id": "353f7a5e",
   "metadata": {},
   "outputs": [
    {
     "data": {
      "text/plain": [
       "{'Scale', 'awesome'}"
      ]
     },
     "execution_count": 8,
     "metadata": {},
     "output_type": "execute_result"
    }
   ],
   "source": [
    "S = {\"Scale\", \"awesome\"}\n",
    "S"
   ]
  },
  {
   "cell_type": "code",
   "execution_count": 9,
   "id": "133f2680",
   "metadata": {},
   "outputs": [],
   "source": [
    "sent1 = \"in data analysis we use data and process it further to create better interpreted data\"\n",
    "sent2 = \"more and more data will be passively collected\"\n",
    "\n"
   ]
  },
  {
   "cell_type": "code",
   "execution_count": 27,
   "id": "981485b5",
   "metadata": {},
   "outputs": [],
   "source": [
    "lst1 = set(sent1.split()) #| set(sent2.split())"
   ]
  },
  {
   "cell_type": "code",
   "execution_count": 28,
   "id": "72a7682f",
   "metadata": {},
   "outputs": [
    {
     "data": {
      "text/plain": [
       "{'analysis',\n",
       " 'and',\n",
       " 'better',\n",
       " 'create',\n",
       " 'data',\n",
       " 'further',\n",
       " 'in',\n",
       " 'interpreted',\n",
       " 'it',\n",
       " 'process',\n",
       " 'to',\n",
       " 'use',\n",
       " 'we'}"
      ]
     },
     "execution_count": 28,
     "metadata": {},
     "output_type": "execute_result"
    }
   ],
   "source": [
    "lst1"
   ]
  },
  {
   "cell_type": "code",
   "execution_count": 29,
   "id": "04d6cb29",
   "metadata": {},
   "outputs": [
    {
     "data": {
      "text/plain": [
       "13"
      ]
     },
     "execution_count": 29,
     "metadata": {},
     "output_type": "execute_result"
    }
   ],
   "source": [
    "len(lst1)"
   ]
  },
  {
   "cell_type": "code",
   "execution_count": 30,
   "id": "14081d54",
   "metadata": {},
   "outputs": [
    {
     "data": {
      "text/plain": [
       "7"
      ]
     },
     "execution_count": 30,
     "metadata": {},
     "output_type": "execute_result"
    }
   ],
   "source": [
    "lst2 = set(sent2.split())\n",
    "len(lst2)"
   ]
  },
  {
   "cell_type": "code",
   "execution_count": 32,
   "id": "5b9c1700",
   "metadata": {},
   "outputs": [],
   "source": [
    "lst = lst1.union(lst2)"
   ]
  },
  {
   "cell_type": "code",
   "execution_count": 33,
   "id": "08a7b11d",
   "metadata": {},
   "outputs": [
    {
     "data": {
      "text/plain": [
       "18"
      ]
     },
     "execution_count": 33,
     "metadata": {},
     "output_type": "execute_result"
    }
   ],
   "source": [
    "len(lst)"
   ]
  },
  {
   "cell_type": "code",
   "execution_count": null,
   "id": "b436c185",
   "metadata": {},
   "outputs": [],
   "source": []
  }
 ],
 "metadata": {
  "kernelspec": {
   "display_name": "Python 3 (ipykernel)",
   "language": "python",
   "name": "python3"
  },
  "language_info": {
   "codemirror_mode": {
    "name": "ipython",
    "version": 3
   },
   "file_extension": ".py",
   "mimetype": "text/x-python",
   "name": "python",
   "nbconvert_exporter": "python",
   "pygments_lexer": "ipython3",
   "version": "3.9.5"
  }
 },
 "nbformat": 4,
 "nbformat_minor": 5
}
