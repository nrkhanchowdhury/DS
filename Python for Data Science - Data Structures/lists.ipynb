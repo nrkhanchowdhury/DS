{
 "cells": [
  {
   "cell_type": "code",
   "execution_count": 5,
   "id": "410be9bb",
   "metadata": {},
   "outputs": [],
   "source": [
    "for i in range(-5,0, -1):\n",
    "    print(i)"
   ]
  },
  {
   "cell_type": "code",
   "execution_count": 16,
   "id": "f604a369",
   "metadata": {},
   "outputs": [
    {
     "name": "stdout",
     "output_type": "stream",
     "text": [
      "length of array: 8\n",
      "i: 1 runs[i]: 2 runs[i-1]: 1\n",
      "i: 2 runs[i]: 3 runs[i-1]: 2\n",
      "i: 3 runs[i]: 4 runs[i-1]: 3\n",
      "i: 4 runs[i]: 5 runs[i-1]: 4\n",
      "i: 5 runs[i]: 5 runs[i-1]: 5\n",
      "duplicate found: 5 == 5\n",
      "True\n"
     ]
    }
   ],
   "source": [
    "runs=[1,2,3,4,5,5,6,7]\n",
    "flag = False\n",
    "n=len(runs)\n",
    "print(\"length of array:\", n)\n",
    "for i in range(1,n): #start i from 1 \n",
    "    print(\"i:\", i, \"runs[i]:\", runs[i], \"runs[i-1]:\", runs[i-1])\n",
    "    if runs[i]==runs[i-1]:\n",
    "        print(\"duplicate found:\", runs[i], \"==\", runs[i-1])\n",
    "        flag = True\n",
    "        break\n",
    "print(flag)"
   ]
  },
  {
   "cell_type": "code",
   "execution_count": 17,
   "id": "a148a7e7",
   "metadata": {},
   "outputs": [
    {
     "data": {
      "text/plain": [
       "[5, 1, 2, 7, 6]"
      ]
     },
     "execution_count": 17,
     "metadata": {},
     "output_type": "execute_result"
    }
   ],
   "source": [
    "runs=[5,1,2,7,6,3,4]\n",
    "runs[0:5:1]"
   ]
  },
  {
   "cell_type": "code",
   "execution_count": 18,
   "id": "1dafddb5",
   "metadata": {},
   "outputs": [
    {
     "data": {
      "text/plain": [
       "[5, 1, 2, 7, 6, 3, 4]"
      ]
     },
     "execution_count": 18,
     "metadata": {},
     "output_type": "execute_result"
    }
   ],
   "source": [
    "runs"
   ]
  },
  {
   "cell_type": "code",
   "execution_count": 19,
   "id": "632c6394",
   "metadata": {},
   "outputs": [
    {
     "data": {
      "text/plain": [
       "4594735296"
      ]
     },
     "execution_count": 19,
     "metadata": {},
     "output_type": "execute_result"
    }
   ],
   "source": [
    "id(runs)"
   ]
  },
  {
   "cell_type": "code",
   "execution_count": 20,
   "id": "54541cd2",
   "metadata": {},
   "outputs": [
    {
     "data": {
      "text/plain": [
       "4595120512"
      ]
     },
     "execution_count": 20,
     "metadata": {},
     "output_type": "execute_result"
    }
   ],
   "source": [
    "id(runs[0:5])"
   ]
  },
  {
   "cell_type": "code",
   "execution_count": 21,
   "id": "8f3256da",
   "metadata": {},
   "outputs": [
    {
     "data": {
      "text/plain": [
       "[5, 1, 2, 7, 6]"
      ]
     },
     "execution_count": 21,
     "metadata": {},
     "output_type": "execute_result"
    }
   ],
   "source": [
    "runs[0:5]"
   ]
  },
  {
   "cell_type": "code",
   "execution_count": 23,
   "id": "96625759",
   "metadata": {},
   "outputs": [
    {
     "data": {
      "text/plain": [
       "[5, 2, 6, 4]"
      ]
     },
     "execution_count": 23,
     "metadata": {},
     "output_type": "execute_result"
    }
   ],
   "source": [
    "runs[0:len(runs):2]"
   ]
  },
  {
   "cell_type": "code",
   "execution_count": 24,
   "id": "73fa2020",
   "metadata": {},
   "outputs": [
    {
     "data": {
      "text/plain": [
       "7"
      ]
     },
     "execution_count": 24,
     "metadata": {},
     "output_type": "execute_result"
    }
   ],
   "source": [
    "len(runs)"
   ]
  },
  {
   "cell_type": "code",
   "execution_count": 28,
   "id": "05f53315",
   "metadata": {},
   "outputs": [
    {
     "data": {
      "text/plain": [
       "[4, 3, 6, 7, 2, 1, 5]"
      ]
     },
     "execution_count": 28,
     "metadata": {},
     "output_type": "execute_result"
    }
   ],
   "source": [
    "runs[::-1]"
   ]
  },
  {
   "cell_type": "code",
   "execution_count": 29,
   "id": "66ddee63",
   "metadata": {},
   "outputs": [
    {
     "data": {
      "text/plain": [
       "[5, 1, 2, 7, 6, 3, 4]"
      ]
     },
     "execution_count": 29,
     "metadata": {},
     "output_type": "execute_result"
    }
   ],
   "source": [
    "runs"
   ]
  },
  {
   "cell_type": "code",
   "execution_count": 30,
   "id": "e8edcb43",
   "metadata": {},
   "outputs": [
    {
     "data": {
      "text/plain": [
       "[4, 3, 6, 7, 2, 1, 5]"
      ]
     },
     "execution_count": 30,
     "metadata": {},
     "output_type": "execute_result"
    }
   ],
   "source": [
    "runs[::-1]"
   ]
  },
  {
   "cell_type": "code",
   "execution_count": 63,
   "id": "7a1184e2",
   "metadata": {},
   "outputs": [
    {
     "data": {
      "text/plain": [
       "7"
      ]
     },
     "execution_count": 63,
     "metadata": {},
     "output_type": "execute_result"
    }
   ],
   "source": [
    "max1 = max(runs)\n",
    "max1"
   ]
  },
  {
   "cell_type": "code",
   "execution_count": 64,
   "id": "195ae32d",
   "metadata": {},
   "outputs": [
    {
     "data": {
      "text/plain": [
       "[5, 1, 2, 6, 3, 4]"
      ]
     },
     "execution_count": 64,
     "metadata": {},
     "output_type": "execute_result"
    }
   ],
   "source": [
    "newlist = [num for num in runs if num!=max1]\n",
    "newlist"
   ]
  },
  {
   "cell_type": "code",
   "execution_count": 66,
   "id": "81f6111c",
   "metadata": {},
   "outputs": [
    {
     "data": {
      "text/plain": [
       "6"
      ]
     },
     "execution_count": 66,
     "metadata": {},
     "output_type": "execute_result"
    }
   ],
   "source": [
    "max2=max(newlist)\n",
    "max2"
   ]
  },
  {
   "cell_type": "code",
   "execution_count": 3,
   "id": "347d8b7f",
   "metadata": {},
   "outputs": [
    {
     "name": "stdout",
     "output_type": "stream",
     "text": [
      "45\n"
     ]
    }
   ],
   "source": [
    "def findLargest(arr):\n",
    "    secondLargest = 0\n",
    "    largest = min(arr)\n",
    "    \n",
    "    \n",
    "\n",
    "    for i in range(len(arr)):\n",
    "        if arr[i] >= largest:\n",
    "            secondLargest = largest\n",
    "            largest = arr[i]\n",
    "        else:\n",
    "            secondLargest = max(secondLargest, arr[i])\n",
    " \n",
    "    # Returning second largest element\n",
    "    return secondLargest\n",
    " \n",
    " \n",
    "# Calling above method over this array set\n",
    "print(findLargest([10, 20, 4, 45,99,45]))"
   ]
  },
  {
   "cell_type": "code",
   "execution_count": 35,
   "id": "92db84d7",
   "metadata": {},
   "outputs": [
    {
     "name": "stdout",
     "output_type": "stream",
     "text": [
      "5 1 2 3 4 5\n"
     ]
    }
   ],
   "source": [
    "N =list(input())"
   ]
  },
  {
   "cell_type": "code",
   "execution_count": 36,
   "id": "4b07127f",
   "metadata": {},
   "outputs": [
    {
     "data": {
      "text/plain": [
       "list"
      ]
     },
     "execution_count": 36,
     "metadata": {},
     "output_type": "execute_result"
    }
   ],
   "source": [
    "type(N)"
   ]
  },
  {
   "cell_type": "code",
   "execution_count": 37,
   "id": "746ca6d5",
   "metadata": {},
   "outputs": [
    {
     "data": {
      "text/plain": [
       "['5', ' ', '1', ' ', '2', ' ', '3', ' ', '4', ' ', '5']"
      ]
     },
     "execution_count": 37,
     "metadata": {},
     "output_type": "execute_result"
    }
   ],
   "source": [
    "N"
   ]
  },
  {
   "cell_type": "code",
   "execution_count": 38,
   "id": "6d0cb09b",
   "metadata": {},
   "outputs": [
    {
     "name": "stdout",
     "output_type": "stream",
     "text": [
      "5 1 2 3 4 5\n"
     ]
    },
    {
     "ename": "ValueError",
     "evalue": "invalid literal for int() with base 10: '5 1 2 3 4 5'",
     "output_type": "error",
     "traceback": [
      "\u001b[0;31m---------------------------------------------------------------------------\u001b[0m",
      "\u001b[0;31mValueError\u001b[0m                                Traceback (most recent call last)",
      "Cell \u001b[0;32mIn [38], line 1\u001b[0m\n\u001b[0;32m----> 1\u001b[0m N \u001b[38;5;241m=\u001b[39m \u001b[38;5;28mint\u001b[39m(\u001b[38;5;28minput\u001b[39m())\n\u001b[1;32m      2\u001b[0m lst \u001b[38;5;241m=\u001b[39m []\n\u001b[1;32m      3\u001b[0m \u001b[38;5;28;01mfor\u001b[39;00m i \u001b[38;5;129;01min\u001b[39;00m \u001b[38;5;28mrange\u001b[39m(N):\n",
      "\u001b[0;31mValueError\u001b[0m: invalid literal for int() with base 10: '5 1 2 3 4 5'"
     ]
    }
   ],
   "source": [
    "N = int(input())\n",
    "lst = []\n",
    "for i in range(N):\n",
    "    num = int(input())\n",
    "    lst.append(num)\n",
    "    \n",
    "#print(lst)"
   ]
  },
  {
   "cell_type": "code",
   "execution_count": 2,
   "id": "d8a985cd",
   "metadata": {},
   "outputs": [
    {
     "name": "stdout",
     "output_type": "stream",
     "text": [
      "5 1 2 3 4 5\n",
      "5 1\n"
     ]
    }
   ],
   "source": [
    "N = input().split(\" \")\n",
    "\n",
    "lst =[]\n",
    "\n",
    "\n",
    "for i in range(1, len(N)):\n",
    "    lst.append(int(N[i]))\n",
    "\n",
    "print(max(lst), min(lst))\n"
   ]
  },
  {
   "cell_type": "code",
   "execution_count": 3,
   "id": "995430a9",
   "metadata": {},
   "outputs": [
    {
     "name": "stdout",
     "output_type": "stream",
     "text": [
      "5 1 2 3 4 5\n",
      "5 1\n"
     ]
    }
   ],
   "source": [
    "lst = [int(x) for x in input().split()]\n",
    "\n",
    "#remove te first element\n",
    "#denoting no. of elements\n",
    "lst = lst[1:]\n",
    "\n",
    "print(max(lst), min(lst))"
   ]
  },
  {
   "cell_type": "code",
   "execution_count": 2,
   "id": "620cc7be",
   "metadata": {},
   "outputs": [
    {
     "name": "stdout",
     "output_type": "stream",
     "text": [
      "4\n",
      "1 2 3 4 5 6 -2 \n",
      "5\n"
     ]
    }
   ],
   "source": [
    "def secondlargest(arr: list):\n",
    "    maxi = max(arr)\n",
    "    \n",
    "    new_arr = [x for x in arr if x!=maxi]\n",
    "\n",
    "    maxi2 = max(new_arr)\n",
    "\n",
    "    if len(new_arr)>0:\n",
    "        return maxi2\n",
    "    else:\n",
    "        return \"NA\"\n",
    "\n",
    "\n",
    "\n",
    "def main():\n",
    "    # YOUR CODE GOES HERE\n",
    "    # Please take input and print output to standard input/output (stdin/stdout)\n",
    "    # E.g. 'input()/raw_input()' for input & 'print' for output\n",
    "\n",
    "    N = int(input())\n",
    "\n",
    "    A = list(map(int, input().split()))\n",
    "    \n",
    "    print(secondlargest(A))\n",
    "    return secondlargest(A)\n",
    "\n",
    "if __name__ == '__main__':\n",
    "    main()"
   ]
  },
  {
   "cell_type": "code",
   "execution_count": 1,
   "id": "bb953061",
   "metadata": {},
   "outputs": [],
   "source": [
    "lst = [1, 2, 3, 4, 5, 6, 7, 8, 9, 10]\n",
    "final_list = [8,6,4]\n",
    "\n"
   ]
  },
  {
   "cell_type": "code",
   "execution_count": 2,
   "id": "fd8b0aea",
   "metadata": {},
   "outputs": [
    {
     "data": {
      "text/plain": [
       "[10, 9, 8, 7, 6, 5, 4, 3, 2, 1]"
      ]
     },
     "execution_count": 2,
     "metadata": {},
     "output_type": "execute_result"
    }
   ],
   "source": [
    "first_slice = lst[::-1]\n",
    "first_slice"
   ]
  },
  {
   "cell_type": "code",
   "execution_count": 4,
   "id": "38534659",
   "metadata": {},
   "outputs": [
    {
     "data": {
      "text/plain": [
       "[10, 9, 8, 7, 6, 5, 4]"
      ]
     },
     "execution_count": 4,
     "metadata": {},
     "output_type": "execute_result"
    }
   ],
   "source": [
    "second_slice = first_slice[:7]\n",
    "second_slice"
   ]
  },
  {
   "cell_type": "code",
   "execution_count": 5,
   "id": "c1ed8cc0",
   "metadata": {},
   "outputs": [
    {
     "data": {
      "text/plain": [
       "[8, 7, 6, 5, 4]"
      ]
     },
     "execution_count": 5,
     "metadata": {},
     "output_type": "execute_result"
    }
   ],
   "source": [
    "third_slice = second_slice[2:]\n",
    "third_slice"
   ]
  },
  {
   "cell_type": "code",
   "execution_count": 7,
   "id": "0cf56672",
   "metadata": {},
   "outputs": [
    {
     "data": {
      "text/plain": [
       "[8, 6, 4]"
      ]
     },
     "execution_count": 7,
     "metadata": {},
     "output_type": "execute_result"
    }
   ],
   "source": [
    "last_slice = third_slice[::2]\n",
    "last_slice"
   ]
  },
  {
   "cell_type": "code",
   "execution_count": 9,
   "id": "73ba325d",
   "metadata": {},
   "outputs": [
    {
     "data": {
      "text/plain": [
       "[2, 3, 4, 5, 2]"
      ]
     },
     "execution_count": 9,
     "metadata": {},
     "output_type": "execute_result"
    }
   ],
   "source": [
    "A = [2,3,4,5,6,2]\n",
    "\n",
    "largest = max(A)\n",
    "largest\n",
    "A.remove(largest)\n",
    "A"
   ]
  },
  {
   "cell_type": "code",
   "execution_count": 10,
   "id": "13f2bfeb",
   "metadata": {},
   "outputs": [],
   "source": [
    "for i in range(len(A)):\n",
    "    if A[i] == largest:\n",
    "        A.remove(largest)"
   ]
  },
  {
   "cell_type": "code",
   "execution_count": 8,
   "id": "bcc01421",
   "metadata": {},
   "outputs": [
    {
     "data": {
      "text/plain": [
       "[2, 3, 4, 5, 2]"
      ]
     },
     "execution_count": 8,
     "metadata": {},
     "output_type": "execute_result"
    }
   ],
   "source": [
    "A"
   ]
  },
  {
   "cell_type": "code",
   "execution_count": 14,
   "id": "1df0590d",
   "metadata": {
    "scrolled": true
   },
   "outputs": [
    {
     "data": {
      "text/plain": [
       "5"
      ]
     },
     "execution_count": 14,
     "metadata": {},
     "output_type": "execute_result"
    }
   ],
   "source": [
    "max(A)"
   ]
  },
  {
   "cell_type": "code",
   "execution_count": 13,
   "id": "6758b3ea",
   "metadata": {},
   "outputs": [
    {
     "name": "stdout",
     "output_type": "stream",
     "text": [
      "no of test cases1\n",
      "enter a value of A:2\n",
      "3\n",
      "[3]\n",
      "enter a value of B:3\n",
      "B is in list\n"
     ]
    }
   ],
   "source": [
    "T = int(input(\"no of test cases\"))\n",
    "\n",
    "for i in range(T):\n",
    "    A = int(input(\"enter a value of A:\"))\n",
    "    lstA = [int(x) for x in input().split()]\n",
    "    #lstA = input().split()\n",
    "    print(lstA)\n",
    "    B = int(input(\"enter a value of B:\"))\n",
    "        \n",
    "        \n",
    "    if B not in lstA:\n",
    "        print(\"B is NOT in list\")\n",
    "    else:\n",
    "        print(\"B is in list\")"
   ]
  },
  {
   "cell_type": "markdown",
   "id": "5f518222",
   "metadata": {},
   "source": [
    "### binary to decimal\n"
   ]
  },
  {
   "cell_type": "code",
   "execution_count": 34,
   "id": "0806ec5c",
   "metadata": {},
   "outputs": [],
   "source": [
    "def bin_to_dec(x:str):\n",
    "    \n",
    "    decval = 0\n",
    "    index = 0\n",
    "    \n",
    "    #loop over the idices in reverse\n",
    "    for i in x[::-1]:\n",
    "        #print(i)\n",
    "        #print(\"found 1\")\n",
    "        decval += int(i)*2**index\n",
    "        index+=1\n",
    "            \n",
    "    return decval\n",
    "        \n",
    "            "
   ]
  },
  {
   "cell_type": "code",
   "execution_count": 35,
   "id": "853b283a",
   "metadata": {},
   "outputs": [
    {
     "data": {
      "text/plain": [
       "31"
      ]
     },
     "execution_count": 35,
     "metadata": {},
     "output_type": "execute_result"
    }
   ],
   "source": [
    "bin_to_dec(\"11111\")"
   ]
  },
  {
   "cell_type": "code",
   "execution_count": 25,
   "id": "b997d35a",
   "metadata": {},
   "outputs": [],
   "source": [
    "def dec_to_bin(x:int):\n",
    "    stri = \"\"\n",
    "    while x>0:\n",
    "        rem = x%8\n",
    "        x = x//8\n",
    "        stri = str(rem) + stri\n",
    "    return int(stri)"
   ]
  },
  {
   "cell_type": "code",
   "execution_count": 33,
   "id": "68072eb4",
   "metadata": {},
   "outputs": [
    {
     "data": {
      "text/plain": [
       "110"
      ]
     },
     "execution_count": 33,
     "metadata": {},
     "output_type": "execute_result"
    }
   ],
   "source": [
    "dec_to_bin(72)"
   ]
  },
  {
   "cell_type": "code",
   "execution_count": null,
   "id": "cce389d3",
   "metadata": {},
   "outputs": [],
   "source": []
  }
 ],
 "metadata": {
  "kernelspec": {
   "display_name": "Python 3 (ipykernel)",
   "language": "python",
   "name": "python3"
  },
  "language_info": {
   "codemirror_mode": {
    "name": "ipython",
    "version": 3
   },
   "file_extension": ".py",
   "mimetype": "text/x-python",
   "name": "python",
   "nbconvert_exporter": "python",
   "pygments_lexer": "ipython3",
   "version": "3.9.5"
  }
 },
 "nbformat": 4,
 "nbformat_minor": 5
}
