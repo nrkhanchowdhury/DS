{
 "cells": [
  {
   "cell_type": "markdown",
   "id": "8a07c934",
   "metadata": {},
   "source": [
    "### Sorting \n",
    "\n",
    "#### Insertion step"
   ]
  },
  {
   "cell_type": "markdown",
   "id": "b5d96a22",
   "metadata": {},
   "source": []
  },
  {
   "cell_type": "code",
   "execution_count": 4,
   "id": "e9b1f36a",
   "metadata": {},
   "outputs": [],
   "source": [
    "# Given an array of N elements, find the kth smallest elememts\n",
    "\n",
    "arr = [12,3,4,6,7,-2,8,9,32,3,-2,0,-1]\n",
    "k = 3"
   ]
  },
  {
   "cell_type": "code",
   "execution_count": 5,
   "id": "8125ac21",
   "metadata": {},
   "outputs": [
    {
     "name": "stdout",
     "output_type": "stream",
     "text": [
      "[-2, -2, -1, 0, 3, 3, 4, 6, 7, 8, 9, 12, 32]\n"
     ]
    },
    {
     "data": {
      "text/plain": [
       "-1"
      ]
     },
     "execution_count": 5,
     "metadata": {},
     "output_type": "execute_result"
    }
   ],
   "source": [
    "arr.sort()\n",
    "print(arr)\n",
    "arr[k-1]"
   ]
  },
  {
   "cell_type": "code",
   "execution_count": 11,
   "id": "ad997791",
   "metadata": {},
   "outputs": [],
   "source": [
    "A = [1,2,4,5,6,7,9,4] #insert last element in the sorted position\n",
    "N = len(A)"
   ]
  },
  {
   "cell_type": "code",
   "execution_count": 12,
   "id": "eb600147",
   "metadata": {},
   "outputs": [],
   "source": [
    "for j in range(N-2,-1,-1):\n",
    "    #swap if j'th element is greater than (j+1)th element\n",
    "    if A[j]>A[j+1]:\n",
    "        A[j],A[j+1] = A[j+1], A[j]\n",
    "    else:\n",
    "        break\n",
    "## TC: O(n) "
   ]
  },
  {
   "cell_type": "code",
   "execution_count": 10,
   "id": "00f63b35",
   "metadata": {},
   "outputs": [
    {
     "data": {
      "text/plain": [
       "[1, 2, 4, 4, 5, 6, 7, 9]"
      ]
     },
     "execution_count": 10,
     "metadata": {},
     "output_type": "execute_result"
    }
   ],
   "source": [
    "A"
   ]
  },
  {
   "cell_type": "markdown",
   "id": "3c196d2d",
   "metadata": {},
   "source": [
    "#### Sort an entire array using the insertion step"
   ]
  },
  {
   "cell_type": "code",
   "execution_count": 14,
   "id": "4092d8e8",
   "metadata": {},
   "outputs": [],
   "source": [
    "A = [2,5,7,4,2,34,12,33,23,15]\n",
    "N=len(A)"
   ]
  },
  {
   "cell_type": "code",
   "execution_count": 19,
   "id": "c0a939a2",
   "metadata": {},
   "outputs": [],
   "source": [
    "def insertion_sort(A):\n",
    "    N = len(A)\n",
    "    \n",
    "    \n",
    "    for i in range(1,N):\n",
    "        #insert A[i] using insertion step\n",
    "        print(A[:i],\"|\",A[i:])\n",
    "        for j in range(i-1,-1,-1):\n",
    "            if A[j]>A[j+1]:\n",
    "                A[j],A[j+1] = A[j+1], A[j]\n",
    "            else:\n",
    "                break\n",
    "        #debug\n",
    "    return A\n",
    "            \n",
    "        "
   ]
  },
  {
   "cell_type": "code",
   "execution_count": 20,
   "id": "4885939c",
   "metadata": {},
   "outputs": [
    {
     "name": "stdout",
     "output_type": "stream",
     "text": [
      "[2] | [2, 4, 5, 7, 12, 15, 23, 33, 34]\n",
      "[2, 2] | [4, 5, 7, 12, 15, 23, 33, 34]\n",
      "[2, 2, 4] | [5, 7, 12, 15, 23, 33, 34]\n",
      "[2, 2, 4, 5] | [7, 12, 15, 23, 33, 34]\n",
      "[2, 2, 4, 5, 7] | [12, 15, 23, 33, 34]\n",
      "[2, 2, 4, 5, 7, 12] | [15, 23, 33, 34]\n",
      "[2, 2, 4, 5, 7, 12, 15] | [23, 33, 34]\n",
      "[2, 2, 4, 5, 7, 12, 15, 23] | [33, 34]\n",
      "[2, 2, 4, 5, 7, 12, 15, 23, 33] | [34]\n"
     ]
    },
    {
     "data": {
      "text/plain": [
       "[2, 2, 4, 5, 7, 12, 15, 23, 33, 34]"
      ]
     },
     "execution_count": 20,
     "metadata": {},
     "output_type": "execute_result"
    }
   ],
   "source": [
    "insertion_sort(A)"
   ]
  },
  {
   "cell_type": "markdown",
   "id": "f50d97a9",
   "metadata": {},
   "source": [
    "#### Q3 Given 2 sorted arrays of size M and N, merge and return new sorted array"
   ]
  },
  {
   "cell_type": "code",
   "execution_count": 24,
   "id": "bfc88d2f",
   "metadata": {},
   "outputs": [],
   "source": [
    "\n",
    "\n",
    "def merge(A,B):\n",
    "    i = 0\n",
    "    j = 0\n",
    "    c = []\n",
    "\n",
    "    while i< len(A) and j<len(B):\n",
    "        #compare and move \n",
    "        if A[i] <= B[j]:\n",
    "            c.append(A[i])\n",
    "            i+=1\n",
    "        else:\n",
    "            c.append(B[j])\n",
    "            j+=1\n",
    "    #copy remaining elements\n",
    "    while i < len(A):\n",
    "        c.append(A[i])\n",
    "        i+=1\n",
    "    while j<len(B):\n",
    "        c.append(B[j])\n",
    "        j+=1\n",
    "    \n",
    "    return c"
   ]
  },
  {
   "cell_type": "code",
   "execution_count": null,
   "id": "cdb047c1",
   "metadata": {},
   "outputs": [],
   "source": [
    "A= [2,3,5,7,8,9,12]\n",
    "B= [1,2,4,6,8,9,13]"
   ]
  },
  {
   "cell_type": "code",
   "execution_count": 25,
   "id": "f9266622",
   "metadata": {},
   "outputs": [
    {
     "data": {
      "text/plain": [
       "[1, 2, 2, 3, 4, 5, 6, 7, 8, 8, 9, 9, 12, 13]"
      ]
     },
     "execution_count": 25,
     "metadata": {},
     "output_type": "execute_result"
    }
   ],
   "source": [
    "merge(A,B)"
   ]
  },
  {
   "cell_type": "code",
   "execution_count": null,
   "id": "11ac18f4",
   "metadata": {},
   "outputs": [],
   "source": []
  }
 ],
 "metadata": {
  "kernelspec": {
   "display_name": "Python 3 (ipykernel)",
   "language": "python",
   "name": "python3"
  },
  "language_info": {
   "codemirror_mode": {
    "name": "ipython",
    "version": 3
   },
   "file_extension": ".py",
   "mimetype": "text/x-python",
   "name": "python",
   "nbconvert_exporter": "python",
   "pygments_lexer": "ipython3",
   "version": "3.9.5"
  }
 },
 "nbformat": 4,
 "nbformat_minor": 5
}
