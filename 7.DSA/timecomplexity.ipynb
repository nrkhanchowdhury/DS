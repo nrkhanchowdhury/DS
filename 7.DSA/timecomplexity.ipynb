{
 "cells": [
  {
   "cell_type": "markdown",
   "id": "258abd38",
   "metadata": {},
   "source": [
    "## space and time complexity\n",
    "\n",
    "#### measure of the time and space a algo takes"
   ]
  },
  {
   "cell_type": "code",
   "execution_count": 1,
   "id": "62d42fa2",
   "metadata": {},
   "outputs": [
    {
     "data": {
      "text/plain": [
       "'\\nl is a list of size n.\\n\\nprob: \"q\"->query\\nfind if q exists in l\\n\\nsoln:\\ncheck each element in l sequentially\\n\\nworst case: n comparisons\\nbest case: 1 comparison\\n'"
      ]
     },
     "execution_count": 1,
     "metadata": {},
     "output_type": "execute_result"
    }
   ],
   "source": [
    "\"\"\"\n",
    "l is a list of size n.\n",
    "\n",
    "prob: \"q\"->query\n",
    "find if q exists in l\n",
    "\n",
    "soln:\n",
    "check each element in l sequentially\n",
    "\n",
    "worst case: n comparisons\n",
    "best case: 1 comparison\n",
    "\"\"\""
   ]
  },
  {
   "cell_type": "code",
   "execution_count": 15,
   "id": "d37afefc",
   "metadata": {},
   "outputs": [],
   "source": [
    "import numpy as np\n",
    "import random\n",
    "import math"
   ]
  },
  {
   "cell_type": "code",
   "execution_count": 3,
   "id": "108da0ff",
   "metadata": {},
   "outputs": [
    {
     "data": {
      "text/plain": [
       "[10,\n",
       " 79,\n",
       " 27,\n",
       " 0,\n",
       " 94,\n",
       " 38,\n",
       " 8,\n",
       " 99,\n",
       " 72,\n",
       " 48,\n",
       " 60,\n",
       " 26,\n",
       " 33,\n",
       " 32,\n",
       " 65,\n",
       " 77,\n",
       " 95,\n",
       " 88,\n",
       " 59,\n",
       " 29,\n",
       " 50,\n",
       " 44,\n",
       " 16,\n",
       " 49,\n",
       " 17,\n",
       " 4,\n",
       " 69,\n",
       " 15,\n",
       " 42,\n",
       " 98,\n",
       " 92,\n",
       " 51,\n",
       " 81,\n",
       " 46,\n",
       " 37,\n",
       " 53,\n",
       " 23,\n",
       " 62,\n",
       " 85,\n",
       " 22,\n",
       " 96,\n",
       " 40,\n",
       " 24,\n",
       " 7,\n",
       " 36,\n",
       " 54,\n",
       " 25,\n",
       " 3,\n",
       " 71,\n",
       " 21,\n",
       " 19,\n",
       " 66,\n",
       " 97,\n",
       " 2,\n",
       " 89,\n",
       " 1,\n",
       " 52,\n",
       " 31,\n",
       " 55,\n",
       " 18,\n",
       " 47,\n",
       " 41,\n",
       " 74,\n",
       " 86,\n",
       " 35,\n",
       " 6,\n",
       " 20,\n",
       " 45,\n",
       " 39,\n",
       " 63,\n",
       " 91,\n",
       " 82,\n",
       " 80,\n",
       " 11,\n",
       " 70,\n",
       " 28,\n",
       " 13,\n",
       " 12,\n",
       " 83,\n",
       " 93,\n",
       " 73,\n",
       " 9,\n",
       " 68,\n",
       " 14,\n",
       " 56,\n",
       " 61,\n",
       " 58,\n",
       " 64,\n",
       " 84,\n",
       " 34,\n",
       " 75,\n",
       " 87,\n",
       " 30,\n",
       " 78,\n",
       " 5,\n",
       " 57,\n",
       " 90,\n",
       " 67,\n",
       " 43,\n",
       " 76]"
      ]
     },
     "execution_count": 3,
     "metadata": {},
     "output_type": "execute_result"
    }
   ],
   "source": [
    "l = list(range(100))\n",
    "random.shuffle(l)\n",
    "l # not sorted"
   ]
  },
  {
   "cell_type": "code",
   "execution_count": 7,
   "id": "12bdde75",
   "metadata": {},
   "outputs": [
    {
     "name": "stdout",
     "output_type": "stream",
     "text": [
      "Found\n"
     ]
    }
   ],
   "source": [
    "# search for an element q in the list: O(n) where n is len(list)\n",
    "q = 31 #1\n",
    "isFound = False #1\n",
    "for ele in l:  # n times \n",
    "    if ele==31: #1\n",
    "        print(\"Found\") #1\n",
    "        isFound = True #1\n",
    "        break #1\n",
    "if isFound == False: #1\n",
    "    print(\"Not Found\")#1\n",
    "        \n",
    "#tot time = 2 + 4n + 2 = 4n+4 units of time\n",
    "# Time complexity = O(n)"
   ]
  },
  {
   "cell_type": "code",
   "execution_count": 12,
   "id": "021f0a41",
   "metadata": {},
   "outputs": [
    {
     "name": "stdout",
     "output_type": "stream",
     "text": [
      "1\n",
      "2\n",
      "3\n",
      "4\n",
      "5\n"
     ]
    },
    {
     "data": {
      "text/plain": [
       "'\\nmax value of i = sqrt(N)\\n\\n# of iterations = [1, sqrt(N)] = sqrt(N)-1+1 = sqrt(N)\\n\\nTime complexity = O(sqrt(n))\\n'"
      ]
     },
     "execution_count": 12,
     "metadata": {},
     "output_type": "execute_result"
    }
   ],
   "source": [
    "N = 25\n",
    "i = 1\n",
    "while i*i <=N:\n",
    "    print(i)\n",
    "    i+=1\n",
    "\"\"\"\n",
    "max value of i = sqrt(N)\n",
    "\n",
    "# of iterations = [1, sqrt(N)] = sqrt(N)-1+1 = sqrt(N)\n",
    "\n",
    "Time complexity = O(sqrt(n))\n",
    "\"\"\""
   ]
  },
  {
   "cell_type": "code",
   "execution_count": 24,
   "id": "41ac3d05",
   "metadata": {},
   "outputs": [
    {
     "name": "stdout",
     "output_type": "stream",
     "text": [
      "100 1\n",
      "50 2\n",
      "25 3\n",
      "12 4\n",
      "6 5\n",
      "3 6\n"
     ]
    },
    {
     "data": {
      "text/plain": [
       "6.643856189774725"
      ]
     },
     "execution_count": 24,
     "metadata": {},
     "output_type": "execute_result"
    }
   ],
   "source": [
    "N = 100\n",
    "i = N\n",
    "itera = 0\n",
    "while i>1:\n",
    "    itera +=1\n",
    "    print(i, itera)\n",
    "    i = i//2\n",
    "# no of iterations = 3\n",
    "math.log(N,2) # int of log(N) base 2 ==3\n",
    "\n",
    "# Time complexity = log(N)"
   ]
  },
  {
   "cell_type": "code",
   "execution_count": 25,
   "id": "63fac2f5",
   "metadata": {},
   "outputs": [
    {
     "ename": "KeyboardInterrupt",
     "evalue": "",
     "output_type": "error",
     "traceback": [
      "\u001b[0;31m---------------------------------------------------------------------------\u001b[0m",
      "\u001b[0;31mKeyboardInterrupt\u001b[0m                         Traceback (most recent call last)",
      "Cell \u001b[0;32mIn [25], line 3\u001b[0m\n\u001b[1;32m      1\u001b[0m N \u001b[38;5;241m=\u001b[39m \u001b[38;5;241m10\u001b[39m\n\u001b[1;32m      2\u001b[0m i \u001b[38;5;241m=\u001b[39m \u001b[38;5;241m0\u001b[39m\n\u001b[0;32m----> 3\u001b[0m \u001b[38;5;28;01mwhile\u001b[39;00m i\u001b[38;5;241m<\u001b[39m\u001b[38;5;241m=\u001b[39mN:\n\u001b[1;32m      4\u001b[0m     i\u001b[38;5;241m*\u001b[39m\u001b[38;5;241m=\u001b[39m\u001b[38;5;241m2\u001b[39m\n",
      "\u001b[0;31mKeyboardInterrupt\u001b[0m: "
     ]
    }
   ],
   "source": [
    "N = 10\n",
    "i = 0\n",
    "while i<=N:\n",
    "    i*=2 \n",
    "    \n",
    "# i is always 0!!\n",
    "# infinite loop"
   ]
  },
  {
   "cell_type": "markdown",
   "id": "616d473d",
   "metadata": {},
   "source": [
    "## Nested Loops"
   ]
  },
  {
   "cell_type": "code",
   "execution_count": 35,
   "id": "0489e314",
   "metadata": {},
   "outputs": [
    {
     "name": "stdout",
     "output_type": "stream",
     "text": [
      "0 0\n",
      "0 1\n",
      "0 2\n",
      "0 3\n",
      "0 4\n",
      "0 5\n",
      "0 6\n",
      "0 7\n",
      "0 8\n",
      "0 9\n",
      "setps: 10\n",
      "1 0\n",
      "1 1\n",
      "1 2\n",
      "1 3\n",
      "1 4\n",
      "1 5\n",
      "1 6\n",
      "1 7\n",
      "1 8\n",
      "1 9\n",
      "setps: 10\n",
      "2 0\n",
      "2 1\n",
      "2 2\n",
      "2 3\n",
      "2 4\n",
      "2 5\n",
      "2 6\n",
      "2 7\n",
      "2 8\n",
      "2 9\n",
      "setps: 10\n",
      "3 0\n",
      "3 1\n",
      "3 2\n",
      "3 3\n",
      "3 4\n",
      "3 5\n",
      "3 6\n",
      "3 7\n",
      "3 8\n",
      "3 9\n",
      "setps: 10\n",
      "4 0\n",
      "4 1\n",
      "4 2\n",
      "4 3\n",
      "4 4\n",
      "4 5\n",
      "4 6\n",
      "4 7\n",
      "4 8\n",
      "4 9\n",
      "setps: 10\n",
      "5 0\n",
      "5 1\n",
      "5 2\n",
      "5 3\n",
      "5 4\n",
      "5 5\n",
      "5 6\n",
      "5 7\n",
      "5 8\n",
      "5 9\n",
      "setps: 10\n",
      "6 0\n",
      "6 1\n",
      "6 2\n",
      "6 3\n",
      "6 4\n",
      "6 5\n",
      "6 6\n",
      "6 7\n",
      "6 8\n",
      "6 9\n",
      "setps: 10\n",
      "7 0\n",
      "7 1\n",
      "7 2\n",
      "7 3\n",
      "7 4\n",
      "7 5\n",
      "7 6\n",
      "7 7\n",
      "7 8\n",
      "7 9\n",
      "setps: 10\n",
      "8 0\n",
      "8 1\n",
      "8 2\n",
      "8 3\n",
      "8 4\n",
      "8 5\n",
      "8 6\n",
      "8 7\n",
      "8 8\n",
      "8 9\n",
      "setps: 10\n",
      "9 0\n",
      "9 1\n",
      "9 2\n",
      "9 3\n",
      "9 4\n",
      "9 5\n",
      "9 6\n",
      "9 7\n",
      "9 8\n",
      "9 9\n",
      "setps: 10\n"
     ]
    },
    {
     "data": {
      "text/plain": [
       "'\\nFor each value of i [0,N], j runs from 0 to N-1 \\n\\nj runs N-1+1 = N times\\ni runs N-1+1 = N times\\ntotal iters = N*N\\n\\nTime complex = O(N**2)\\n\\n'"
      ]
     },
     "execution_count": 35,
     "metadata": {},
     "output_type": "execute_result"
    }
   ],
   "source": [
    "N = 10\n",
    "ans = 0\n",
    "for i in range(0,N):\n",
    "    steps = 0\n",
    "    for j in range(0,N):\n",
    "        print(i,j)\n",
    "        steps+=1 #debug\n",
    "        ans+=1\n",
    "    print(\"setps:\", steps)\n",
    "\"\"\"\n",
    "For each value of i [0,N], j runs from 0 to N-1 \n",
    "\n",
    "j runs N-1+1 = N times\n",
    "i runs N-1+1 = N times\n",
    "total iters = N*N\n",
    "\n",
    "Time complex = O(N**2)\n",
    "\n",
    "\"\"\""
   ]
  },
  {
   "cell_type": "code",
   "execution_count": 33,
   "id": "4859f431",
   "metadata": {},
   "outputs": [
    {
     "name": "stdout",
     "output_type": "stream",
     "text": [
      "0 0\n",
      "steps: 1\n",
      "1 0\n",
      "1 1\n",
      "steps: 2\n",
      "2 0\n",
      "2 1\n",
      "2 2\n",
      "steps: 3\n",
      "3 0\n",
      "3 1\n",
      "3 2\n",
      "3 3\n",
      "steps: 4\n",
      "4 0\n",
      "4 1\n",
      "4 2\n",
      "4 3\n",
      "4 4\n",
      "steps: 5\n",
      "5 0\n",
      "5 1\n",
      "5 2\n",
      "5 3\n",
      "5 4\n",
      "5 5\n",
      "steps: 6\n",
      "6 0\n",
      "6 1\n",
      "6 2\n",
      "6 3\n",
      "6 4\n",
      "6 5\n",
      "6 6\n",
      "steps: 7\n",
      "7 0\n",
      "7 1\n",
      "7 2\n",
      "7 3\n",
      "7 4\n",
      "7 5\n",
      "7 6\n",
      "7 7\n",
      "steps: 8\n",
      "8 0\n",
      "8 1\n",
      "8 2\n",
      "8 3\n",
      "8 4\n",
      "8 5\n",
      "8 6\n",
      "8 7\n",
      "8 8\n",
      "steps: 9\n",
      "9 0\n",
      "9 1\n",
      "9 2\n",
      "9 3\n",
      "9 4\n",
      "9 5\n",
      "9 6\n",
      "9 7\n",
      "9 8\n",
      "9 9\n",
      "steps: 10\n"
     ]
    },
    {
     "data": {
      "text/plain": [
       "'\\ni = 0, j = 0,       steps = 1\\ni = 1, j = 0, 1,    steps = 2\\ni = 2, j = 0, 1, 2, steps = 3\\n............................\\n............................\\ni = N, j = 0(2)N,   steps = N\\n\\n1+2+3+...+N = N(N-1)/2\\n\\nTime complexity = O(N**2)\\n\\n'"
      ]
     },
     "execution_count": 33,
     "metadata": {},
     "output_type": "execute_result"
    }
   ],
   "source": [
    "ans = 0\n",
    "\n",
    "for i in range(0,N):\n",
    "    steps = 0\n",
    "    for j in range(0, i+1):\n",
    "        print(i, j) #debug\n",
    "        steps +=1   #debug\n",
    "        ans +=1\n",
    "    print(\"steps:\", steps) #debug\n",
    "        \n",
    "\"\"\"\n",
    "i = 0, j = 0,       steps = 1\n",
    "i = 1, j = 0, 1,    steps = 2\n",
    "i = 2, j = 0, 1, 2, steps = 3\n",
    "............................\n",
    "............................\n",
    "i = N, j = 0(2)N,   steps = N\n",
    "\n",
    "1+2+3+...+N = N(N-1)/2\n",
    "\n",
    "Time complexity = O(N**2)\n",
    "\n",
    "\"\"\""
   ]
  },
  {
   "cell_type": "markdown",
   "id": "3d829435",
   "metadata": {},
   "source": [
    "## Big-O notation rules\n",
    "\n",
    "#### 1. Find # of iters\n",
    "#### 2. Ignore lower order terms\n",
    "#### 3. Ignore any constants"
   ]
  },
  {
   "cell_type": "markdown",
   "id": "2fd2e1c9",
   "metadata": {},
   "source": [
    "N**2 + N + Nlogn + 5;\n",
    "TC = N**2"
   ]
  },
  {
   "cell_type": "code",
   "execution_count": 38,
   "id": "343757c4",
   "metadata": {},
   "outputs": [
    {
     "name": "stdout",
     "output_type": "stream",
     "text": [
      "10 5 15\n"
     ]
    }
   ],
   "source": [
    "a = 10          \n",
    "b = 2 + 3      \n",
    "c = a + b\n",
    "print(a,b,c)\n",
    "\n",
    "#TC = O(1)"
   ]
  },
  {
   "cell_type": "code",
   "execution_count": 39,
   "id": "bca8c6ee",
   "metadata": {},
   "outputs": [
    {
     "name": "stdout",
     "output_type": "stream",
     "text": [
      "3\n",
      "0\n",
      "1\n",
      "2\n"
     ]
    }
   ],
   "source": [
    "N = int(input())\n",
    "x = 1 #1\n",
    "y = 2 #1\n",
    "i=0   #1\n",
    "while i < N: #N\n",
    "    print(i) #1\n",
    "    i+=1     #1\n",
    "    \n",
    "#TC = 3*N + 3 = O(N)"
   ]
  },
  {
   "cell_type": "code",
   "execution_count": 59,
   "id": "421eaebf",
   "metadata": {},
   "outputs": [
    {
     "name": "stderr",
     "output_type": "stream",
     "text": [
      "/var/folders/21/vgybxt6529g5wrtxj6dvczdm0000gn/T/ipykernel_17971/1703487712.py:7: RuntimeWarning: divide by zero encountered in log\n",
      "  y = x*np.log(x)\n",
      "/var/folders/21/vgybxt6529g5wrtxj6dvczdm0000gn/T/ipykernel_17971/1703487712.py:7: RuntimeWarning: invalid value encountered in multiply\n",
      "  y = x*np.log(x)\n"
     ]
    },
    {
     "data": {
      "image/png": "[encoded data removed]",
      "text/plain": [
       "<Figure size 640x480 with 1 Axes>"
      ]
     },
     "metadata": {},
     "output_type": "display_data"
    }
   ],
   "source": [
    "# F = 4Nlog(N) + Nsqrt(N)+ 10**6\n",
    "\n",
    "# lets plot nlogn and Nsqrt(n)\n",
    "\n",
    "import matplotlib.pyplot as plt\n",
    "x = np.linspace(0,500,10000)\n",
    "y = x*np.log(x)\n",
    "y2 = x*np.sqrt(x)\n",
    "plt.plot(x,y, label='$y=xlog(x)$')\n",
    "plt.plot(x,y2, label = '$y=xsqrt(x)$')\n",
    "plt.legend()\n",
    "plt.show()\n",
    "\n",
    "\n",
    "#TC = O(Nsqrt(N))  Nsqrt(N) > Nlog(N)"
   ]
  },
  {
   "cell_type": "code",
   "execution_count": 68,
   "id": "0eedf6d5",
   "metadata": {},
   "outputs": [
    {
     "data": {
      "image/png": "[encoded data removed]",
      "text/plain": [
       "<Figure size 640x480 with 1 Axes>"
      ]
     },
     "metadata": {},
     "output_type": "display_data"
    }
   ],
   "source": [
    "# F = 4N**2 + 2**N + 10**6\n",
    "\n",
    "x = np.linspace(-20,20,10000)\n",
    "y = [2**x for x in x]\n",
    "y2 = [x**2 for x in x]\n",
    "plt.plot(x,y, label='$y=2**x$')\n",
    "plt.plot(x,y2, label = '$y=x**2$')\n",
    "plt.legend() #print the labels\n",
    "plt.grid()\n",
    "plt.ylim(0, 100)\n",
    "plt.xlim(-10,10)\n",
    "plt.show()\n",
    "\n",
    "\n",
    "#TC = O(2**N) "
   ]
  },
  {
   "cell_type": "markdown",
   "id": "782fe4af",
   "metadata": {},
   "source": [
    "### Big-O complexity chart"
   ]
  },
  {
   "cell_type": "code",
   "execution_count": 97,
   "id": "d2cf3972",
   "metadata": {},
   "outputs": [
    {
     "data": {
      "image/png": "[encoded data removed]",
      "text/plain": [
       "<Figure size 640x480 with 1 Axes>"
      ]
     },
     "metadata": {},
     "output_type": "display_data"
    }
   ],
   "source": [
    "x = np.linspace(1,50,50)\n",
    "y0 = [1 for x in x]\n",
    "y1 = [math.log10(x) for x in x]\n",
    "y2 = [x for x in x]\n",
    "y3 = [x*math.log(x) for x in x]\n",
    "y4 = [x*math.sqrt(x) for x in x]\n",
    "y5 = [x**2 for x in x]\n",
    "y6 = [2**x for x in x]\n",
    "y7 = [math.factorial(int(x)) for x in x]\n",
    "\n",
    "\n",
    "plt.plot(x,y0, label='$y0=1$')\n",
    "plt.plot(x,y1, label='$y1=logx$')\n",
    "plt.plot(x,y2, label='$y2=x$')\n",
    "plt.plot(x,y3, label='$y3=xlogx$')\n",
    "plt.plot(x,y4, label='$y4=xsqrt(x)$')\n",
    "plt.plot(x,y5, label='$y5=x^2$')\n",
    "plt.plot(x,y6, label='$y6=2^x$')\n",
    "plt.plot(x,y7, label='$y7=x!$')\n",
    "\n",
    "plt.legend()\n",
    "plt.grid()\n",
    "plt.ylim(0, 100)\n",
    "plt.xlim(1,50)\n",
    "\n",
    "plt.show()"
   ]
  },
  {
   "cell_type": "code",
   "execution_count": null,
   "id": "318c3d2e",
   "metadata": {},
   "outputs": [],
   "source": []
  }
 ],
 "metadata": {
  "kernelspec": {
   "display_name": "Python 3 (ipykernel)",
   "language": "python",
   "name": "python3"
  },
  "language_info": {
   "codemirror_mode": {
    "name": "ipython",
    "version": 3
   },
   "file_extension": ".py",
   "mimetype": "text/x-python",
   "name": "python",
   "nbconvert_exporter": "python",
   "pygments_lexer": "ipython3",
   "version": "3.9.5"
  }
 },
 "nbformat": 4,
 "nbformat_minor": 5
}
