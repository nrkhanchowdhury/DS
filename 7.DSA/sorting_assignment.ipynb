{
 "cells": [
  {
   "cell_type": "markdown",
   "id": "12a43018",
   "metadata": {},
   "source": [
    "<ins>Q1<ins>\n",
    "    \n",
    "Given an unsorted list of integers. Return the sum of the first and last elements of the list after sorting the first k elements of the list using Bubble Sort."
   ]
  },
  {
   "cell_type": "code",
   "execution_count": 14,
   "id": "0118b81c",
   "metadata": {},
   "outputs": [],
   "source": [
    "def bubbleSort(A,k):\n",
    "    \n",
    "    n = len(A) #dummy\n",
    "    \n",
    "    for i in range(k):\n",
    "        for j in range(0,k-1):\n",
    "            if A[j]>A[j+1]:\n",
    "                A[j],A[j+1] = A[j+1], A[j]\n",
    "                \n",
    "        print(A)\n",
    "    return A"
   ]
  },
  {
   "cell_type": "code",
   "execution_count": 16,
   "id": "c6b7d109",
   "metadata": {},
   "outputs": [
    {
     "name": "stdout",
     "output_type": "stream",
     "text": [
      "[34, 25, 12, 64, 22, 11, 90]\n",
      "[25, 12, 34, 64, 22, 11, 90]\n",
      "[12, 25, 34, 64, 22, 11, 90]\n",
      "[12, 25, 34, 64, 22, 11, 90]\n"
     ]
    },
    {
     "data": {
      "text/plain": [
       "[12, 25, 34, 64, 22, 11, 90]"
      ]
     },
     "execution_count": 16,
     "metadata": {},
     "output_type": "execute_result"
    }
   ],
   "source": [
    "A = [64,34,25,12,22,11,90]\n",
    "bubbleSort(A,4)"
   ]
  },
  {
   "cell_type": "markdown",
   "id": "4bb49b79",
   "metadata": {},
   "source": [
    "<ins>Q2<ins>\n",
    "    \n",
    "Given a list of strings, use selection sort to sort these strings in lexicographical order.\n",
    "lst= ['alpha', 'gamma', 'beta', 'delta'] \n"
   ]
  },
  {
   "cell_type": "code",
   "execution_count": 87,
   "id": "295913d1",
   "metadata": {},
   "outputs": [],
   "source": [
    "def selectionSort(A):\n",
    "    \n",
    "    n = len(A)\n",
    "    \n",
    "    #loop over the # of elements in list\n",
    "    for i in range(n-1):\n",
    "        mini = A[i]\n",
    "        minidx = i\n",
    "        \n",
    "        #print(i, A[i])\n",
    "        for j in range(i,n):\n",
    "            if A[j] < mini:\n",
    "                mini = A[j]\n",
    "                minidx = j\n",
    "        #debug\n",
    "        #print(\"i\", i, \"A[i]\", A[i], \"minidx\", minidx, \"mini\", mini )\n",
    "        #swap    \n",
    "        A[i], A[minidx] = A[minidx], A[i]\n",
    "    \n",
    "        #print(A)\n",
    "    return A\n",
    "        \n",
    "        "
   ]
  },
  {
   "cell_type": "code",
   "execution_count": 90,
   "id": "94b9040a",
   "metadata": {},
   "outputs": [],
   "source": [
    "arr = ['alpha', 'gamma', 'beta', 'delta', \"alpha\"] \n"
   ]
  },
  {
   "cell_type": "code",
   "execution_count": 91,
   "id": "ef51de4d",
   "metadata": {},
   "outputs": [
    {
     "data": {
      "text/plain": [
       "['alpha', 'alpha', 'beta', 'delta', 'gamma']"
      ]
     },
     "execution_count": 91,
     "metadata": {},
     "output_type": "execute_result"
    }
   ],
   "source": [
    "selectionSort(arr)"
   ]
  },
  {
   "cell_type": "markdown",
   "id": "fd73d6d7",
   "metadata": {},
   "source": [
    "<ins>Q3<ins>\n",
    "    \n",
    "Alternate definition of insertion sort"
   ]
  },
  {
   "cell_type": "code",
   "execution_count": 104,
   "id": "52aa649c",
   "metadata": {},
   "outputs": [],
   "source": [
    "\n",
    "def insertionSort(arr):\n",
    "  value=0\n",
    "  for i in range(1,len(arr)+1):\n",
    "    value=arr[i-1]\n",
    "    j=i-1\n",
    "    while (j>0) and (arr[j-1]>value): #Fill the blank\n",
    "      arr[j]=arr[j-1]\n",
    "      j=j-1\n",
    "    arr[j]=value\n",
    "  return arr"
   ]
  },
  {
   "cell_type": "code",
   "execution_count": 96,
   "id": "fafe8e9c",
   "metadata": {},
   "outputs": [],
   "source": [
    "A = [2,5,7,4,2,34,12,33,23,15]\n"
   ]
  },
  {
   "cell_type": "code",
   "execution_count": 105,
   "id": "6e45a779",
   "metadata": {},
   "outputs": [
    {
     "data": {
      "text/plain": [
       "[2, 2, 2, 4, 5, 7, 12, 15, 23, 23]"
      ]
     },
     "execution_count": 105,
     "metadata": {},
     "output_type": "execute_result"
    }
   ],
   "source": [
    "insertionSort(A)"
   ]
  },
  {
   "cell_type": "markdown",
   "id": "400ec5cc",
   "metadata": {},
   "source": [
    "<ins>Q4<ins>\n",
    "    \n",
    "Given a list of numbers, perform k iterations of insertion sort on it and return the element present at the center."
   ]
  },
  {
   "cell_type": "code",
   "execution_count": 114,
   "id": "f79745dc",
   "metadata": {},
   "outputs": [],
   "source": [
    "def insertion_sort(A,k):\n",
    "    N = len(A)\n",
    "    \n",
    "    for i in range(1,k+1):\n",
    "        #insert A[i] using insertion step\n",
    "        print(A[:i],\"|\",A[i:])\n",
    "        for j in range(i-1,-1,-1):\n",
    "            if A[j]>A[j+1]:\n",
    "                A[j],A[j+1] = A[j+1], A[j]\n",
    "            else:\n",
    "                break\n",
    "        mid = N//2\n",
    "    return A[mid]\n",
    "            "
   ]
  },
  {
   "cell_type": "code",
   "execution_count": 115,
   "id": "0b02e20a",
   "metadata": {},
   "outputs": [
    {
     "name": "stdout",
     "output_type": "stream",
     "text": [
      "[12] | [11, 13, 5, 6]\n",
      "[11, 12] | [13, 5, 6]\n"
     ]
    },
    {
     "data": {
      "text/plain": [
       "13"
      ]
     },
     "execution_count": 115,
     "metadata": {},
     "output_type": "execute_result"
    }
   ],
   "source": [
    "A = [12, 11, 13, 5,6]\n",
    "insertion_sort(A,2)"
   ]
  },
  {
   "cell_type": "code",
   "execution_count": null,
   "id": "b08a9c30",
   "metadata": {},
   "outputs": [],
   "source": []
  }
 ],
 "metadata": {
  "kernelspec": {
   "display_name": "Python 3 (ipykernel)",
   "language": "python",
   "name": "python3"
  },
  "language_info": {
   "codemirror_mode": {
    "name": "ipython",
    "version": 3
   },
   "file_extension": ".py",
   "mimetype": "text/x-python",
   "name": "python",
   "nbconvert_exporter": "python",
   "pygments_lexer": "ipython3",
   "version": "3.9.5"
  }
 },
 "nbformat": 4,
 "nbformat_minor": 5
}
