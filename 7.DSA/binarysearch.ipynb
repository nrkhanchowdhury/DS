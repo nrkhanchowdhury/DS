{
 "cells": [
  {
   "cell_type": "markdown",
   "id": "ca5c2cd9",
   "metadata": {},
   "source": [
    "## Binary search\n",
    "\n",
    "<ins>Binary Search Algorithm:</ins>\n",
    "\n",
    "1. Sort the array in ascending order.\n",
    "\n",
    "2. Set the low index to the first element of the array and the high index to the last element.\n",
    "\n",
    "3. Set the middle index to the average of the low and high indices.\n",
    "\n",
    "4. If the element at the middle index is the target element, return the middle index.\n",
    "\n",
    "5. If the target element is less than the element at the middle index, set the high index to the middle index – 1.\n",
    "\n",
    "6. If the target element is greater than the element at the middle index, set the low index to the middle index + 1.\n",
    "\n",
    "7. Repeat steps 3-6 until the element is found or it is clear that the element is not present in the array.\n"
   ]
  },
  {
   "cell_type": "code",
   "execution_count": 7,
   "id": "b35b50f9",
   "metadata": {},
   "outputs": [
    {
     "data": {
      "text/plain": [
       "'\\nFor linear/sequential search \\n\\nTC: O(N)\\nSC: O(1)\\n\\n\\nFor Binary search\\n\\nTC = O(logN)\\nSC: O(1)\\n\\n'"
      ]
     },
     "execution_count": 7,
     "metadata": {},
     "output_type": "execute_result"
    }
   ],
   "source": [
    "\"\"\"\n",
    "For linear/sequential search \n",
    "\n",
    "TC: O(N)\n",
    "SC: O(1)\n",
    "\n",
    "\n",
    "For Binary search\n",
    "\n",
    "TC = O(logN)\n",
    "SC: O(1)\n",
    "\n",
    "\"\"\""
   ]
  },
  {
   "cell_type": "markdown",
   "id": "fc41c465",
   "metadata": {},
   "source": [
    "#### Requisite: List need to be \"sorted\""
   ]
  },
  {
   "cell_type": "code",
   "execution_count": 6,
   "id": "d4ab4f50",
   "metadata": {},
   "outputs": [],
   "source": [
    "# Iterative implementation of Binary Search\n",
    "\n",
    "#returns index of x in arr if present, else -1\n",
    "\n",
    "def binarySearch(arr, l, r, x):\n",
    "    \n",
    "    \"\"\"\n",
    "    Sort the array in ascending order.\n",
    "\n",
    "    Set the low index to the first element of the array and the high index to the last element.\n",
    "\n",
    "    Set the middle index to the average of the low and high indices.\n",
    "\n",
    "    If the element at the middle index is the target element, return the middle index.\n",
    "\n",
    "    If the target element is less than the element at the middle index, set the high index to the middle index – 1.\n",
    "\n",
    "    If the target element is greater than the element at the middle index, set the low index to the middle index + 1.\n",
    "\n",
    "    Repeat steps 3-6 until the element is found or it is clear that the element is not present in the array.\n",
    "    \"\"\"\n",
    " \n",
    "    while l <= r:\n",
    " \n",
    "        mid = (l + r) // 2\n",
    " \n",
    "        # Check if x is present at mid\n",
    "        if arr[mid] == x:\n",
    "            return mid\n",
    " \n",
    "        # If x is greater, ignore left half\n",
    "        elif arr[mid] < x:\n",
    "            l = mid + 1\n",
    " \n",
    "        # If x is smaller, ignore right half\n",
    "        else:\n",
    "            r = mid - 1\n",
    " \n",
    "    # If we reach here, then the element\n",
    "    # was not present\n",
    "    return -1\n"
   ]
  },
  {
   "cell_type": "code",
   "execution_count": 4,
   "id": "39abc1fe",
   "metadata": {},
   "outputs": [
    {
     "name": "stdout",
     "output_type": "stream",
     "text": [
      "6\n"
     ]
    }
   ],
   "source": [
    "\n",
    "arr = [2, 3, 4, 7, 10, 20, 35, 40]\n",
    "x = 35\n",
    " \n",
    "\n",
    "result = binarySearch(arr, 0, len(arr)-1, x)\n",
    "print(result)"
   ]
  },
  {
   "cell_type": "code",
   "execution_count": 13,
   "id": "6d9e7d7f",
   "metadata": {},
   "outputs": [],
   "source": [
    "## Recursive implementation of Binarr Search\n",
    "\n",
    "def binarySearchR(arr, l, r, x):\n",
    " \n",
    "      while l <=r:\n",
    "        \n",
    " \n",
    "        mid = (l + r) // 2\n",
    " \n",
    "        # If element is present at the middle itself\n",
    "        if arr[mid] == x:\n",
    "            return mid\n",
    " \n",
    "        # If element is smaller than mid, then it\n",
    "        # can only be present in left subarray\n",
    "        elif arr[mid] > x:\n",
    "            return binarySearch(arr, l, mid-1, x)\n",
    " \n",
    "        # Else the element can only be present\n",
    "        # in right subarray\n",
    "        else:\n",
    "            return binarySearch(arr, mid + 1, r, x)\n",
    " \n",
    "    \n",
    "      return -1"
   ]
  },
  {
   "cell_type": "code",
   "execution_count": 14,
   "id": "65840c08",
   "metadata": {},
   "outputs": [
    {
     "name": "stdout",
     "output_type": "stream",
     "text": [
      "6\n"
     ]
    }
   ],
   "source": [
    "ans = binarySearchR(arr, 0, len(arr)-1, x)\n",
    "print(ans)"
   ]
  },
  {
   "cell_type": "code",
   "execution_count": null,
   "id": "260267bf",
   "metadata": {},
   "outputs": [],
   "source": []
  }
 ],
 "metadata": {
  "kernelspec": {
   "display_name": "Python 3 (ipykernel)",
   "language": "python",
   "name": "python3"
  },
  "language_info": {
   "codemirror_mode": {
    "name": "ipython",
    "version": 3
   },
   "file_extension": ".py",
   "mimetype": "text/x-python",
   "name": "python",
   "nbconvert_exporter": "python",
   "pygments_lexer": "ipython3",
   "version": "3.9.5"
  }
 },
 "nbformat": 4,
 "nbformat_minor": 5
}
