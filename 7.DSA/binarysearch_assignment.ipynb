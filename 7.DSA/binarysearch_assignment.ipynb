{
 "cells": [
  {
   "cell_type": "markdown",
   "id": "90b36dd6",
   "metadata": {},
   "source": [
    "<ins>Q1</ins>\n",
    "    \n",
    "Given a sorted array of integers A (0-indexed) of size N, find the starting and the ending position of a given integer B in array A.\n",
    "\n",
    "Your algorithm's runtime complexity must be in the order of O(log n).\n",
    "\n",
    "Return an array of size 2, such that the first element = starting position of B in A and the second element = ending position of B in A, if B is not found in A return [-1, -1]."
   ]
  },
  {
   "cell_type": "code",
   "execution_count": 2,
   "id": "cc39df74",
   "metadata": {},
   "outputs": [],
   "source": [
    "class Solution:\n",
    "    # @param A : tuple of integers\n",
    "    # @param B : integer\n",
    "    # @return a list of integers\n",
    "    def searchRange(self, A, B):\n",
    "\n",
    "        low = 0\n",
    "        high = len(A) - 1\n",
    "\n",
    "        C = [-1,-1] #default if B not in A \n",
    "\n",
    "        # find the smallest index of B in A \n",
    "        # O(logN)\n",
    "        while low <= high:\n",
    "            mid = (low+high)//2\n",
    "\n",
    "            if A[mid] == B:\n",
    "                C[0] = mid\n",
    "                high = mid - 1 #ignore right\n",
    "\n",
    "            elif A[mid] > B:\n",
    "                high = mid - 1 #ignore right\n",
    "\n",
    "            else:\n",
    "                low = mid + 1 #ignore left\n",
    "\n",
    "        #initialise value with low \n",
    "        #equal to first occurence of B\n",
    "\n",
    "        low = C[0]\n",
    "        high = len(A) - 1\n",
    "\n",
    "        # find the largest index of B in A\n",
    "        #+ O(logN)\n",
    "\n",
    "        while low <= high:\n",
    "            mid = (low+high)//2\n",
    "\n",
    "            if A[mid]==B:\n",
    "                C[1] = mid\n",
    "                low = mid +1 #ignore left\n",
    "\n",
    "            if A[mid] > B:\n",
    "                high = mid - 1 #ignore right\n",
    "\n",
    "            if A[mid] < B:\n",
    "                low = mid + 1\n",
    "\n",
    "        return C \n",
    "\n",
    "#TC: 2logN = O(N)\n",
    "#SC: 2 = O(1)"
   ]
  },
  {
   "cell_type": "code",
   "execution_count": 4,
   "id": "b8098334",
   "metadata": {},
   "outputs": [
    {
     "data": {
      "text/plain": [
       "[6, 9]"
      ]
     },
     "execution_count": 4,
     "metadata": {},
     "output_type": "execute_result"
    }
   ],
   "source": [
    "arr= [1,2,3,5,6,8,15,15,15,15,23,34,56]\n",
    "q = 15\n",
    "sol = Solution()\n",
    "sol.searchRange(arr,q)"
   ]
  },
  {
   "cell_type": "markdown",
   "id": "4c24e2b6",
   "metadata": {},
   "source": [
    "<ins>Q2<ins>\n",
    "    \n",
    "Given a sorted array A of size N and a target value B, return the index of the target in the list (0-based indexing) if the target is found.\n",
    "If not found, return the index where it would be if it were inserted."
   ]
  },
  {
   "cell_type": "code",
   "execution_count": 9,
   "id": "aa2c3e4c",
   "metadata": {},
   "outputs": [],
   "source": [
    "class Solution:\n",
    "  \"\"\"\n",
    "  @param A : list of integers\n",
    "  @param B : integer\n",
    "  @return an integer\n",
    "\n",
    "  \"\"\"\n",
    "  def searchInsert(self,A, B):\n",
    "    #YOUR CODE GOES HERE\n",
    "\n",
    "    low = 0\n",
    "    high = len(A) - 1\n",
    "\n",
    "    while low <= high:\n",
    "\n",
    "        mid = (low+high)//2\n",
    "\n",
    "        #if the target B is at \n",
    "        # mid return index\n",
    "        if A[mid] == B:\n",
    "            return mid\n",
    "\n",
    "        elif A[mid]<B:\n",
    "            low = mid +1\n",
    "\n",
    "        else:\n",
    "            high = mid - 1\n",
    "        \n",
    "    return low"
   ]
  },
  {
   "cell_type": "code",
   "execution_count": 11,
   "id": "fa404176",
   "metadata": {},
   "outputs": [
    {
     "data": {
      "text/plain": [
       "6"
      ]
     },
     "execution_count": 11,
     "metadata": {},
     "output_type": "execute_result"
    }
   ],
   "source": [
    "solve = Solution()\n",
    "arr = [1,3,4,5,6,7,23,34,45,56]\n",
    "q = 20\n",
    "solve.searchInsert(arr,q)"
   ]
  },
  {
   "cell_type": "markdown",
   "id": "47bba94a",
   "metadata": {},
   "source": [
    "<ins>Q3<ins>\n",
    "    \n",
    "Given a sorted array A of size N. Find the number of elements that are less than or equal to B.\n",
    "\n"
   ]
  },
  {
   "cell_type": "code",
   "execution_count": 12,
   "id": "ff3ee29d",
   "metadata": {},
   "outputs": [],
   "source": [
    "class Solution:\n",
    "    # @param A : list of integers\n",
    "    # @param B : integer\n",
    "    # @return an integer\n",
    "\n",
    "    def solve(self, A, B):\n",
    "\n",
    "        #define space\n",
    "        left = 0\n",
    "        right = len(A) -1\n",
    "        \n",
    "        count = 0\n",
    "        \n",
    "        while left <= right:\n",
    "            mid = (left+right)//2\n",
    "            \n",
    "            \n",
    "            #check if the element is less \n",
    "            #or equal to B\n",
    "            if A[mid] <= B:\n",
    "\n",
    "                #there are (mid + 1) elements \n",
    "                #whose values are less or\n",
    "                #equal to B\n",
    "                count = mid + 1  # index at 0\n",
    "                left = mid + 1   #ignore left\n",
    "\n",
    "            # if the element is larger than B\n",
    "            # ignore the right side\n",
    "            else:\n",
    "                right = mid-1 #ignore right\n",
    "                  \n",
    "        return count"
   ]
  },
  {
   "cell_type": "code",
   "execution_count": 17,
   "id": "99e51a5f",
   "metadata": {},
   "outputs": [
    {
     "data": {
      "text/plain": [
       "8"
      ]
     },
     "execution_count": 17,
     "metadata": {},
     "output_type": "execute_result"
    }
   ],
   "source": [
    "sol = Solution()\n",
    "arr = [1,3,4,5,6,7,23,34,45,56]\n",
    "q = 35\n",
    "sol.solve(arr,q)"
   ]
  },
  {
   "cell_type": "markdown",
   "id": "33c3c305",
   "metadata": {},
   "source": [
    "<ins>Q4<ins>\n",
    "    \n",
    "Given two arrays of size m and n (m less or equal to n), find the number of elemetns common in l1 and l2.\n",
    "(Similar to set intersection)"
   ]
  },
  {
   "cell_type": "code",
   "execution_count": 22,
   "id": "5c1a2a28",
   "metadata": {},
   "outputs": [
    {
     "name": "stdout",
     "output_type": "stream",
     "text": [
      "48\n",
      "2\n",
      "12\n",
      "33\n",
      "44\n",
      "7\n",
      "47\n",
      "39\n",
      "45\n",
      "31\n",
      "20\n",
      "11\n",
      "17\n",
      "23\n",
      "19\n",
      "38\n",
      "13\n",
      "27\n",
      "30\n",
      "5\n",
      "37\n",
      "9\n",
      "1\n",
      "35\n",
      "22\n",
      "8\n",
      "42\n",
      "34\n",
      "21\n",
      "15\n",
      "10\n",
      "0\n",
      "41\n",
      "18\n",
      "49\n",
      "46\n",
      "3\n",
      "26\n",
      "24\n",
      "14\n",
      "28\n",
      "25\n",
      "32\n",
      "4\n",
      "40\n",
      "43\n",
      "6\n",
      "36\n",
      "29\n",
      "16\n",
      "# of common els: 50\n"
     ]
    }
   ],
   "source": [
    "# find elements common in unsorted lists: \n",
    "import random as rnd\n",
    "l1= list(range(100))\n",
    "rnd.shuffle(l1)\n",
    "\n",
    "l2 = list(range(50))\n",
    "rnd.shuffle(l2)\n",
    "\n",
    "#find common elements: O(n*m)\n",
    "cnt = 0\n",
    "for i in l1:\n",
    "    for j in l2:\n",
    "        if i ==j:\n",
    "            print(i)\n",
    "            cnt +=1\n",
    "print(\"# of common els:\", cnt)"
   ]
  },
  {
   "cell_type": "code",
   "execution_count": 34,
   "id": "272cdaca",
   "metadata": {},
   "outputs": [],
   "source": [
    "import math\n",
    "def reverse_factorial(n):\n",
    "\n",
    "    i = 0\n",
    "    fact = 0\n",
    "    lst = []\n",
    "    while fact <=n:\n",
    "        fact = math.factorial(i)\n",
    "        lst.append(fact)\n",
    "        i+=1\n",
    "    \n",
    "    if n in lst:\n",
    "        return lst.index(n)\n",
    "    else:\n",
    "        return -1\n"
   ]
  },
  {
   "cell_type": "code",
   "execution_count": 35,
   "id": "689ebc12",
   "metadata": {},
   "outputs": [
    {
     "data": {
      "text/plain": [
       "5"
      ]
     },
     "execution_count": 35,
     "metadata": {},
     "output_type": "execute_result"
    }
   ],
   "source": [
    "reverse_factorial(120)"
   ]
  },
  {
   "cell_type": "code",
   "execution_count": null,
   "id": "f0b9e480",
   "metadata": {},
   "outputs": [],
   "source": []
  }
 ],
 "metadata": {
  "kernelspec": {
   "display_name": "Python 3 (ipykernel)",
   "language": "python",
   "name": "python3"
  },
  "language_info": {
   "codemirror_mode": {
    "name": "ipython",
    "version": 3
   },
   "file_extension": ".py",
   "mimetype": "text/x-python",
   "name": "python",
   "nbconvert_exporter": "python",
   "pygments_lexer": "ipython3",
   "version": "3.9.5"
  }
 },
 "nbformat": 4,
 "nbformat_minor": 5
}
