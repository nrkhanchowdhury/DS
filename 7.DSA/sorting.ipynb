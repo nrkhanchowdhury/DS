{
 "cells": [
  {
   "cell_type": "markdown",
   "id": "8a07c934",
   "metadata": {},
   "source": [
    "# Sorting \n"
   ]
  },
  {
   "cell_type": "code",
   "execution_count": 4,
   "id": "6ed4a360",
   "metadata": {},
   "outputs": [],
   "source": [
    "# Given an array of N elements, find the kth smallest elememts\n",
    "\n",
    "arr = [12,3,4,6,7,-2,8,9,32,3,-2,0,-1]\n",
    "k = 3"
   ]
  },
  {
   "cell_type": "code",
   "execution_count": 5,
   "id": "74ac07c3",
   "metadata": {},
   "outputs": [
    {
     "name": "stdout",
     "output_type": "stream",
     "text": [
      "[-2, -2, -1, 0, 3, 3, 4, 6, 7, 8, 9, 12, 32]\n"
     ]
    },
    {
     "data": {
      "text/plain": [
       "-1"
      ]
     },
     "execution_count": 5,
     "metadata": {},
     "output_type": "execute_result"
    }
   ],
   "source": [
    "arr.sort()\n",
    "print(arr)\n",
    "arr[k-1]"
   ]
  },
  {
   "cell_type": "code",
   "execution_count": 8,
   "id": "0c2a16cd",
   "metadata": {},
   "outputs": [
    {
     "data": {
      "text/plain": [
       "'\\nPython uses timsort which is a combination of\\nmerge sort and insertion sort\\n\\n'"
      ]
     },
     "execution_count": 8,
     "metadata": {},
     "output_type": "execute_result"
    }
   ],
   "source": [
    "\"\"\"\n",
    "Python uses timsort which is a combination of\n",
    "merge sort and insertion sort\n",
    "\n",
    "TC: O(nlogn)\n",
    "\"\"\""
   ]
  },
  {
   "cell_type": "markdown",
   "id": "99b8be9b",
   "metadata": {},
   "source": [
    "## Selection sort\n",
    "\n",
    "Nemonic: Ever packed a suitcase, putting in the larger items before the smaller ones? Thats <b>Selection Sort!<b>\n",
    "\n",
    "<ins>ALGO:</ins>\n",
    "\n",
    "Initialize minimum value (min_idx) to location 0.\n",
    "\n",
    "Traverse the array to find the minimum element in the array.\n",
    "\n",
    "While traversing if any element smaller than min_idx is found then swap both the values.\n",
    "\n",
    "Then, increment min_idx to point to the next element.\n",
    "\n",
    "Repeat until the array is sorted."
   ]
  },
  {
   "cell_type": "code",
   "execution_count": 82,
   "id": "8431bb52",
   "metadata": {},
   "outputs": [],
   "source": [
    "def selectionSort(A):\n",
    "    n = len(A)\n",
    "    for i in range(n-1): #last element is already sorted after (n-1)th iteration\n",
    "        \n",
    "        #defining the min\n",
    "        idx = i\n",
    "        mini = A[i]\n",
    "        \n",
    "        # finding real min from i to the end of array\n",
    "        for j in range(i, n):\n",
    "            if A[j]<=mini:\n",
    "                mini = A[j]\n",
    "                idx = j\n",
    "                \n",
    "        #swap A[idx] and A[i]\n",
    "        A[i], A[idx] = A[idx], A[i]\n",
    "        print(A)\n",
    "        \n",
    "    #sorting done\n",
    "    return A\n",
    "\n",
    "\n",
    "# TC: O(n^2)"
   ]
  },
  {
   "cell_type": "code",
   "execution_count": 17,
   "id": "5871eadd",
   "metadata": {},
   "outputs": [],
   "source": [
    "arr = [2,8,5,-1,6,7,4,10,-1]"
   ]
  },
  {
   "cell_type": "code",
   "execution_count": 83,
   "id": "976bc87f",
   "metadata": {},
   "outputs": [
    {
     "name": "stdout",
     "output_type": "stream",
     "text": [
      "[-1, 8, 5, -1, 6, 7, 4, 10, 2]\n",
      "[-1, -1, 5, 8, 6, 7, 4, 10, 2]\n",
      "[-1, -1, 2, 8, 6, 7, 4, 10, 5]\n",
      "[-1, -1, 2, 4, 6, 7, 8, 10, 5]\n",
      "[-1, -1, 2, 4, 5, 7, 8, 10, 6]\n",
      "[-1, -1, 2, 4, 5, 6, 8, 10, 7]\n",
      "[-1, -1, 2, 4, 5, 6, 7, 10, 8]\n",
      "[-1, -1, 2, 4, 5, 6, 7, 8, 10]\n"
     ]
    },
    {
     "data": {
      "text/plain": [
       "[-1, -1, 2, 4, 5, 6, 7, 8, 10]"
      ]
     },
     "execution_count": 83,
     "metadata": {},
     "output_type": "execute_result"
    }
   ],
   "source": [
    "selectionSort(arr)"
   ]
  },
  {
   "cell_type": "code",
   "execution_count": 89,
   "id": "968d00bc",
   "metadata": {},
   "outputs": [],
   "source": [
    "# selecting the max instead of min:\n",
    "\n",
    "def selectionSort_withMax(A):\n",
    "    n = len(A)\n",
    "    for i in range(n-1):\n",
    "        \n",
    "        #define max:\n",
    "        idx = n-i-1\n",
    "        maxi = A[n-i-1] #dummy\n",
    "    \n",
    "        for j in range(0, n-i):\n",
    "\n",
    "            if A[j]>=maxi:\n",
    "                maxi = A[j]\n",
    "                idx = j\n",
    "        \n",
    "        #swap\n",
    "        A[n-i-1], A[idx]= A[idx], A[n-i-1]\n",
    "        print(A)\n",
    "        \n",
    "    return A\n",
    "    "
   ]
  },
  {
   "cell_type": "code",
   "execution_count": 90,
   "id": "4c81375d",
   "metadata": {},
   "outputs": [
    {
     "name": "stdout",
     "output_type": "stream",
     "text": [
      "[2, 8, 5, -1, 6, 7, 4, 10, -1, 11]\n",
      "[2, 8, 5, -1, 6, 7, 4, -1, 10, 11]\n",
      "[2, -1, 5, -1, 6, 7, 4, 8, 10, 11]\n",
      "[2, -1, 5, -1, 6, 4, 7, 8, 10, 11]\n",
      "[2, -1, 5, -1, 4, 6, 7, 8, 10, 11]\n",
      "[2, -1, 4, -1, 5, 6, 7, 8, 10, 11]\n",
      "[2, -1, -1, 4, 5, 6, 7, 8, 10, 11]\n",
      "[-1, -1, 2, 4, 5, 6, 7, 8, 10, 11]\n",
      "[-1, -1, 2, 4, 5, 6, 7, 8, 10, 11]\n"
     ]
    },
    {
     "data": {
      "text/plain": [
       "[-1, -1, 2, 4, 5, 6, 7, 8, 10, 11]"
      ]
     },
     "execution_count": 90,
     "metadata": {},
     "output_type": "execute_result"
    }
   ],
   "source": [
    "ar = [2,8,5,-1,6,7,4,10,-1,11]\n",
    "\n",
    "selectionSort_withMax(ar)"
   ]
  },
  {
   "cell_type": "markdown",
   "id": "a248e856",
   "metadata": {},
   "source": [
    "## Bubble sort\n",
    "\n",
    "Mnemonic: Given an assemny of students with diff heights, arrange them in increasing order such that only adajacent students can swap their position."
   ]
  },
  {
   "cell_type": "code",
   "execution_count": 94,
   "id": "43f6fec1",
   "metadata": {},
   "outputs": [],
   "source": [
    "def bubbleSort(A):\n",
    "    n = len(A)\n",
    "    \n",
    "    for i in range(n):  # n passes\n",
    "        for j in range(n-1): #j -> n-2\n",
    "            if A[j] > A[j+1]:\n",
    "                A[j], A[j+1] = A[j+1], A[j]\n",
    "        print(A)\n",
    "    return A\n",
    "#TC = n*(n-1) = n^2"
   ]
  },
  {
   "cell_type": "code",
   "execution_count": 95,
   "id": "6a31e7eb",
   "metadata": {},
   "outputs": [
    {
     "name": "stdout",
     "output_type": "stream",
     "text": [
      "[2, 5, -1, 6, 7, 4, 8, -1, 10, 11]\n",
      "[2, -1, 5, 6, 4, 7, -1, 8, 10, 11]\n",
      "[-1, 2, 5, 4, 6, -1, 7, 8, 10, 11]\n",
      "[-1, 2, 4, 5, -1, 6, 7, 8, 10, 11]\n",
      "[-1, 2, 4, -1, 5, 6, 7, 8, 10, 11]\n",
      "[-1, 2, -1, 4, 5, 6, 7, 8, 10, 11]\n",
      "[-1, -1, 2, 4, 5, 6, 7, 8, 10, 11]\n",
      "[-1, -1, 2, 4, 5, 6, 7, 8, 10, 11]\n",
      "[-1, -1, 2, 4, 5, 6, 7, 8, 10, 11]\n",
      "[-1, -1, 2, 4, 5, 6, 7, 8, 10, 11]\n"
     ]
    },
    {
     "data": {
      "text/plain": [
       "[-1, -1, 2, 4, 5, 6, 7, 8, 10, 11]"
      ]
     },
     "execution_count": 95,
     "metadata": {},
     "output_type": "execute_result"
    }
   ],
   "source": [
    "arr = [2,8,5,-1,6,7,4,10,-1,11]\n",
    "bubbleSort(arr)"
   ]
  },
  {
   "cell_type": "markdown",
   "id": "704c3da6",
   "metadata": {},
   "source": [
    "Find the total no. of swappings to sort arr using bubblesort"
   ]
  },
  {
   "cell_type": "code",
   "execution_count": 98,
   "id": "834e653a",
   "metadata": {},
   "outputs": [],
   "source": [
    "def bubbleSort(A):\n",
    "    n = len(A)\n",
    "    cnt = 0\n",
    "    for i in range(n):  # n passes\n",
    "        for j in range(n-1): #j -> n-2\n",
    "            if A[j] > A[j+1]:\n",
    "                A[j], A[j+1] = A[j+1], A[j]\n",
    "                cnt +=1\n",
    "        print(\"List after \",i+1 ,\"th pass:\")\n",
    "        print(A)\n",
    "        print()\n",
    "    print(\"Total swaps =\", cnt)\n",
    "    return A"
   ]
  },
  {
   "cell_type": "code",
   "execution_count": 99,
   "id": "313c7c4d",
   "metadata": {},
   "outputs": [
    {
     "name": "stdout",
     "output_type": "stream",
     "text": [
      "List after  1 th pass:\n",
      "[2, 5, -1, 6, 7, 4, 8, -1, 10, 11]\n",
      "\n",
      "List after  2 th pass:\n",
      "[2, -1, 5, 6, 4, 7, -1, 8, 10, 11]\n",
      "\n",
      "List after  3 th pass:\n",
      "[-1, 2, 5, 4, 6, -1, 7, 8, 10, 11]\n",
      "\n",
      "List after  4 th pass:\n",
      "[-1, 2, 4, 5, -1, 6, 7, 8, 10, 11]\n",
      "\n",
      "List after  5 th pass:\n",
      "[-1, 2, 4, -1, 5, 6, 7, 8, 10, 11]\n",
      "\n",
      "List after  6 th pass:\n",
      "[-1, 2, -1, 4, 5, 6, 7, 8, 10, 11]\n",
      "\n",
      "List after  7 th pass:\n",
      "[-1, -1, 2, 4, 5, 6, 7, 8, 10, 11]\n",
      "\n",
      "List after  8 th pass:\n",
      "[-1, -1, 2, 4, 5, 6, 7, 8, 10, 11]\n",
      "\n",
      "List after  9 th pass:\n",
      "[-1, -1, 2, 4, 5, 6, 7, 8, 10, 11]\n",
      "\n",
      "List after  10 th pass:\n",
      "[-1, -1, 2, 4, 5, 6, 7, 8, 10, 11]\n",
      "\n",
      "Total swaps = 17\n"
     ]
    },
    {
     "data": {
      "text/plain": [
       "[-1, -1, 2, 4, 5, 6, 7, 8, 10, 11]"
      ]
     },
     "execution_count": 99,
     "metadata": {},
     "output_type": "execute_result"
    }
   ],
   "source": [
    "arr = [2,8,5,-1,6,7,4,10,-1,11]\n",
    "bubbleSort(arr)"
   ]
  },
  {
   "cell_type": "code",
   "execution_count": 112,
   "id": "51a83a3e",
   "metadata": {},
   "outputs": [],
   "source": [
    "def optimised_bubbleSort(A):\n",
    "    n = len(A)\n",
    "    for i in range(n):  # n passes\n",
    "        cnt = 0\n",
    "        swap = False\n",
    "        for j in range(n-1): #j -> n-2\n",
    "            if A[j] > A[j+1]:\n",
    "                A[j], A[j+1] = A[j+1], A[j]\n",
    "                cnt +=1\n",
    "                swap = True\n",
    "        #print(\"List after \",i+1 ,\"th pass:\")\n",
    "        print(A)\n",
    "        #print()\n",
    "        print(\"# of swaps:\", cnt)\n",
    "        #if cnt ==0:\n",
    "        #    break\n",
    "        if swap == False:\n",
    "            break\n",
    "    return A"
   ]
  },
  {
   "cell_type": "code",
   "execution_count": 113,
   "id": "0eb9c51d",
   "metadata": {},
   "outputs": [
    {
     "name": "stdout",
     "output_type": "stream",
     "text": [
      "[2, 5, -1, 6, 7, 4, 8, -1, 10, 11]\n",
      "# of swaps: 6\n",
      "[2, -1, 5, 6, 4, 7, -1, 8, 10, 11]\n",
      "# of swaps: 3\n",
      "[-1, 2, 5, 4, 6, -1, 7, 8, 10, 11]\n",
      "# of swaps: 3\n",
      "[-1, 2, 4, 5, -1, 6, 7, 8, 10, 11]\n",
      "# of swaps: 2\n",
      "[-1, 2, 4, -1, 5, 6, 7, 8, 10, 11]\n",
      "# of swaps: 1\n",
      "[-1, 2, -1, 4, 5, 6, 7, 8, 10, 11]\n",
      "# of swaps: 1\n",
      "[-1, -1, 2, 4, 5, 6, 7, 8, 10, 11]\n",
      "# of swaps: 1\n",
      "[-1, -1, 2, 4, 5, 6, 7, 8, 10, 11]\n",
      "# of swaps: 0\n"
     ]
    },
    {
     "data": {
      "text/plain": [
       "[-1, -1, 2, 4, 5, 6, 7, 8, 10, 11]"
      ]
     },
     "execution_count": 113,
     "metadata": {},
     "output_type": "execute_result"
    }
   ],
   "source": [
    "arr = [2,8,5,-1,6,7,4,10,-1,11]\n",
    "optimised_bubbleSort(arr)"
   ]
  },
  {
   "cell_type": "code",
   "execution_count": 114,
   "id": "46d6456e",
   "metadata": {},
   "outputs": [
    {
     "name": "stdout",
     "output_type": "stream",
     "text": [
      "[1, 2, 3, 4, 5, 6, 7]\n",
      "# of swaps: 6\n",
      "[1, 2, 3, 4, 5, 6, 7]\n",
      "# of swaps: 0\n"
     ]
    },
    {
     "data": {
      "text/plain": [
       "[1, 2, 3, 4, 5, 6, 7]"
      ]
     },
     "execution_count": 114,
     "metadata": {},
     "output_type": "execute_result"
    }
   ],
   "source": [
    "# best case time complexity for optimised bubble sort is O(N) \n",
    "# while for normal bubble sort and selection sort in O(N^2)\n",
    "\n",
    "arr = [7,1,2,3,4,5,6]\n",
    "optimised_bubbleSort(arr)"
   ]
  },
  {
   "cell_type": "code",
   "execution_count": 111,
   "id": "ce942333",
   "metadata": {},
   "outputs": [],
   "source": [
    "#To find the k-th smallest element, it is recommended to use selection sort till k-th pass. TC: O(k*n)\n",
    "# while for bubble sort, it is always O(n^2)"
   ]
  },
  {
   "cell_type": "markdown",
   "id": "d39b785e",
   "metadata": {},
   "source": [
    "## Insertion sort\n",
    "\n",
    "<ins>Algo<ins>\n",
    "    \n",
    "1) Iterate from back.\n",
    "2) Compare adjacent elements\n",
    "3) Swap if not correct\n",
    "\n",
    "Mnemonic: <b>Insert<b> an element in a sorted array!    \n",
    "\n",
    "#### Insert an element in a (N-1) sorted array"
   ]
  },
  {
   "cell_type": "code",
   "execution_count": 7,
   "id": "e41f302b",
   "metadata": {},
   "outputs": [],
   "source": [
    "A = [1,2,4,5,6,7,9,4] #insert last element in the sorted position\n",
    "N = len(A)"
   ]
  },
  {
   "cell_type": "code",
   "execution_count": 12,
   "id": "eb600147",
   "metadata": {},
   "outputs": [],
   "source": [
    "for j in range(N-2,-1,-1):\n",
    "    #swap if j'th element is greater than (j+1)th element\n",
    "    if A[j]>A[j+1]:\n",
    "        A[j],A[j+1] = A[j+1], A[j]\n",
    "    else:\n",
    "        break\n",
    "## TC: O(n) "
   ]
  },
  {
   "cell_type": "code",
   "execution_count": 10,
   "id": "00f63b35",
   "metadata": {},
   "outputs": [
    {
     "data": {
      "text/plain": [
       "[1, 2, 4, 4, 5, 6, 7, 9]"
      ]
     },
     "execution_count": 10,
     "metadata": {},
     "output_type": "execute_result"
    }
   ],
   "source": [
    "A"
   ]
  },
  {
   "cell_type": "markdown",
   "id": "3c196d2d",
   "metadata": {},
   "source": [
    "## Sort an entire array using the insertion step"
   ]
  },
  {
   "cell_type": "code",
   "execution_count": 14,
   "id": "4092d8e8",
   "metadata": {},
   "outputs": [],
   "source": [
    "A = [2,5,7,4,2,34,12,33,23,15]\n",
    "N=len(A)"
   ]
  },
  {
   "cell_type": "code",
   "execution_count": 19,
   "id": "c0a939a2",
   "metadata": {},
   "outputs": [],
   "source": [
    "def insertion_sort(A):\n",
    "    N = len(A)\n",
    "    \n",
    "    for i in range(1,N):\n",
    "        #insert A[i] using insertion step\n",
    "        print(A[:i],\"|\",A[i:])\n",
    "        for j in range(i-1,-1,-1):\n",
    "            if A[j]>A[j+1]:\n",
    "                A[j],A[j+1] = A[j+1], A[j]\n",
    "            else:\n",
    "                break\n",
    "        #debug\n",
    "    return A\n",
    "            \n",
    "        "
   ]
  },
  {
   "cell_type": "code",
   "execution_count": 20,
   "id": "4885939c",
   "metadata": {},
   "outputs": [
    {
     "name": "stdout",
     "output_type": "stream",
     "text": [
      "[2] | [2, 4, 5, 7, 12, 15, 23, 33, 34]\n",
      "[2, 2] | [4, 5, 7, 12, 15, 23, 33, 34]\n",
      "[2, 2, 4] | [5, 7, 12, 15, 23, 33, 34]\n",
      "[2, 2, 4, 5] | [7, 12, 15, 23, 33, 34]\n",
      "[2, 2, 4, 5, 7] | [12, 15, 23, 33, 34]\n",
      "[2, 2, 4, 5, 7, 12] | [15, 23, 33, 34]\n",
      "[2, 2, 4, 5, 7, 12, 15] | [23, 33, 34]\n",
      "[2, 2, 4, 5, 7, 12, 15, 23] | [33, 34]\n",
      "[2, 2, 4, 5, 7, 12, 15, 23, 33] | [34]\n"
     ]
    },
    {
     "data": {
      "text/plain": [
       "[2, 2, 4, 5, 7, 12, 15, 23, 33, 34]"
      ]
     },
     "execution_count": 20,
     "metadata": {},
     "output_type": "execute_result"
    }
   ],
   "source": [
    "insertion_sort(A)"
   ]
  },
  {
   "cell_type": "markdown",
   "id": "f50d97a9",
   "metadata": {},
   "source": [
    "#### Q3 Given 2 sorted arrays of size M and N, merge and return new sorted array"
   ]
  },
  {
   "cell_type": "code",
   "execution_count": 24,
   "id": "bfc88d2f",
   "metadata": {},
   "outputs": [],
   "source": [
    "\n",
    "\n",
    "def merge(A,B):\n",
    "    i = 0\n",
    "    j = 0\n",
    "    c = []\n",
    "\n",
    "    while i< len(A) and j<len(B):\n",
    "        #compare and move \n",
    "        if A[i] <= B[j]:\n",
    "            c.append(A[i])\n",
    "            i+=1\n",
    "        else:\n",
    "            c.append(B[j])\n",
    "            j+=1\n",
    "    #copy remaining elements\n",
    "    while i < len(A):\n",
    "        c.append(A[i])\n",
    "        i+=1\n",
    "    while j<len(B):\n",
    "        c.append(B[j])\n",
    "        j+=1\n",
    "    \n",
    "    return c"
   ]
  },
  {
   "cell_type": "code",
   "execution_count": null,
   "id": "cdb047c1",
   "metadata": {},
   "outputs": [],
   "source": [
    "A= [2,3,5,7,8,9,12]\n",
    "B= [1,2,4,6,8,9,13]"
   ]
  },
  {
   "cell_type": "code",
   "execution_count": 25,
   "id": "f9266622",
   "metadata": {},
   "outputs": [
    {
     "data": {
      "text/plain": [
       "[1, 2, 2, 3, 4, 5, 6, 7, 8, 8, 9, 9, 12, 13]"
      ]
     },
     "execution_count": 25,
     "metadata": {},
     "output_type": "execute_result"
    }
   ],
   "source": [
    "merge(A,B)"
   ]
  },
  {
   "cell_type": "code",
   "execution_count": null,
   "id": "11ac18f4",
   "metadata": {},
   "outputs": [],
   "source": []
  }
 ],
 "metadata": {
  "kernelspec": {
   "display_name": "Python 3 (ipykernel)",
   "language": "python",
   "name": "python3"
  },
  "language_info": {
   "codemirror_mode": {
    "name": "ipython",
    "version": 3
   },
   "file_extension": ".py",
   "mimetype": "text/x-python",
   "name": "python",
   "nbconvert_exporter": "python",
   "pygments_lexer": "ipython3",
   "version": "3.9.5"
  }
 },
 "nbformat": 4,
 "nbformat_minor": 5
}
