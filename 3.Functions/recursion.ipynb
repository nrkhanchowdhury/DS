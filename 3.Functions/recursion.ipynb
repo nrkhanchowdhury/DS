{
 "cells": [
  {
   "cell_type": "markdown",
   "id": "c9153e63",
   "metadata": {},
   "source": [
    "# Recursion\n",
    "\n",
    "#### Data type: stacks (Last In first Out, LIFO)"
   ]
  },
  {
   "cell_type": "code",
   "execution_count": 1,
   "id": "6f5497b4",
   "metadata": {},
   "outputs": [],
   "source": [
    "def sum(N):\n",
    "    if (N==1): #base condition\n",
    "        return 1\n",
    "    \n",
    "    return sum(N-1)+N #recursive code"
   ]
  },
  {
   "cell_type": "code",
   "execution_count": 4,
   "id": "3991c999",
   "metadata": {},
   "outputs": [],
   "source": [
    "def factorial(N):\n",
    "    if N==1:\n",
    "        return 1\n",
    "    \n",
    "    return N*factorial(N-1)"
   ]
  },
  {
   "cell_type": "code",
   "execution_count": 5,
   "id": "2e93b4f4",
   "metadata": {},
   "outputs": [
    {
     "data": {
      "text/plain": [
       "120"
      ]
     },
     "execution_count": 5,
     "metadata": {},
     "output_type": "execute_result"
    }
   ],
   "source": [
    "factorial(5)"
   ]
  },
  {
   "cell_type": "code",
   "execution_count": 16,
   "id": "7db2ef34",
   "metadata": {},
   "outputs": [],
   "source": [
    "#print numbers in increasing order\n",
    "def inc(n):\n",
    "    if n==1:\n",
    "        print(1)\n",
    "        return #this is important\n",
    "    else: \n",
    "        inc(n-1)\n",
    "        print(n)\n",
    "        \n",
    "#first out in inc(1) which was the last in"
   ]
  },
  {
   "cell_type": "code",
   "execution_count": 17,
   "id": "79c1df6d",
   "metadata": {},
   "outputs": [
    {
     "name": "stdout",
     "output_type": "stream",
     "text": [
      "1\n",
      "2\n",
      "3\n",
      "4\n",
      "5\n"
     ]
    }
   ],
   "source": [
    "inc(5)"
   ]
  },
  {
   "cell_type": "code",
   "execution_count": 32,
   "id": "56204b50",
   "metadata": {},
   "outputs": [],
   "source": [
    "#print numbers in decreasing order\n",
    "\n",
    "def dec(n):\n",
    "    if n == 1:\n",
    "        print(1)\n",
    "        return \n",
    "    else:\n",
    "        print(n)\n",
    "        dec(n-1)\n",
    "\n",
    "#first print n and then call dec(n-1)\n",
    "        \n"
   ]
  },
  {
   "cell_type": "code",
   "execution_count": 33,
   "id": "84981cad",
   "metadata": {},
   "outputs": [
    {
     "name": "stdout",
     "output_type": "stream",
     "text": [
      "5\n",
      "4\n",
      "3\n",
      "2\n",
      "1\n"
     ]
    }
   ],
   "source": [
    "dec(5)"
   ]
  },
  {
   "cell_type": "markdown",
   "id": "4645b5cb",
   "metadata": {},
   "source": [
    "## substring palindrome\n"
   ]
  },
  {
   "cell_type": "code",
   "execution_count": 35,
   "id": "6b9d3540",
   "metadata": {},
   "outputs": [],
   "source": [
    "def isPali(s, start, end):\n",
    "    #base condition:\n",
    "    if start > end:\n",
    "        return True\n",
    "    if (s[start] == s[end]) and isPali(s, start+1, end-1):\n",
    "        return True\n",
    "    return False"
   ]
  },
  {
   "cell_type": "code",
   "execution_count": 37,
   "id": "87e39b48",
   "metadata": {},
   "outputs": [
    {
     "data": {
      "text/plain": [
       "True"
      ]
     },
     "execution_count": 37,
     "metadata": {},
     "output_type": "execute_result"
    }
   ],
   "source": [
    "isPali(\"gooddad\", 4,6)"
   ]
  },
  {
   "cell_type": "code",
   "execution_count": 38,
   "id": "7e0caec2",
   "metadata": {},
   "outputs": [
    {
     "data": {
      "text/plain": [
       "False"
      ]
     },
     "execution_count": 38,
     "metadata": {},
     "output_type": "execute_result"
    }
   ],
   "source": [
    "isPali(\"gooddad\", 2,6)"
   ]
  },
  {
   "cell_type": "code",
   "execution_count": 41,
   "id": "d1d6b430",
   "metadata": {},
   "outputs": [
    {
     "data": {
      "text/plain": [
       "True"
      ]
     },
     "execution_count": 41,
     "metadata": {},
     "output_type": "execute_result"
    }
   ],
   "source": [
    "isPali(\"madam\", 0, len('madam')-1)"
   ]
  },
  {
   "cell_type": "code",
   "execution_count": 42,
   "id": "4e6b1d82",
   "metadata": {},
   "outputs": [
    {
     "data": {
      "text/plain": [
       "True"
      ]
     },
     "execution_count": 42,
     "metadata": {},
     "output_type": "execute_result"
    }
   ],
   "source": [
    "isPali(\"xbmalayalamvc\", 2,10)"
   ]
  },
  {
   "cell_type": "code",
   "execution_count": 44,
   "id": "70dde1be",
   "metadata": {},
   "outputs": [],
   "source": [
    "def isPali(s, start, end):\n",
    "    #base condition:\n",
    "    if start > end:\n",
    "        return True\n",
    "    if (s[start] != s[end]):\n",
    "        return False\n",
    "    \n",
    "    return isPali(s, start+1, end-1)"
   ]
  },
  {
   "cell_type": "code",
   "execution_count": 45,
   "id": "ecf854de",
   "metadata": {},
   "outputs": [
    {
     "data": {
      "text/plain": [
       "True"
      ]
     },
     "execution_count": 45,
     "metadata": {},
     "output_type": "execute_result"
    }
   ],
   "source": [
    "isPali(\"xbmalayalamvc\", 2,10)"
   ]
  },
  {
   "cell_type": "code",
   "execution_count": 79,
   "id": "5f15a897",
   "metadata": {},
   "outputs": [],
   "source": [
    "def countHi(s, count=0):\n",
    "    n = len(s)\n",
    "    m = len(\"hi\")\n",
    "    \n",
    "    #base case:\n",
    "    if n==0 or n<m:\n",
    "        return 0\n",
    "    \n",
    "    #recursive case:\n",
    "    if s[:m]==\"hi\":\n",
    "       \n",
    "        return countHi(s[1:]) + 1\n",
    "    \n",
    "    return countHi(s[1:])\n"
   ]
  },
  {
   "cell_type": "code",
   "execution_count": 80,
   "id": "858a190d",
   "metadata": {},
   "outputs": [
    {
     "data": {
      "text/plain": [
       "2"
      ]
     },
     "execution_count": 80,
     "metadata": {},
     "output_type": "execute_result"
    }
   ],
   "source": [
    "countHi(\"Hihiaaahi\")"
   ]
  },
  {
   "cell_type": "code",
   "execution_count": 64,
   "id": "f830aadf",
   "metadata": {},
   "outputs": [
    {
     "name": "stdout",
     "output_type": "stream",
     "text": [
      "14\n"
     ]
    }
   ],
   "source": [
    "def test(i,j):\n",
    "  if(i==0):\n",
    "    return j\n",
    "  else:\n",
    "    return test(i-1,i+j)\n",
    "print(test(3, 8))"
   ]
  },
  {
   "cell_type": "code",
   "execution_count": 67,
   "id": "3efa8772",
   "metadata": {},
   "outputs": [],
   "source": [
    "def sum_digit(n):\n",
    "    '''input: n = Input in integer format\n",
    "       output:return sum of the digits'''\n",
    "    # YOUR CODE GOES HERE\n",
    "    n = str(n)\n",
    "    \n",
    "    if len(n) ==1:\n",
    "        return int(n)\n",
    "\n",
    "    return int(n[0]) + sum_digit(n[1:])"
   ]
  },
  {
   "cell_type": "code",
   "execution_count": 68,
   "id": "1ebe2cca",
   "metadata": {},
   "outputs": [
    {
     "data": {
      "text/plain": [
       "12"
      ]
     },
     "execution_count": 68,
     "metadata": {},
     "output_type": "execute_result"
    }
   ],
   "source": [
    "sum_digit(345)"
   ]
  },
  {
   "cell_type": "markdown",
   "id": "88020f2c",
   "metadata": {},
   "source": [
    "Write a recursive function to return the reverse of a given number passed as an argument."
   ]
  },
  {
   "cell_type": "code",
   "execution_count": 106,
   "id": "5f5c062c",
   "metadata": {},
   "outputs": [],
   "source": [
    "def rev(num, temp=\"\"):\n",
    "    \n",
    "    num = str(num)\n",
    "    n = len(num)\n",
    "    if n==0:\n",
    "        return \"\"\n",
    "    return num%10 + rev(n//10)"
   ]
  },
  {
   "cell_type": "code",
   "execution_count": 107,
   "id": "cd1eadd7",
   "metadata": {},
   "outputs": [
    {
     "data": {
      "text/plain": [
       "'001'"
      ]
     },
     "execution_count": 107,
     "metadata": {},
     "output_type": "execute_result"
    }
   ],
   "source": [
    "rev('100')"
   ]
  },
  {
   "cell_type": "code",
   "execution_count": 95,
   "id": "338cbb38",
   "metadata": {},
   "outputs": [
    {
     "data": {
      "text/plain": [
       "'100'"
      ]
     },
     "execution_count": 95,
     "metadata": {},
     "output_type": "execute_result"
    }
   ],
   "source": [
    "num = 100\n",
    "num = str(num)\n",
    "num"
   ]
  },
  {
   "cell_type": "code",
   "execution_count": 97,
   "id": "28c2b72f",
   "metadata": {},
   "outputs": [
    {
     "data": {
      "text/plain": [
       "'10'"
      ]
     },
     "execution_count": 97,
     "metadata": {},
     "output_type": "execute_result"
    }
   ],
   "source": [
    "num[:len(num)-1]"
   ]
  },
  {
   "cell_type": "code",
   "execution_count": 118,
   "id": "2ff9857e",
   "metadata": {},
   "outputs": [],
   "source": [
    "def rev(num, temp=''):\n",
    "    ''' n-indicates the number to be reversed,\n",
    "         output:Return the number in reversed order in the string format'''\n",
    "    \n",
    "    # YOUR CODE GOES HERE\n",
    "    num_str = str(num)\n",
    "    n = len(num_str)\n",
    "\n",
    "    #base case\n",
    "    if n == 0:\n",
    "        return \"\"\n",
    "\n",
    "    rev_str = num_str[n-1] + rev(num_str[:n-1])\n",
    "    return rev_str"
   ]
  },
  {
   "cell_type": "code",
   "execution_count": 119,
   "id": "a230e0d6",
   "metadata": {},
   "outputs": [
    {
     "data": {
      "text/plain": [
       "'001'"
      ]
     },
     "execution_count": 119,
     "metadata": {},
     "output_type": "execute_result"
    }
   ],
   "source": [
    "rev(100)"
   ]
  },
  {
   "cell_type": "code",
   "execution_count": 120,
   "id": "8b177732",
   "metadata": {},
   "outputs": [
    {
     "name": "stdout",
     "output_type": "stream",
     "text": [
      "46\n"
     ]
    }
   ],
   "source": [
    "def fun(n):\n",
    "  if (n > 50):\n",
    "    return n - 5\n",
    "  return fun(fun(n+11))\n",
    "print(fun(45))"
   ]
  },
  {
   "cell_type": "code",
   "execution_count": null,
   "id": "b0333324",
   "metadata": {},
   "outputs": [],
   "source": []
  },
  {
   "cell_type": "code",
   "execution_count": 38,
   "id": "c4720b1f",
   "metadata": {},
   "outputs": [],
   "source": [
    "def findAthFibonacci(A):\n",
    "\n",
    "        if A <=0:\n",
    "            return 0\n",
    "        if A == 1:\n",
    "            return 1\n",
    "        else:\n",
    "            return findAthFibonacci(A-1) + findAthFibonacci(A-2) "
   ]
  },
  {
   "cell_type": "code",
   "execution_count": 39,
   "id": "c3869e97",
   "metadata": {},
   "outputs": [
    {
     "data": {
      "text/plain": [
       "2"
      ]
     },
     "execution_count": 39,
     "metadata": {},
     "output_type": "execute_result"
    }
   ],
   "source": [
    "findAthFibonacci(3)"
   ]
  },
  {
   "cell_type": "code",
   "execution_count": null,
   "id": "815d3c7c",
   "metadata": {},
   "outputs": [],
   "source": []
  }
 ],
 "metadata": {
  "kernelspec": {
   "display_name": "Python 3 (ipykernel)",
   "language": "python",
   "name": "python3"
  },
  "language_info": {
   "codemirror_mode": {
    "name": "ipython",
    "version": 3
   },
   "file_extension": ".py",
   "mimetype": "text/x-python",
   "name": "python",
   "nbconvert_exporter": "python",
   "pygments_lexer": "ipython3",
   "version": "3.9.5"
  }
 },
 "nbformat": 4,
 "nbformat_minor": 5
}
