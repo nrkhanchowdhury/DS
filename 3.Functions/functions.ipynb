{
 "cells": [
  {
   "cell_type": "code",
   "execution_count": 1,
   "id": "c5d31533",
   "metadata": {},
   "outputs": [
    {
     "data": {
      "text/plain": [
       "['abc', 'cde', 'def']"
      ]
     },
     "execution_count": 1,
     "metadata": {},
     "output_type": "execute_result"
    }
   ],
   "source": [
    "sentence = \"abc cde def\"\n",
    "sentence.split(\" \")\n"
   ]
  },
  {
   "cell_type": "code",
   "execution_count": 2,
   "id": "71efceed",
   "metadata": {},
   "outputs": [],
   "source": [
    "result = list(map(lambda x: list(x), sentence.split(\" \")))"
   ]
  },
  {
   "cell_type": "code",
   "execution_count": 3,
   "id": "1611ce4d",
   "metadata": {},
   "outputs": [
    {
     "data": {
      "text/plain": [
       "[['a', 'b', 'c'], ['c', 'd', 'e'], ['d', 'e', 'f']]"
      ]
     },
     "execution_count": 3,
     "metadata": {},
     "output_type": "execute_result"
    }
   ],
   "source": [
    "result"
   ]
  },
  {
   "cell_type": "code",
   "execution_count": 4,
   "id": "1c7f61b2",
   "metadata": {},
   "outputs": [
    {
     "name": "stdout",
     "output_type": "stream",
     "text": [
      "[(1, 4, 7, 9, 6, 3), (2, 5, 8, 8, 5, 2), (3, 6, 9, 7, 4, 1)]\n"
     ]
    }
   ],
   "source": [
    "list1 = [[1,2,3],[4,5,6],[7,8,9]]\n",
    "list2 = [[9,8,7],[6,5,4],[3,2,1]]\n",
    "ls11,ls12,ls13=list1\n",
    "ls21,ls22,ls23=list2\n",
    "print(list(zip(ls11,ls12,ls13,ls21,ls22,ls23)))"
   ]
  },
  {
   "cell_type": "code",
   "execution_count": 5,
   "id": "98e8b09f",
   "metadata": {},
   "outputs": [
    {
     "name": "stdout",
     "output_type": "stream",
     "text": [
      "[]\n"
     ]
    }
   ],
   "source": [
    "array  = [1, 2, 3, 4, 5]\n",
    "def func1(x):\n",
    "    return x<0\n",
    "result=filter(func1, array)\n",
    "print(list(result))"
   ]
  },
  {
   "cell_type": "code",
   "execution_count": 6,
   "id": "4e409b85",
   "metadata": {},
   "outputs": [
    {
     "data": {
      "text/plain": [
       "[]"
      ]
     },
     "execution_count": 6,
     "metadata": {},
     "output_type": "execute_result"
    }
   ],
   "source": [
    "array  = [1, 2, 3, 4, 5]\n",
    "list(filter(lambda x:x<0, array))"
   ]
  },
  {
   "cell_type": "code",
   "execution_count": 8,
   "id": "5da0a004",
   "metadata": {},
   "outputs": [
    {
     "name": "stdout",
     "output_type": "stream",
     "text": [
      "4\n"
     ]
    }
   ],
   "source": [
    "import functools\n",
    "lists = [1,2,3,4]\n",
    "print(functools.reduce(lambda x,y : x if x > y else y ,lists))"
   ]
  },
  {
   "cell_type": "code",
   "execution_count": 9,
   "id": "e39abbe5",
   "metadata": {},
   "outputs": [
    {
     "data": {
      "text/plain": [
       "['php', 'aaa']"
      ]
     },
     "execution_count": 9,
     "metadata": {},
     "output_type": "execute_result"
    }
   ],
   "source": [
    "arr = [\"php\", \"w3r\", \"python\", \"aaa\", \"java\"]\n",
    "list( filter( lambda x: (x ==\"\".join( reversed(x))), arr))"
   ]
  },
  {
   "cell_type": "code",
   "execution_count": 12,
   "id": "cd3890d3",
   "metadata": {},
   "outputs": [
    {
     "data": {
      "text/plain": [
       "<list_reverseiterator at 0x110d27640>"
      ]
     },
     "execution_count": 12,
     "metadata": {},
     "output_type": "execute_result"
    }
   ],
   "source": [
    "a = reversed(arr)\n",
    "a"
   ]
  },
  {
   "cell_type": "code",
   "execution_count": 11,
   "id": "0d7c237a",
   "metadata": {},
   "outputs": [
    {
     "data": {
      "text/plain": [
       "['php', 'w3r', 'python', 'aaa', 'java']"
      ]
     },
     "execution_count": 11,
     "metadata": {},
     "output_type": "execute_result"
    }
   ],
   "source": [
    "arr"
   ]
  },
  {
   "cell_type": "code",
   "execution_count": 13,
   "id": "4b835c09",
   "metadata": {},
   "outputs": [],
   "source": [
    "palindromes = list(filter(lambda word: word == word[::-1], arr))"
   ]
  },
  {
   "cell_type": "code",
   "execution_count": 14,
   "id": "e343a078",
   "metadata": {},
   "outputs": [
    {
     "data": {
      "text/plain": [
       "['php', 'aaa']"
      ]
     },
     "execution_count": 14,
     "metadata": {},
     "output_type": "execute_result"
    }
   ],
   "source": [
    "palindromes"
   ]
  },
  {
   "cell_type": "code",
   "execution_count": 18,
   "id": "9568b4a4",
   "metadata": {
    "scrolled": true
   },
   "outputs": [
    {
     "data": {
      "text/plain": [
       "[2, [2, 3, 2, 3], 8, 10]"
      ]
     },
     "execution_count": 18,
     "metadata": {},
     "output_type": "execute_result"
    }
   ],
   "source": [
    "a=[1,[2,3],4,5]\n",
    "#result = lambda x: list(map(lambda y:2*y, x)) if isinstance(x,list) else lambda x:3*x\n",
    "result = list(map(lambda y:2*y, a))\n",
    "#print(result(a))\n",
    "result"
   ]
  },
  {
   "cell_type": "code",
   "execution_count": 20,
   "id": "5b5608c7",
   "metadata": {},
   "outputs": [
    {
     "name": "stdout",
     "output_type": "stream",
     "text": [
      "['Sam@gmail.com', 'Ram@gmail.com', 'Sam@gmail.com', 'samJohnson@iit.com', 'SAM@harvard.com']\n"
     ]
    }
   ],
   "source": [
    "ids=[\"Sam@gmail.com\", \"Ram@gmail.com\", \"Sam@gmail.com\", \"samJohnson@iit.com\", \"SAM@harvard.com\"]\n",
    "name=\"sam\"\n",
    "result = list(filter(lambda x : name.lower() or name.upper() in x , ids))\n",
    "print(result)"
   ]
  },
  {
   "cell_type": "code",
   "execution_count": 21,
   "id": "26d51abf",
   "metadata": {},
   "outputs": [
    {
     "name": "stdout",
     "output_type": "stream",
     "text": [
      "['samJohnson@iit.com', 'SAM@harvard.com']\n"
     ]
    }
   ],
   "source": [
    "ids=[\"Sam@gmail.com\", \"Ram@gmail.com\", \"Sam@gmail.com\", \"samJohnson@iit.com\", \"SAM@harvard.com\"]\n",
    "name=\"sam\"\n",
    "result = list(filter(lambda x : name.lower() in x or name.upper() in x , ids))\n",
    "print(result)"
   ]
  },
  {
   "cell_type": "code",
   "execution_count": 22,
   "id": "d2694096",
   "metadata": {},
   "outputs": [
    {
     "name": "stdout",
     "output_type": "stream",
     "text": [
      "['samJohnson@iit.com']\n"
     ]
    }
   ],
   "source": [
    "ids=[\"Sam@gmail.com\", \"Ram@gmail.com\", \"Sam@gmail.com\", \"samJohnson@iit.com\", \"SAM@harvard.com\"]\n",
    "name=\"sam\"\n",
    "result = list(filter(lambda x : (name.lower() or name.upper()) in x , ids))\n",
    "print(result)"
   ]
  },
  {
   "cell_type": "code",
   "execution_count": 24,
   "id": "d237501d",
   "metadata": {},
   "outputs": [
    {
     "data": {
      "text/plain": [
       "'SAM'"
      ]
     },
     "execution_count": 24,
     "metadata": {},
     "output_type": "execute_result"
    }
   ],
   "source": [
    "name.upper()"
   ]
  },
  {
   "cell_type": "code",
   "execution_count": 35,
   "id": "b5ff49d7",
   "metadata": {},
   "outputs": [
    {
     "name": "stdout",
     "output_type": "stream",
     "text": [
      "sam in samJohnson@iit.com or SAM is present in samJohnson@iit.com\n",
      "sam in SAM@harvard.com or SAM is present in SAM@harvard.com\n"
     ]
    }
   ],
   "source": [
    "ids=[\"Sam@gmail.com\", \"Ram@gmail.com\", \"Sam@gmail.com\", \"samJohnson@iit.com\", \"SAM@harvard.com\"]\n",
    "name = \"Sam\"\n",
    "for x in ids:\n",
    "    #if name.lower() in x:\n",
    "    #    print(\"{} is present in {}\".format(name.lower(), x))\n",
    "    #if name.upper() in x:\n",
    "    #    print(\"{} is present in {}\".format(name.upper(), x))\n",
    "    #if name.lower() or name.upper() in x:   # name.lower() is always TRUE\n",
    "    #    print(\"{} or {} is present in {}\".format(name.lower(), name.upper(), x))\n",
    "    #if (name.upper() or name.lower()) in x:   \n",
    "    #    print(\"({} or {}) is present in {}\".format(name.lower(), name.upper(), x))\n",
    "    if name.lower() in x or name.upper() in x:\n",
    "        print(\"{} in {} or {} is present in {}\".format(name.lower(), x, name.upper(), x))\n",
    "        "
   ]
  },
  {
   "cell_type": "code",
   "execution_count": 36,
   "id": "340da173",
   "metadata": {},
   "outputs": [],
   "source": [
    "ints = [16, 36, 9, 81, 4, 64, 144]\n",
    "nams = [\"balablabalabal\", 'scaler', 'rishabh', 'student', 'course']\n",
    "nums = [16, 36, 9, 81, 4, 64, 144]"
   ]
  },
  {
   "cell_type": "code",
   "execution_count": 53,
   "id": "adfd1a8b",
   "metadata": {},
   "outputs": [],
   "source": [
    "from functools import reduce \n",
    "def func(integers, names, numbers):\n",
    "    '''\n",
    "    input:\n",
    "    integers -> list of integers to perform the square operation on\n",
    "    names -> list of names to filter out as per the condition\n",
    "    numbers -> list of numbers whose product we want\n",
    "    \n",
    "    output:\n",
    "    map_result -> output of integers list\n",
    "    filter_result -> output of the names lsit\n",
    "    reduce_result -> output of the numbers list\n",
    "    '''\n",
    "    map_result, filter_result, reduce_result = None, None, None\n",
    "    \n",
    "    map_result = list(map(lambda x:x**2, integers))\n",
    "    \n",
    "    filter_result = list(filter(lambda x: len(x)<=7, names))\n",
    "\n",
    "    reduce_result = reduce(lambda x,y: x*y, numbers)\n",
    "    \n",
    "    return map_result, filter_result, reduce_result"
   ]
  },
  {
   "cell_type": "code",
   "execution_count": 54,
   "id": "5ecda396",
   "metadata": {},
   "outputs": [
    {
     "name": "stdout",
     "output_type": "stream",
     "text": [
      "([256, 1296, 81, 6561, 16, 4096, 20736], ['scaler', 'rishabh', 'student', 'course'], 15479341056)\n"
     ]
    }
   ],
   "source": [
    "print(func(ints,nams, nums))"
   ]
  },
  {
   "cell_type": "code",
   "execution_count": null,
   "id": "830e6d83",
   "metadata": {},
   "outputs": [],
   "source": []
  }
 ],
 "metadata": {
  "kernelspec": {
   "display_name": "Python 3 (ipykernel)",
   "language": "python",
   "name": "python3"
  },
  "language_info": {
   "codemirror_mode": {
    "name": "ipython",
    "version": 3
   },
   "file_extension": ".py",
   "mimetype": "text/x-python",
   "name": "python",
   "nbconvert_exporter": "python",
   "pygments_lexer": "ipython3",
   "version": "3.9.5"
  }
 },
 "nbformat": 4,
 "nbformat_minor": 5
}
