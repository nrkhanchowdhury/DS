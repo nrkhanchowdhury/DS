{
 "cells": [
  {
   "cell_type": "code",
   "execution_count": 2,
   "id": "529c24c1",
   "metadata": {},
   "outputs": [
    {
     "name": "stdout",
     "output_type": "stream",
     "text": [
      "(4, 6, 7)\n"
     ]
    },
    {
     "data": {
      "text/plain": [
       "5"
      ]
     },
     "execution_count": 2,
     "metadata": {},
     "output_type": "execute_result"
    }
   ],
   "source": [
    "def sum_number(a,b,*args): \n",
    "    print(args) #prints a tuple\n",
    "    return a+b\n",
    "\n",
    "sum_number(2,3,4,6,7)"
   ]
  },
  {
   "cell_type": "code",
   "execution_count": 3,
   "id": "772a630e",
   "metadata": {},
   "outputs": [
    {
     "name": "stdout",
     "output_type": "stream",
     "text": [
      "()\n"
     ]
    },
    {
     "data": {
      "text/plain": [
       "7"
      ]
     },
     "execution_count": 3,
     "metadata": {},
     "output_type": "execute_result"
    }
   ],
   "source": [
    "sum_number(3,4)"
   ]
  },
  {
   "cell_type": "code",
   "execution_count": 6,
   "id": "3b112419",
   "metadata": {},
   "outputs": [],
   "source": [
    "def sum_number(a,b,*args):\n",
    "    print(args)\n",
    "    res = a+b\n",
    "    for i in args:\n",
    "        res +=i\n",
    "    return res"
   ]
  },
  {
   "cell_type": "code",
   "execution_count": 7,
   "id": "40c0f563",
   "metadata": {},
   "outputs": [
    {
     "name": "stdout",
     "output_type": "stream",
     "text": [
      "(4, 5)\n"
     ]
    },
    {
     "data": {
      "text/plain": [
       "14"
      ]
     },
     "execution_count": 7,
     "metadata": {},
     "output_type": "execute_result"
    }
   ],
   "source": [
    "sum_number(2,3,4,5)"
   ]
  },
  {
   "cell_type": "code",
   "execution_count": 12,
   "id": "d5a5e9c9",
   "metadata": {},
   "outputs": [],
   "source": [
    "def sum_number(a,b,*blabla):\n",
    "    print(type(blabla),blabla)\n",
    "    res = a+b\n",
    "    for i in blabla:\n",
    "        res +=i\n",
    "    return res"
   ]
  },
  {
   "cell_type": "code",
   "execution_count": 13,
   "id": "ab3847cd",
   "metadata": {},
   "outputs": [
    {
     "name": "stdout",
     "output_type": "stream",
     "text": [
      "<class 'tuple'> (4, 5)\n"
     ]
    },
    {
     "data": {
      "text/plain": [
       "14"
      ]
     },
     "execution_count": 13,
     "metadata": {},
     "output_type": "execute_result"
    }
   ],
   "source": [
    "sum_number(2,3,4,5)"
   ]
  },
  {
   "cell_type": "code",
   "execution_count": 18,
   "id": "0f15b073",
   "metadata": {},
   "outputs": [],
   "source": [
    "def update_person(name, id, **kwargs):  #kwargs stores dictionary\n",
    "    print(type(kwargs), kwargs)\n",
    "    dict1 ={\"name\": name,\n",
    "           \"id\": id}\n",
    "    dict1.update(kwargs)\n",
    "    return dict1"
   ]
  },
  {
   "cell_type": "code",
   "execution_count": 17,
   "id": "1a3f9f0d",
   "metadata": {},
   "outputs": [
    {
     "name": "stdout",
     "output_type": "stream",
     "text": [
      "<class 'dict'> {'gender': 'M', 'office': 'amazon', 'bacth': 'nov'}\n"
     ]
    },
    {
     "data": {
      "text/plain": [
       "{'name': 'Cas', 'id': 101, 'gender': 'M', 'office': 'amazon', 'bacth': 'nov'}"
      ]
     },
     "execution_count": 17,
     "metadata": {},
     "output_type": "execute_result"
    }
   ],
   "source": [
    "update_person(\"Cas\", 101, gender=\"M\", office=\"amazon\", bacth=\"nov\")"
   ]
  },
  {
   "cell_type": "code",
   "execution_count": 19,
   "id": "64707639",
   "metadata": {},
   "outputs": [],
   "source": [
    "def update_person_info(name, id,*args, **kwargs):  #kwargs stores dictionary\n",
    "    print(type(args), args)\n",
    "    print(type(kwargs), kwargs)\n",
    "    dict1 ={\"name\": name,\n",
    "           \"id\": id}\n",
    "    dict1.update(kwargs)\n",
    "    return dict1"
   ]
  },
  {
   "cell_type": "code",
   "execution_count": 20,
   "id": "9ec4e190",
   "metadata": {},
   "outputs": [
    {
     "name": "stdout",
     "output_type": "stream",
     "text": [
      "<class 'tuple'> (3, 5)\n",
      "<class 'dict'> {'gender': 'M', 'office': 'amazon', 'bacth': 'nov'}\n"
     ]
    },
    {
     "data": {
      "text/plain": [
       "{'name': 'Casa', 'id': 12, 'gender': 'M', 'office': 'amazon', 'bacth': 'nov'}"
      ]
     },
     "execution_count": 20,
     "metadata": {},
     "output_type": "execute_result"
    }
   ],
   "source": [
    "update_person_info(\"Casa\", 12, 3,5, gender=\"M\", office=\"amazon\", bacth=\"nov\")"
   ]
  },
  {
   "cell_type": "markdown",
   "id": "8cf9d10c",
   "metadata": {},
   "source": [
    "## Higher order functions:"
   ]
  },
  {
   "cell_type": "code",
   "execution_count": 27,
   "id": "b905de6b",
   "metadata": {},
   "outputs": [],
   "source": [
    "def func():\n",
    "    def func2():\n",
    "        print(\"hello\")\n",
    "    return func2  #return is a function\n",
    "a = func()"
   ]
  },
  {
   "cell_type": "code",
   "execution_count": 28,
   "id": "941f3559",
   "metadata": {},
   "outputs": [
    {
     "data": {
      "text/plain": [
       "function"
      ]
     },
     "execution_count": 28,
     "metadata": {},
     "output_type": "execute_result"
    }
   ],
   "source": [
    "type(a)"
   ]
  },
  {
   "cell_type": "code",
   "execution_count": 29,
   "id": "09fb9ccb",
   "metadata": {},
   "outputs": [
    {
     "name": "stdout",
     "output_type": "stream",
     "text": [
      "hello\n"
     ]
    }
   ],
   "source": [
    "a()"
   ]
  },
  {
   "cell_type": "code",
   "execution_count": 30,
   "id": "f16ad0a5",
   "metadata": {},
   "outputs": [
    {
     "name": "stdout",
     "output_type": "stream",
     "text": [
      "hello\n"
     ]
    }
   ],
   "source": [
    "def func():\n",
    "    def func2():\n",
    "        print(\"hello\")\n",
    "    return func2()\n",
    "a = func()"
   ]
  },
  {
   "cell_type": "code",
   "execution_count": 31,
   "id": "b7206c7e",
   "metadata": {},
   "outputs": [
    {
     "data": {
      "text/plain": [
       "NoneType"
      ]
     },
     "execution_count": 31,
     "metadata": {},
     "output_type": "execute_result"
    }
   ],
   "source": [
    "type(a)"
   ]
  },
  {
   "cell_type": "code",
   "execution_count": 32,
   "id": "c1ca280f",
   "metadata": {},
   "outputs": [],
   "source": [
    "def func():\n",
    "    def func2():\n",
    "        return 2\n",
    "    return func2()\n",
    "a = func()"
   ]
  },
  {
   "cell_type": "code",
   "execution_count": 34,
   "id": "a5883f39",
   "metadata": {},
   "outputs": [
    {
     "data": {
      "text/plain": [
       "int"
      ]
     },
     "execution_count": 34,
     "metadata": {},
     "output_type": "execute_result"
    }
   ],
   "source": [
    "type(a)"
   ]
  },
  {
   "cell_type": "code",
   "execution_count": null,
   "id": "a72f61cd",
   "metadata": {},
   "outputs": [],
   "source": [
    "def gen_exp(y):\n",
    "    def exp(x):\n",
    "        return x**y\n",
    "    return exp\n"
   ]
  },
  {
   "cell_type": "code",
   "execution_count": 37,
   "id": "ec51d0b5",
   "metadata": {},
   "outputs": [
    {
     "data": {
      "text/plain": [
       "function"
      ]
     },
     "execution_count": 37,
     "metadata": {},
     "output_type": "execute_result"
    }
   ],
   "source": [
    "exp_5 = gen_exp(5) #function that can raise any number to the pwer 5\n",
    "type(exp_5)"
   ]
  },
  {
   "cell_type": "code",
   "execution_count": 38,
   "id": "81db4ad4",
   "metadata": {},
   "outputs": [
    {
     "data": {
      "text/plain": [
       "32"
      ]
     },
     "execution_count": 38,
     "metadata": {},
     "output_type": "execute_result"
    }
   ],
   "source": [
    "exp_5(2) #takes number as a input"
   ]
  },
  {
   "cell_type": "code",
   "execution_count": 39,
   "id": "6e46826d",
   "metadata": {},
   "outputs": [
    {
     "data": {
      "text/plain": [
       "243"
      ]
     },
     "execution_count": 39,
     "metadata": {},
     "output_type": "execute_result"
    }
   ],
   "source": [
    "exp_5(3)"
   ]
  },
  {
   "cell_type": "code",
   "execution_count": 40,
   "id": "96c1e4d8",
   "metadata": {},
   "outputs": [],
   "source": [
    "exp_4 = gen_exp(4) # fucn that raise any number to powe 4"
   ]
  },
  {
   "cell_type": "code",
   "execution_count": 41,
   "id": "3ee827d2",
   "metadata": {},
   "outputs": [
    {
     "data": {
      "text/plain": [
       "16"
      ]
     },
     "execution_count": 41,
     "metadata": {},
     "output_type": "execute_result"
    }
   ],
   "source": [
    "exp"
   ]
  },
  {
   "cell_type": "markdown",
   "id": "e2562aab",
   "metadata": {},
   "source": [
    "## Decorators \n",
    "    - Decrators takes fucntion as arguments\n",
    "    - Return a function"
   ]
  },
  {
   "cell_type": "code",
   "execution_count": 44,
   "id": "9e23e0f4",
   "metadata": {},
   "outputs": [],
   "source": [
    "def foo():\n",
    "    print(\"-\"*20)\n",
    "    print(\"foo\")\n",
    "    print(\"-\"*20)\n",
    "    \n",
    "def bar():\n",
    "    print(\"bar\")"
   ]
  },
  {
   "cell_type": "code",
   "execution_count": 45,
   "id": "c7388255",
   "metadata": {},
   "outputs": [
    {
     "name": "stdout",
     "output_type": "stream",
     "text": [
      "--------------------\n",
      "foo\n",
      "--------------------\n"
     ]
    }
   ],
   "source": [
    "foo()"
   ]
  },
  {
   "cell_type": "code",
   "execution_count": 59,
   "id": "3edc023c",
   "metadata": {},
   "outputs": [],
   "source": [
    "def pretty(func): #accepts fucntion a argument\n",
    "    def inner():\n",
    "        print(\"-\"*20)\n",
    "        func()\n",
    "        print(\"-\"*20)\n",
    "    return inner"
   ]
  },
  {
   "cell_type": "code",
   "execution_count": 56,
   "id": "0a469cb1",
   "metadata": {},
   "outputs": [],
   "source": [
    "new_bar = pretty(bar)"
   ]
  },
  {
   "cell_type": "code",
   "execution_count": 60,
   "id": "a31a3925",
   "metadata": {},
   "outputs": [
    {
     "name": "stdout",
     "output_type": "stream",
     "text": [
      "____________________\n",
      "bar\n",
      "____________________\n"
     ]
    }
   ],
   "source": [
    "new_bar()"
   ]
  },
  {
   "cell_type": "code",
   "execution_count": 63,
   "id": "939eae6c",
   "metadata": {},
   "outputs": [
    {
     "name": "stdout",
     "output_type": "stream",
     "text": [
      "--------------------\n",
      "what!!!\n",
      "--------------------\n"
     ]
    }
   ],
   "source": [
    "@pretty #@decorator name\n",
    "def suprise():\n",
    "    print(\"what!!!\")\n",
    "suprise()"
   ]
  },
  {
   "cell_type": "code",
   "execution_count": null,
   "id": "a58ad735",
   "metadata": {},
   "outputs": [],
   "source": []
  }
 ],
 "metadata": {
  "kernelspec": {
   "display_name": "Python 3 (ipykernel)",
   "language": "python",
   "name": "python3"
  },
  "language_info": {
   "codemirror_mode": {
    "name": "ipython",
    "version": 3
   },
   "file_extension": ".py",
   "mimetype": "text/x-python",
   "name": "python",
   "nbconvert_exporter": "python",
   "pygments_lexer": "ipython3",
   "version": "3.9.5"
  }
 },
 "nbformat": 4,
 "nbformat_minor": 5
}
