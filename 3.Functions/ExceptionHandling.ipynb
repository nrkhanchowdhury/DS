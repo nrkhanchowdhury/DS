{
 "cells": [
  {
   "cell_type": "markdown",
   "id": "e4b6d8dc",
   "metadata": {},
   "source": [
    "# Python Exception Handling - Try, Except and Finally"
   ]
  },
  {
   "cell_type": "markdown",
   "id": "d865e243",
   "metadata": {},
   "source": [
    "In Python, exceptions can be handled using a try statement.\n",
    "\n",
    "A critical operation which can raise exception is placed inside the try clause and the code that handles exception is written in except clause. Try and except come in pairs."
   ]
  },
  {
   "cell_type": "code",
   "execution_count": 2,
   "id": "807e2f5c",
   "metadata": {},
   "outputs": [
    {
     "name": "stdout",
     "output_type": "stream",
     "text": [
      "The entry is b\n",
      "Oops! <class 'ValueError'> occured.\n",
      "Next entry.\n",
      "***************************\n",
      "\n",
      "The entry is 0\n",
      "Oops! <class 'ZeroDivisionError'> occured.\n",
      "Next entry.\n",
      "***************************\n",
      "\n",
      "The entry is 2\n",
      "The reciprocal of 2 is 0.5\n"
     ]
    }
   ],
   "source": [
    "# import module sys to get the type of exception\n",
    "import sys\n",
    "\n",
    "lst = ['b', 0, 2]\n",
    "\n",
    "for entry in lst:\n",
    "    try: \n",
    "        print(\"The entry is\", entry)\n",
    "        r = 1 / int(entry)\n",
    "    except:\n",
    "        print(\"Oops!\", sys.exc_info()[0],\"occured.\")\n",
    "        print(\"Next entry.\")\n",
    "        print(\"***************************\")\n",
    "        print()\n",
    "print(\"The reciprocal of\", entry, \"is\", r)"
   ]
  },
  {
   "cell_type": "markdown",
   "id": "af5be8c2",
   "metadata": {},
   "source": [
    "# Catching Specific Exceptions in Python"
   ]
  },
  {
   "cell_type": "code",
   "execution_count": 3,
   "id": "8f83334f",
   "metadata": {},
   "outputs": [
    {
     "name": "stdout",
     "output_type": "stream",
     "text": [
      "****************************\n",
      "The entry is b\n",
      "This is a ValueError.\n",
      "****************************\n",
      "The entry is 0\n",
      "This is a ZeroError.\n",
      "****************************\n",
      "The entry is 2\n",
      "The reciprocal of 2 is 0.5\n"
     ]
    }
   ],
   "source": [
    "import sys\n",
    "\n",
    "lst = ['b', 0, 2]\n",
    "\n",
    "for entry in lst:\n",
    "    try:\n",
    "        print(\"****************************\")\n",
    "        print(\"The entry is\", entry)\n",
    "        r = 1 / int(entry)\n",
    "    except(ValueError):\n",
    "        print(\"This is a ValueError.\")\n",
    "    except(ZeroDivisionError):\n",
    "        print(\"This is a ZeroError.\")\n",
    "    except:\n",
    "        print(\"Some other error\")\n",
    "        \n",
    "print(\"The reciprocal of\", entry, \"is\", r)"
   ]
  },
  {
   "cell_type": "markdown",
   "id": "5e01cb8e",
   "metadata": {},
   "source": [
    "# Raising Exceptions\n",
    "\n",
    "In Python programming, exceptions are raised when corresponding errors occur at run time, but we can forcefully raise it using the keyword raise.\n",
    "\n",
    "We can also optionally pass in value to the exception to clarify why that exception was raised."
   ]
  },
  {
   "cell_type": "code",
   "execution_count": 4,
   "id": "71d68fb6",
   "metadata": {},
   "outputs": [
    {
     "ename": "KeyboardInterrupt",
     "evalue": "",
     "output_type": "error",
     "traceback": [
      "\u001b[0;31m---------------------------------------------------------------------------\u001b[0m",
      "\u001b[0;31mKeyboardInterrupt\u001b[0m                         Traceback (most recent call last)",
      "Cell \u001b[0;32mIn [4], line 1\u001b[0m\n\u001b[0;32m----> 1\u001b[0m \u001b[38;5;28;01mraise\u001b[39;00m \u001b[38;5;167;01mKeyboardInterrupt\u001b[39;00m\n",
      "\u001b[0;31mKeyboardInterrupt\u001b[0m: "
     ]
    }
   ],
   "source": [
    "raise KeyboardInterrupt"
   ]
  },
  {
   "cell_type": "code",
   "execution_count": 5,
   "id": "5a1ee71e",
   "metadata": {},
   "outputs": [
    {
     "ename": "MemoryError",
     "evalue": "This is a Memory error",
     "output_type": "error",
     "traceback": [
      "\u001b[0;31m---------------------------------------------------------------------------\u001b[0m",
      "\u001b[0;31mMemoryError\u001b[0m                               Traceback (most recent call last)",
      "Cell \u001b[0;32mIn [5], line 1\u001b[0m\n\u001b[0;32m----> 1\u001b[0m \u001b[38;5;28;01mraise\u001b[39;00m \u001b[38;5;167;01mMemoryError\u001b[39;00m(\u001b[38;5;124m\"\u001b[39m\u001b[38;5;124mThis is a Memory error\u001b[39m\u001b[38;5;124m\"\u001b[39m)\n",
      "\u001b[0;31mMemoryError\u001b[0m: This is a Memory error"
     ]
    }
   ],
   "source": [
    "raise MemoryError(\"This is a Memory error\")"
   ]
  },
  {
   "cell_type": "code",
   "execution_count": 7,
   "id": "896831d5",
   "metadata": {},
   "outputs": [
    {
     "name": "stdout",
     "output_type": "stream",
     "text": [
      "Enter a positive integer:-10\n",
      "Error:Entered negative number\n"
     ]
    }
   ],
   "source": [
    "try:\n",
    "    num = int(input(\"Enter a positive integer:\"))\n",
    "    if num <= 0:\n",
    "        raise ValueError(\"Error:Entered negative number\") # Custome message\n",
    "except ValueError as e:\n",
    "    print(e)"
   ]
  },
  {
   "cell_type": "code",
   "execution_count": 14,
   "id": "2a3ed20c",
   "metadata": {},
   "outputs": [
    {
     "name": "stdout",
     "output_type": "stream",
     "text": [
      "-12\n"
     ]
    },
    {
     "ename": "Exception",
     "evalue": "Negative number entered",
     "output_type": "error",
     "traceback": [
      "\u001b[0;31m---------------------------------------------------------------------------\u001b[0m",
      "\u001b[0;31mException\u001b[0m                                 Traceback (most recent call last)",
      "Cell \u001b[0;32mIn [14], line 3\u001b[0m\n\u001b[1;32m      1\u001b[0m num \u001b[38;5;241m=\u001b[39m \u001b[38;5;28mint\u001b[39m(\u001b[38;5;28minput\u001b[39m())\n\u001b[1;32m      2\u001b[0m \u001b[38;5;28;01mif\u001b[39;00m num \u001b[38;5;241m<\u001b[39m\u001b[38;5;241m0\u001b[39m:\n\u001b[0;32m----> 3\u001b[0m     \u001b[38;5;28;01mraise\u001b[39;00m \u001b[38;5;167;01mException\u001b[39;00m(\u001b[38;5;124m\"\u001b[39m\u001b[38;5;124mNegative number entered\u001b[39m\u001b[38;5;124m\"\u001b[39m)\n",
      "\u001b[0;31mException\u001b[0m: Negative number entered"
     ]
    }
   ],
   "source": [
    "num = int(input())\n",
    "if num <0:\n",
    "    raise Exception(\"Negative number entered\")"
   ]
  },
  {
   "cell_type": "code",
   "execution_count": 11,
   "id": "da4cf373",
   "metadata": {},
   "outputs": [
    {
     "name": "stdout",
     "output_type": "stream",
     "text": [
      "****************************\n",
      "The entry is b\n",
      "This is a ValueError.\n",
      "The reciprocal of b is None\n",
      "****************************\n",
      "The entry is 0\n",
      "This is a ZeroError.\n",
      "The reciprocal of 0 is None\n",
      "****************************\n",
      "The entry is 2\n",
      "The reciprocal of 2 is 0.5\n",
      "Try, Except, Finally block all got executed\n"
     ]
    }
   ],
   "source": [
    "import sys\n",
    "\n",
    "lst = ['b', 0, 2]\n",
    "r = None\n",
    "for entry in lst:\n",
    "    try:\n",
    "        print(\"****************************\")\n",
    "        print(\"The entry is\", entry)\n",
    "        r = 1 / int(entry)\n",
    "    except(ValueError):\n",
    "        print(\"This is a ValueError.\")\n",
    "    except(ZeroDivisionError):\n",
    "        print(\"This is a ZeroError.\")\n",
    "    except:\n",
    "        print(\"Some other error\")\n",
    "    \n",
    "    finally:\n",
    "        print(\"The reciprocal of\", entry, \"is\", r)\n",
    "print(\"Try, Except, Finally block all got executed\")"
   ]
  },
  {
   "cell_type": "code",
   "execution_count": 12,
   "id": "466b5c78",
   "metadata": {},
   "outputs": [
    {
     "name": "stdout",
     "output_type": "stream",
     "text": [
      "0.5\n",
      "division by zero\n",
      "unsupported operand type(s) for /: 'int' and 'str'\n",
      "unsupported operand type(s) for /: 'int' and 'NoneType'\n"
     ]
    }
   ],
   "source": [
    "l1 = [2,0,\"hello\", None]\n",
    "\n",
    "for ele in l1:\n",
    "    try:\n",
    "        print(1/ele)\n",
    "    except ZeroDivisionError as e:\n",
    "        print(e)\n",
    "    except Exception as ex: #covers all sort of exceptions\n",
    "        print(ex)"
   ]
  },
  {
   "cell_type": "code",
   "execution_count": 13,
   "id": "b3d2d8db",
   "metadata": {},
   "outputs": [
    {
     "name": "stdout",
     "output_type": "stream",
     "text": [
      "I am trying\n",
      "Except\n",
      "Finally\n"
     ]
    }
   ],
   "source": [
    "try:\n",
    "    print(\"I am trying\")\n",
    "    1/0\n",
    "except:\n",
    "    print(\"Except\")\n",
    "finally:\n",
    "    print(\"Finally\")"
   ]
  },
  {
   "cell_type": "code",
   "execution_count": 22,
   "id": "7b4353ea",
   "metadata": {},
   "outputs": [
    {
     "name": "stdout",
     "output_type": "stream",
     "text": [
      "Enter a number-12\n",
      "Negative number entered\n"
     ]
    }
   ],
   "source": [
    "#define python user-defined exceptions\n",
    "class InvalidAgeException(Exception): \n",
    "    \"Raised when the input value is negative\"\n",
    "    \n",
    "    pass\n",
    "\n",
    "try:\n",
    "    num = int(input(\"Enter a number\"))\n",
    "    if num <0:\n",
    "        raise InvalidAgeException\n",
    "    else:\n",
    "        print(\"Number is +ve\")\n",
    "except InvalidAgeException:\n",
    "    \n",
    "    print(\"Negative number entered\")"
   ]
  },
  {
   "cell_type": "code",
   "execution_count": null,
   "id": "748c10e7",
   "metadata": {},
   "outputs": [],
   "source": []
  }
 ],
 "metadata": {
  "kernelspec": {
   "display_name": "Python 3 (ipykernel)",
   "language": "python",
   "name": "python3"
  },
  "language_info": {
   "codemirror_mode": {
    "name": "ipython",
    "version": 3
   },
   "file_extension": ".py",
   "mimetype": "text/x-python",
   "name": "python",
   "nbconvert_exporter": "python",
   "pygments_lexer": "ipython3",
   "version": "3.9.5"
  }
 },
 "nbformat": 4,
 "nbformat_minor": 5
}
