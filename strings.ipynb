{
 "cells": [
  {
   "cell_type": "code",
   "execution_count": 5,
   "id": "7a84152f",
   "metadata": {},
   "outputs": [
    {
     "data": {
      "text/plain": [
       "'12nafis'"
      ]
     },
     "execution_count": 5,
     "metadata": {},
     "output_type": "execute_result"
    }
   ],
   "source": [
    "s = \"12NAFIS\"\n",
    "s.lower()"
   ]
  },
  {
   "cell_type": "code",
   "execution_count": 6,
   "id": "be10baa2",
   "metadata": {},
   "outputs": [
    {
     "data": {
      "text/plain": [
       "'12NAFIS'"
      ]
     },
     "execution_count": 6,
     "metadata": {},
     "output_type": "execute_result"
    }
   ],
   "source": [
    "s.upper()"
   ]
  },
  {
   "cell_type": "code",
   "execution_count": 8,
   "id": "8a4dd4ea",
   "metadata": {},
   "outputs": [
    {
     "data": {
      "text/plain": [
       "'abccc'"
      ]
     },
     "execution_count": 8,
     "metadata": {},
     "output_type": "execute_result"
    }
   ],
   "source": [
    "\"a\"+\"b\"+\"c\"*3"
   ]
  },
  {
   "cell_type": "code",
   "execution_count": 9,
   "id": "84923154",
   "metadata": {},
   "outputs": [],
   "source": [
    "l = [\"1\", \"2\", \"3\"]"
   ]
  },
  {
   "cell_type": "code",
   "execution_count": 10,
   "id": "090df8cb",
   "metadata": {},
   "outputs": [
    {
     "data": {
      "text/plain": [
       "'1.2.3'"
      ]
     },
     "execution_count": 10,
     "metadata": {},
     "output_type": "execute_result"
    }
   ],
   "source": [
    "\".\".join(l)"
   ]
  },
  {
   "cell_type": "code",
   "execution_count": 11,
   "id": "e27148a9",
   "metadata": {},
   "outputs": [
    {
     "data": {
      "text/plain": [
       "['1', '2', '3']"
      ]
     },
     "execution_count": 11,
     "metadata": {},
     "output_type": "execute_result"
    }
   ],
   "source": [
    "l"
   ]
  },
  {
   "cell_type": "code",
   "execution_count": 12,
   "id": "b7dc78a1",
   "metadata": {},
   "outputs": [
    {
     "data": {
      "text/plain": [
       "'1 2 3'"
      ]
     },
     "execution_count": 12,
     "metadata": {},
     "output_type": "execute_result"
    }
   ],
   "source": [
    "\" \".join(l)"
   ]
  },
  {
   "cell_type": "code",
   "execution_count": 3,
   "id": "35ca0060",
   "metadata": {},
   "outputs": [],
   "source": [
    "string = \"1001a\""
   ]
  },
  {
   "cell_type": "code",
   "execution_count": 4,
   "id": "18debed5",
   "metadata": {},
   "outputs": [
    {
     "data": {
      "text/plain": [
       "False"
      ]
     },
     "execution_count": 4,
     "metadata": {},
     "output_type": "execute_result"
    }
   ],
   "source": [
    "string.isdigit()\n"
   ]
  },
  {
   "cell_type": "code",
   "execution_count": 5,
   "id": "94183eab",
   "metadata": {},
   "outputs": [
    {
     "data": {
      "text/plain": [
       "True"
      ]
     },
     "execution_count": 5,
     "metadata": {},
     "output_type": "execute_result"
    }
   ],
   "source": [
    "string.isalnum()"
   ]
  },
  {
   "cell_type": "code",
   "execution_count": 9,
   "id": "539e4b04",
   "metadata": {},
   "outputs": [
    {
     "data": {
      "text/plain": [
       "False"
      ]
     },
     "execution_count": 9,
     "metadata": {},
     "output_type": "execute_result"
    }
   ],
   "source": [
    "string.istitle()"
   ]
  },
  {
   "cell_type": "code",
   "execution_count": 2,
   "id": "bd4c96f9",
   "metadata": {},
   "outputs": [
    {
     "data": {
      "text/plain": [
       "True"
      ]
     },
     "execution_count": 2,
     "metadata": {},
     "output_type": "execute_result"
    }
   ],
   "source": [
    "string = \"     \"\n",
    "string.isspace()"
   ]
  },
  {
   "cell_type": "code",
   "execution_count": null,
   "id": "63d62fb6",
   "metadata": {},
   "outputs": [],
   "source": []
  },
  {
   "cell_type": "code",
   "execution_count": 22,
   "id": "9743f369",
   "metadata": {},
   "outputs": [
    {
     "data": {
      "text/plain": [
       "97"
      ]
     },
     "execution_count": 22,
     "metadata": {},
     "output_type": "execute_result"
    }
   ],
   "source": [
    "#ascii value\n",
    "ord(\"a\")"
   ]
  },
  {
   "cell_type": "code",
   "execution_count": 23,
   "id": "231b06b4",
   "metadata": {},
   "outputs": [
    {
     "data": {
      "text/plain": [
       "65"
      ]
     },
     "execution_count": 23,
     "metadata": {},
     "output_type": "execute_result"
    }
   ],
   "source": [
    "ord(\"A\")"
   ]
  },
  {
   "cell_type": "code",
   "execution_count": 37,
   "id": "8698ac47",
   "metadata": {},
   "outputs": [],
   "source": [
    "def trans(s: string):\n",
    "    res  =\"\"\n",
    "    #get ascii value\n",
    "    for i in s:\n",
    "        if i.isupper():\n",
    "            upperascii = ord(i)\n",
    "            lowerascii = upperascii + 32 \n",
    "        else:\n",
    "            lowerascii = ord(i)\n",
    "        \n",
    "        res += chr(lowerascii)\n",
    "        \n",
    "        \n",
    "    #print(upperascii, lowerascii)\n",
    "    return res\n",
    "    "
   ]
  },
  {
   "cell_type": "code",
   "execution_count": 38,
   "id": "99d1b566",
   "metadata": {},
   "outputs": [
    {
     "data": {
      "text/plain": [
       "'abcd'"
      ]
     },
     "execution_count": 38,
     "metadata": {},
     "output_type": "execute_result"
    }
   ],
   "source": [
    "trans(\"abcD\")"
   ]
  },
  {
   "cell_type": "code",
   "execution_count": 57,
   "id": "8c28546b",
   "metadata": {},
   "outputs": [],
   "source": [
    "class Solution:\n",
    "    # @param A : string\n",
    "    # @param B : integer\n",
    "    # @param C : integer\n",
    "    # @return a strings\n",
    "    def solve(self, A, B, C):\n",
    "        res = \"\"\n",
    "        for i in range(len(A)):\n",
    "            if ord(A[i]) ==B:\n",
    "                res += chr(C)\n",
    "            #    print(res)\n",
    "            else:\n",
    "                res += A[i]\n",
    "        \n",
    "        return res"
   ]
  },
  {
   "cell_type": "code",
   "execution_count": 58,
   "id": "46b97201",
   "metadata": {},
   "outputs": [
    {
     "data": {
      "text/plain": [
       "'adscd'"
      ]
     },
     "execution_count": 58,
     "metadata": {},
     "output_type": "execute_result"
    }
   ],
   "source": [
    "A = Solution()\n",
    "A.solve(\"abscd\", 98, 100)"
   ]
  },
  {
   "cell_type": "code",
   "execution_count": 2,
   "id": "da645c6d",
   "metadata": {},
   "outputs": [],
   "source": [
    "def date_format(date):\n",
    "    '''Input: date takes the string as input\n",
    "       Output:return resultant date formats'''\n",
    "\n",
    "    # YOUR CODE GOES HERE\n",
    "    # date = DD/MM/YYYY\n",
    "\n",
    "    lst =date.split(\"/\")\n",
    "    \n",
    "    \n",
    "    \"/\".join(lst)\n",
    "\n",
    "\n",
    "    return \"/\".join(lst)"
   ]
  },
  {
   "cell_type": "code",
   "execution_count": 3,
   "id": "53fffda1",
   "metadata": {},
   "outputs": [
    {
     "data": {
      "text/plain": [
       "'22/10/2022'"
      ]
     },
     "execution_count": 3,
     "metadata": {},
     "output_type": "execute_result"
    }
   ],
   "source": [
    "date_format(\"22/10/2022\")"
   ]
  },
  {
   "cell_type": "code",
   "execution_count": 4,
   "id": "f3feac11",
   "metadata": {},
   "outputs": [
    {
     "ename": "TypeError",
     "evalue": "can only concatenate str (not \"int\") to str",
     "output_type": "error",
     "traceback": [
      "\u001b[0;31m---------------------------------------------------------------------------\u001b[0m",
      "\u001b[0;31mTypeError\u001b[0m                                 Traceback (most recent call last)",
      "Cell \u001b[0;32mIn [4], line 1\u001b[0m\n\u001b[0;32m----> 1\u001b[0m \u001b[38;5;28mprint\u001b[39m(\u001b[38;5;124m\"\u001b[39m\u001b[38;5;124mhello\u001b[39m\u001b[38;5;124m\"\u001b[39m\u001b[38;5;241m+\u001b[39m\u001b[38;5;241m1\u001b[39m\u001b[38;5;241m+\u001b[39m\u001b[38;5;241m2\u001b[39m\u001b[38;5;241m+\u001b[39m\u001b[38;5;241m3\u001b[39m)\n",
      "\u001b[0;31mTypeError\u001b[0m: can only concatenate str (not \"int\") to str"
     ]
    }
   ],
   "source": [
    "print(\"hello\"+1+2+3)"
   ]
  },
  {
   "cell_type": "code",
   "execution_count": 1,
   "id": "c8522505",
   "metadata": {},
   "outputs": [
    {
     "name": "stdout",
     "output_type": "stream",
     "text": [
      "hello\n"
     ]
    }
   ],
   "source": [
    "s = \"hello\"\n",
    "print(s[:100])"
   ]
  },
  {
   "cell_type": "code",
   "execution_count": 82,
   "id": "720c2b3f",
   "metadata": {},
   "outputs": [
    {
     "name": "stdout",
     "output_type": "stream",
     "text": [
      "fox quick word own fox word! ord!\n"
     ]
    }
   ],
   "source": [
    "str1 = \"quick brown fox word!\"\n",
    "print(str1[12:15], str1[:5], str1[-5:-1], str1[8:110], str1[-4:])"
   ]
  },
  {
   "cell_type": "code",
   "execution_count": null,
   "id": "c7da89ac",
   "metadata": {},
   "outputs": [],
   "source": []
  }
 ],
 "metadata": {
  "kernelspec": {
   "display_name": "Python 3 (ipykernel)",
   "language": "python",
   "name": "python3"
  },
  "language_info": {
   "codemirror_mode": {
    "name": "ipython",
    "version": 3
   },
   "file_extension": ".py",
   "mimetype": "text/x-python",
   "name": "python",
   "nbconvert_exporter": "python",
   "pygments_lexer": "ipython3",
   "version": "3.9.5"
  }
 },
 "nbformat": 4,
 "nbformat_minor": 5
}
