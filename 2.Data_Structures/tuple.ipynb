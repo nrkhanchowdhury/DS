{
 "cells": [
  {
   "cell_type": "code",
   "execution_count": 1,
   "id": "8ae1f682",
   "metadata": {},
   "outputs": [],
   "source": [
    "tuple1 = (1150, \"2344\")"
   ]
  },
  {
   "cell_type": "code",
   "execution_count": 2,
   "id": "9b477dce",
   "metadata": {},
   "outputs": [
    {
     "ename": "TypeError",
     "evalue": "'>' not supported between instances of 'str' and 'int'",
     "output_type": "error",
     "traceback": [
      "\u001b[0;31m---------------------------------------------------------------------------\u001b[0m",
      "\u001b[0;31mTypeError\u001b[0m                                 Traceback (most recent call last)",
      "Cell \u001b[0;32mIn [2], line 1\u001b[0m\n\u001b[0;32m----> 1\u001b[0m \u001b[38;5;28mprint\u001b[39m(\u001b[38;5;28mmax\u001b[39m(tuple1))\n",
      "\u001b[0;31mTypeError\u001b[0m: '>' not supported between instances of 'str' and 'int'"
     ]
    }
   ],
   "source": [
    "print(max(tuple1))"
   ]
  },
  {
   "cell_type": "code",
   "execution_count": 3,
   "id": "4e7ac74b",
   "metadata": {},
   "outputs": [],
   "source": [
    "tuple1 = (1150, 123)"
   ]
  },
  {
   "cell_type": "code",
   "execution_count": 4,
   "id": "b605a29f",
   "metadata": {},
   "outputs": [],
   "source": [
    "tup = (10, 8, 5, 2, 10, 15, 10, 8, 5, 8, 8, 2)"
   ]
  },
  {
   "cell_type": "code",
   "execution_count": 5,
   "id": "9fb6be33",
   "metadata": {},
   "outputs": [
    {
     "name": "stdout",
     "output_type": "stream",
     "text": [
      "10 3\n",
      "8 4\n",
      "5 2\n",
      "2 2\n",
      "10 3\n",
      "15 1\n",
      "10 3\n",
      "8 4\n",
      "5 2\n",
      "8 4\n",
      "8 4\n",
      "2 2\n"
     ]
    }
   ],
   "source": [
    "for num in tup:\n",
    "    print(num, tup.count(num))"
   ]
  },
  {
   "cell_type": "code",
   "execution_count": 6,
   "id": "2b2052c3",
   "metadata": {},
   "outputs": [
    {
     "name": "stdout",
     "output_type": "stream",
     "text": [
      "10 3\n",
      "8 4\n",
      "5 2\n",
      "2 2\n",
      "15 1\n"
     ]
    }
   ],
   "source": [
    "lst =[]\n",
    "for num in tup:\n",
    "    if num not in lst:\n",
    "        lst.append(num)\n",
    "        print(num, tup.count(num))"
   ]
  },
  {
   "cell_type": "code",
   "execution_count": 7,
   "id": "8d13db59",
   "metadata": {},
   "outputs": [],
   "source": [
    "tup1 = (0,1,)"
   ]
  },
  {
   "cell_type": "code",
   "execution_count": 8,
   "id": "a06cb563",
   "metadata": {},
   "outputs": [
    {
     "data": {
      "text/plain": [
       "tuple"
      ]
     },
     "execution_count": 8,
     "metadata": {},
     "output_type": "execute_result"
    }
   ],
   "source": [
    "type(tup1)"
   ]
  },
  {
   "cell_type": "code",
   "execution_count": 13,
   "id": "48ecd578",
   "metadata": {},
   "outputs": [
    {
     "data": {
      "text/plain": [
       "1"
      ]
     },
     "execution_count": 13,
     "metadata": {},
     "output_type": "execute_result"
    }
   ],
   "source": [
    "tup1.count(0)"
   ]
  },
  {
   "cell_type": "code",
   "execution_count": null,
   "id": "171bd2ac",
   "metadata": {},
   "outputs": [],
   "source": []
  }
 ],
 "metadata": {
  "kernelspec": {
   "display_name": "Python 3 (ipykernel)",
   "language": "python",
   "name": "python3"
  },
  "language_info": {
   "codemirror_mode": {
    "name": "ipython",
    "version": 3
   },
   "file_extension": ".py",
   "mimetype": "text/x-python",
   "name": "python",
   "nbconvert_exporter": "python",
   "pygments_lexer": "ipython3",
   "version": "3.9.5"
  }
 },
 "nbformat": 4,
 "nbformat_minor": 5
}
