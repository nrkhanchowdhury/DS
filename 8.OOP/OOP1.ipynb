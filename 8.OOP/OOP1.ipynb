{
 "cells": [
  {
   "cell_type": "code",
   "execution_count": 3,
   "id": "167e0da7",
   "metadata": {},
   "outputs": [],
   "source": [
    "# banking application\n",
    "\n",
    "\n",
    "# attributes\n",
    "acc_no = 100\n",
    "acc_name = \"Nafis\"\n",
    "acc_bal = 10000\n",
    "\n",
    "#methods\n",
    "\n",
    "def deposit(curr_bal, amount):\n",
    "    return curr_bal + amount\n",
    "\n",
    "def display_bal(curr_bal):\n",
    "    print(curr_bal)\n",
    "    \n",
    "    "
   ]
  },
  {
   "cell_type": "code",
   "execution_count": 5,
   "id": "aca88dd7",
   "metadata": {},
   "outputs": [
    {
     "data": {
      "text/plain": [
       "10500"
      ]
     },
     "execution_count": 5,
     "metadata": {},
     "output_type": "execute_result"
    }
   ],
   "source": [
    "acc_bal = deposit(acc_bal,500)\n",
    "acc_bal"
   ]
  },
  {
   "cell_type": "code",
   "execution_count": 7,
   "id": "eba143a0",
   "metadata": {},
   "outputs": [],
   "source": [
    "class bankAcc:\n",
    "    pass\n",
    "\n",
    "#object of class\n",
    "c1 = bankAcc()"
   ]
  },
  {
   "cell_type": "code",
   "execution_count": 8,
   "id": "97d4ba89",
   "metadata": {},
   "outputs": [
    {
     "data": {
      "text/plain": [
       "True"
      ]
     },
     "execution_count": 8,
     "metadata": {},
     "output_type": "execute_result"
    }
   ],
   "source": [
    "isinstance(c1, bankAcc)\n"
   ]
  },
  {
   "cell_type": "code",
   "execution_count": 9,
   "id": "f5b25124",
   "metadata": {},
   "outputs": [
    {
     "name": "stdout",
     "output_type": "stream",
     "text": [
      "<class '__main__.bankAcc'>\n"
     ]
    }
   ],
   "source": [
    "print(type(c1))"
   ]
  },
  {
   "cell_type": "code",
   "execution_count": 10,
   "id": "5f5214a3",
   "metadata": {},
   "outputs": [
    {
     "data": {
      "text/plain": [
       "<__main__.bankAcc at 0x10c5f76a0>"
      ]
     },
     "execution_count": 10,
     "metadata": {},
     "output_type": "execute_result"
    }
   ],
   "source": [
    "#Instantation: Process of creating an instance of a class/object\n",
    "c1 = bankAcc() #object 1\n",
    "c2 = bankAcc() #object 2\n",
    "bankAcc()      #object 3, called but not stored to a var"
   ]
  },
  {
   "cell_type": "code",
   "execution_count": 12,
   "id": "79cfe0cb",
   "metadata": {},
   "outputs": [],
   "source": [
    "#assinging attributes to a object\n",
    "c1.acc_no = 10\n",
    "c1.acc_name = \"Nafis\"\n",
    "c1.acc_bal = 1000"
   ]
  },
  {
   "cell_type": "code",
   "execution_count": 24,
   "id": "d45353f3",
   "metadata": {},
   "outputs": [],
   "source": [
    "class bankAcc:\n",
    "    def display_bal(self):\n",
    "        print(\"Account balance for\", self.acc_name, \"is\", self.acc_bal)"
   ]
  },
  {
   "cell_type": "code",
   "execution_count": 17,
   "id": "548b6dc7",
   "metadata": {},
   "outputs": [],
   "source": [
    "c1 = bankAcc()\n",
    "c1.acc_no = 10\n",
    "c1.acc_name = \"Nafis\"\n",
    "c1.acc_bal = 1000"
   ]
  },
  {
   "cell_type": "code",
   "execution_count": 18,
   "id": "27934a8b",
   "metadata": {},
   "outputs": [
    {
     "name": "stdout",
     "output_type": "stream",
     "text": [
      "Account balance for Nafis is 1000\n"
     ]
    }
   ],
   "source": [
    "bankAcc.display_bal(c1)"
   ]
  },
  {
   "cell_type": "code",
   "execution_count": 19,
   "id": "51e8789b",
   "metadata": {},
   "outputs": [],
   "source": [
    "c2 = bankAcc()\n",
    "c2.acc_no = 100\n",
    "c2.acc_name = \"Chowdhury\"\n",
    "c2.acc_bal = 100"
   ]
  },
  {
   "cell_type": "code",
   "execution_count": 20,
   "id": "a748b6ad",
   "metadata": {},
   "outputs": [
    {
     "name": "stdout",
     "output_type": "stream",
     "text": [
      "Account balance for Chowdhury is 100\n"
     ]
    }
   ],
   "source": [
    "bankAcc.display_bal(c2)"
   ]
  },
  {
   "cell_type": "code",
   "execution_count": 21,
   "id": "1b6f4636",
   "metadata": {},
   "outputs": [
    {
     "name": "stdout",
     "output_type": "stream",
     "text": [
      "Account balance for Chowdhury is 100\n"
     ]
    }
   ],
   "source": [
    "c2.display_bal()"
   ]
  },
  {
   "cell_type": "code",
   "execution_count": 22,
   "id": "36a5dc86",
   "metadata": {},
   "outputs": [
    {
     "name": "stdout",
     "output_type": "stream",
     "text": [
      "Account balance for Nafis is 1000\n"
     ]
    }
   ],
   "source": [
    "c1.display_bal()"
   ]
  },
  {
   "cell_type": "code",
   "execution_count": 25,
   "id": "82029cde",
   "metadata": {},
   "outputs": [],
   "source": [
    "class bankAcc:\n",
    "    def display_bal(self):\n",
    "        print(\"Account balance for\", self.acc_name, \"is\", self.acc_bal)\n",
    "        \n",
    "    def deposit(self, amount):\n",
    "        self.acc_bal = self.acc_bal + amount"
   ]
  },
  {
   "cell_type": "code",
   "execution_count": 32,
   "id": "7a3d5e3b",
   "metadata": {},
   "outputs": [],
   "source": [
    "c1 = bankAcc()\n",
    "c1.acc_no = 10\n",
    "c1.acc_name = \"Nafis\"\n",
    "c1.acc_bal = 1000"
   ]
  },
  {
   "cell_type": "code",
   "execution_count": 33,
   "id": "2194142c",
   "metadata": {},
   "outputs": [
    {
     "name": "stdout",
     "output_type": "stream",
     "text": [
      "Account balance for Nafis is 1500\n"
     ]
    }
   ],
   "source": [
    "\n",
    "c1.deposit(500)\n",
    "c1.display_bal()"
   ]
  },
  {
   "cell_type": "markdown",
   "id": "b2d20f8e",
   "metadata": {},
   "source": [
    "### intialiser: initialises common instance variables for every object that are created"
   ]
  },
  {
   "cell_type": "code",
   "execution_count": 39,
   "id": "bfc2a342",
   "metadata": {},
   "outputs": [],
   "source": [
    "class bankAcc:\n",
    "    #initialiser function\n",
    "    def __init__(self, acc_id, acc_name, acc_bal):\n",
    "        self.acc_id = acc_id\n",
    "        self.acc_name = acc_name\n",
    "        self.acc_bal = acc_bal\n",
    "    \n",
    "    def display_bal(self):\n",
    "        print(\"Account balance for\", self.acc_name, \"is\", self.acc_bal)\n",
    "        \n",
    "    def deposit(self, amount):\n",
    "        self.acc_bal = self.acc_bal + amount"
   ]
  },
  {
   "cell_type": "code",
   "execution_count": 35,
   "id": "718b6ada",
   "metadata": {},
   "outputs": [],
   "source": [
    "c1 = bankAcc(100, \"Nafis\", 1000)"
   ]
  },
  {
   "cell_type": "code",
   "execution_count": 36,
   "id": "738aa1d6",
   "metadata": {},
   "outputs": [
    {
     "name": "stdout",
     "output_type": "stream",
     "text": [
      "Account balance for Nafis is 1000\n"
     ]
    }
   ],
   "source": [
    "c1.display_bal()"
   ]
  },
  {
   "cell_type": "code",
   "execution_count": 37,
   "id": "27e831b7",
   "metadata": {},
   "outputs": [],
   "source": [
    "c1.deposit(500)"
   ]
  },
  {
   "cell_type": "code",
   "execution_count": 38,
   "id": "e88fff64",
   "metadata": {},
   "outputs": [
    {
     "name": "stdout",
     "output_type": "stream",
     "text": [
      "Account balance for Nafis is 1500\n"
     ]
    }
   ],
   "source": [
    "c1.display_bal()"
   ]
  },
  {
   "cell_type": "code",
   "execution_count": 40,
   "id": "5cb32160",
   "metadata": {},
   "outputs": [
    {
     "ename": "TypeError",
     "evalue": "__init__() missing 1 required positional argument: 'acc_bal'",
     "output_type": "error",
     "traceback": [
      "\u001b[0;31m---------------------------------------------------------------------------\u001b[0m",
      "\u001b[0;31mTypeError\u001b[0m                                 Traceback (most recent call last)",
      "Cell \u001b[0;32mIn [40], line 1\u001b[0m\n\u001b[0;32m----> 1\u001b[0m c1 \u001b[38;5;241m=\u001b[39m bankAcc(\u001b[38;5;241m100\u001b[39m, \u001b[38;5;124m\"\u001b[39m\u001b[38;5;124mNafis\u001b[39m\u001b[38;5;124m\"\u001b[39m)\n",
      "\u001b[0;31mTypeError\u001b[0m: __init__() missing 1 required positional argument: 'acc_bal'"
     ]
    }
   ],
   "source": [
    "c1 = bankAcc(100, \"Nafis\")"
   ]
  },
  {
   "cell_type": "markdown",
   "id": "534ca7b9",
   "metadata": {},
   "source": [
    "## Every instance of class bankAcc must have 3 instance variables"
   ]
  },
  {
   "cell_type": "code",
   "execution_count": 42,
   "id": "91a8854c",
   "metadata": {},
   "outputs": [],
   "source": [
    "c2 = bankAcc(12, \"Chowdhury\", 45)"
   ]
  },
  {
   "cell_type": "code",
   "execution_count": 43,
   "id": "31d28817",
   "metadata": {},
   "outputs": [],
   "source": [
    "c2.pan_id = \"bakafdd\""
   ]
  },
  {
   "cell_type": "code",
   "execution_count": 45,
   "id": "035ef60f",
   "metadata": {},
   "outputs": [
    {
     "data": {
      "text/plain": [
       "'bakafdd'"
      ]
     },
     "execution_count": 45,
     "metadata": {},
     "output_type": "execute_result"
    }
   ],
   "source": [
    "c2.pan_id"
   ]
  },
  {
   "cell_type": "code",
   "execution_count": 47,
   "id": "49a6453a",
   "metadata": {},
   "outputs": [
    {
     "data": {
      "text/plain": [
       "'\\nconstrcutor allocated memory and creates common instance variables. Initialiser only creates common instance variables.\\n'"
      ]
     },
     "execution_count": 47,
     "metadata": {},
     "output_type": "execute_result"
    }
   ],
   "source": [
    "\"\"\"\n",
    "Constrcutor allocated memory and creates common instance variables. (C++/java)\n",
    "Initialiser only creates common instance variables. (python does not have concept for constructor.)\n",
    "\"\"\""
   ]
  },
  {
   "cell_type": "markdown",
   "id": "236977d4",
   "metadata": {},
   "source": [
    "### Pillars of OOP\n",
    "- Encapsulation, Abstraction, Polymorphism, Inheritance, \n",
    "- Instance variable vs Class Variable"
   ]
  },
  {
   "cell_type": "code",
   "execution_count": 51,
   "id": "588ac68e",
   "metadata": {},
   "outputs": [],
   "source": [
    "class Phone:\n",
    "    def __init__(self, phone):\n",
    "        self.phone = phone\n",
    "\n",
    "class ApplePhone:\n",
    "    def __init__(self, model):\n",
    "        self.model = model"
   ]
  },
  {
   "cell_type": "code",
   "execution_count": 52,
   "id": "43981c7c",
   "metadata": {},
   "outputs": [
    {
     "data": {
      "text/plain": [
       "__main__.ApplePhone"
      ]
     },
     "execution_count": 52,
     "metadata": {},
     "output_type": "execute_result"
    }
   ],
   "source": [
    "ap1 = ApplePhone(\"iphone 14\")\n",
    "type(ap1)"
   ]
  },
  {
   "cell_type": "code",
   "execution_count": 53,
   "id": "12cc85a5",
   "metadata": {},
   "outputs": [],
   "source": [
    "class bankAcc:\n",
    "    #initialiser function\n",
    "    def __init__(self, acc_id, acc_name, acc_bal):\n",
    "        self.acc_id = acc_id\n",
    "        self.acc_name = acc_name\n",
    "        self.acc_bal = acc_bal\n",
    "    \n",
    "    def display_bal(self):\n",
    "        print(\"Account balance for\", self.acc_name, \"is\", self.acc_bal)\n",
    "        \n",
    "    def deposit(self, amount):\n",
    "        self.acc_bal = self.acc_bal + amount\n",
    "        \n",
    "    def withdraw(self, amount):\n",
    "        self.acc_bal = self.acc_bal - amount"
   ]
  },
  {
   "cell_type": "code",
   "execution_count": 54,
   "id": "28769b97",
   "metadata": {},
   "outputs": [],
   "source": [
    "c1 = bankAcc(100, \"Nafis\", 10000)"
   ]
  },
  {
   "cell_type": "code",
   "execution_count": 55,
   "id": "70bf96a9",
   "metadata": {},
   "outputs": [
    {
     "name": "stdout",
     "output_type": "stream",
     "text": [
      "Account balance for Nafis is 10000\n"
     ]
    }
   ],
   "source": [
    "c1.display_bal()"
   ]
  },
  {
   "cell_type": "code",
   "execution_count": 56,
   "id": "44f2a838",
   "metadata": {},
   "outputs": [],
   "source": [
    "c1.withdraw(200)"
   ]
  },
  {
   "cell_type": "code",
   "execution_count": 57,
   "id": "1ace09e2",
   "metadata": {},
   "outputs": [
    {
     "name": "stdout",
     "output_type": "stream",
     "text": [
      "Account balance for Nafis is 9800\n"
     ]
    }
   ],
   "source": [
    "c1.display_bal()"
   ]
  },
  {
   "cell_type": "code",
   "execution_count": 77,
   "id": "e5ad1c19",
   "metadata": {},
   "outputs": [
    {
     "data": {
      "text/plain": [
       "{'price': 50, 'quantity': 10, 'bags': 2}"
      ]
     },
     "execution_count": 77,
     "metadata": {},
     "output_type": "execute_result"
    }
   ],
   "source": [
    "class fruits:\n",
    "    def __init__(self, price):\n",
    "        self.price = price\n",
    "\n",
    "obj=fruits(50)\n",
    "obj.quantity=10\n",
    "obj.bags=2\n",
    "\n",
    "obj.__dict__"
   ]
  },
  {
   "cell_type": "code",
   "execution_count": 78,
   "id": "1c965cfe",
   "metadata": {},
   "outputs": [
    {
     "name": "stdout",
     "output_type": "stream",
     "text": [
      "Name: Sanjay Club: Real Madrid Sports: Football Name: Ravi Club: United Sports: Tennis "
     ]
    }
   ],
   "source": [
    "class Player:\n",
    "  # class variables\n",
    "  club = 'United'\n",
    "  sport = 'Football'\n",
    "\n",
    "  def __init__(self, name):\n",
    "    # Instance variable\n",
    "    self.name = name\n",
    "\n",
    "  def show(self):\n",
    "    print('Name:', self.name, 'Club:', self.club, 'Sports:', self.sport, end=\" \")\n",
    "\n",
    "p1 = Player('Sanjay')\n",
    "p1.club = 'Real Madrid'\n",
    "p1.show()\n",
    "\n",
    "p2 = Player('Ravi')\n",
    "p2.sport = 'Tennis'\n",
    "p2.show()"
   ]
  },
  {
   "cell_type": "code",
   "execution_count": 67,
   "id": "8c8e5803",
   "metadata": {},
   "outputs": [
    {
     "ename": "NameError",
     "evalue": "name 'blabla' is not defined",
     "output_type": "error",
     "traceback": [
      "\u001b[0;31m---------------------------------------------------------------------------\u001b[0m",
      "\u001b[0;31mNameError\u001b[0m                                 Traceback (most recent call last)",
      "Cell \u001b[0;32mIn [67], line 1\u001b[0m\n\u001b[0;32m----> 1\u001b[0m blabla\n",
      "\u001b[0;31mNameError\u001b[0m: name 'blabla' is not defined"
     ]
    }
   ],
   "source": []
  },
  {
   "cell_type": "code",
   "execution_count": 96,
   "id": "7c5ef52e",
   "metadata": {},
   "outputs": [],
   "source": [
    "class Bill():\n",
    "\n",
    "    def __init__(self, prev_read, cur_read):\n",
    "        #YOUR CODE GOESS HERE\n",
    "        self.prev_read = prev_read\n",
    "        self.cur_read = cur_read\n",
    "        \n",
    "        \n",
    "        \n",
    "    def total_bill(self):\n",
    "         total=0.0\n",
    "        #YOUR CODE GOESS HERE\n",
    "         units = self.cur_read - self.prev_read\n",
    "         base = 150\n",
    "         if units <=100:\n",
    "            total = units*3.5\n",
    "         elif units >100 and units<=200:\n",
    "            total = 100*3.5 + (units-100)*5\n",
    "         else:\n",
    "            total = 100*3.5 + 100*5 + (units-200)*8\n",
    "        \n",
    "         return total + base\n",
    "    \n",
    "    \n",
    "    "
   ]
  },
  {
   "cell_type": "code",
   "execution_count": 97,
   "id": "a3d5a0b9",
   "metadata": {},
   "outputs": [],
   "source": [
    "b1 = Bill(200,650)"
   ]
  },
  {
   "cell_type": "code",
   "execution_count": 81,
   "id": "ac18910e",
   "metadata": {},
   "outputs": [
    {
     "data": {
      "text/plain": [
       "__main__.Bill"
      ]
     },
     "execution_count": 81,
     "metadata": {},
     "output_type": "execute_result"
    }
   ],
   "source": [
    "type(b1)"
   ]
  },
  {
   "cell_type": "code",
   "execution_count": 98,
   "id": "fe1aeb30",
   "metadata": {},
   "outputs": [
    {
     "data": {
      "text/plain": [
       "3000.0"
      ]
     },
     "execution_count": 98,
     "metadata": {},
     "output_type": "execute_result"
    }
   ],
   "source": [
    "b1.total_bill()"
   ]
  },
  {
   "cell_type": "code",
   "execution_count": 87,
   "id": "17c37c08",
   "metadata": {},
   "outputs": [
    {
     "data": {
      "text/plain": [
       "650"
      ]
     },
     "execution_count": 87,
     "metadata": {},
     "output_type": "execute_result"
    }
   ],
   "source": [
    "b1.cur_read"
   ]
  },
  {
   "cell_type": "code",
   "execution_count": 3,
   "id": "20b38075",
   "metadata": {},
   "outputs": [],
   "source": [
    "class A:\n",
    "    def __init__(self):\n",
    "        print(\"New object created\")"
   ]
  },
  {
   "cell_type": "code",
   "execution_count": 4,
   "id": "1d7e7222",
   "metadata": {},
   "outputs": [
    {
     "name": "stdout",
     "output_type": "stream",
     "text": [
      "New object created\n",
      "New object created\n",
      "4365581088\n",
      "New object created\n",
      "4365579552\n",
      "New object created\n",
      "New object created\n",
      "<__main__.A object at 0x104357b20>\n"
     ]
    }
   ],
   "source": [
    "A()\n",
    "obj = A()\n",
    "print(id(obj))\n",
    "obj = A()\n",
    "print(id(obj))\n",
    "if A():\n",
    "    print(A())"
   ]
  },
  {
   "cell_type": "code",
   "execution_count": 6,
   "id": "29cf0285",
   "metadata": {},
   "outputs": [
    {
     "name": "stdout",
     "output_type": "stream",
     "text": [
      "New object created\n"
     ]
    }
   ],
   "source": [
    "if obj==A():\n",
    "    print(A())"
   ]
  },
  {
   "cell_type": "code",
   "execution_count": 7,
   "id": "906ff583",
   "metadata": {},
   "outputs": [
    {
     "name": "stdout",
     "output_type": "stream",
     "text": [
      "<__main__.A object at 0x104357520>\n"
     ]
    }
   ],
   "source": [
    "print(obj)"
   ]
  },
  {
   "cell_type": "code",
   "execution_count": 10,
   "id": "be8a005e",
   "metadata": {},
   "outputs": [
    {
     "name": "stdout",
     "output_type": "stream",
     "text": [
      "True\n"
     ]
    }
   ],
   "source": [
    "class A:\n",
    "    def __init__(self, name):\n",
    "        self.name = name\n",
    "    \n",
    "a1 = A(\"Bunty\")\n",
    "a2 = A(\"Bunty\")\n",
    "a3=a1\n",
    "print(id(a1) == id(a3))"
   ]
  },
  {
   "cell_type": "code",
   "execution_count": 13,
   "id": "c4368310",
   "metadata": {},
   "outputs": [
    {
     "name": "stdout",
     "output_type": "stream",
     "text": [
      "4383588112\n",
      "4383588112\n"
     ]
    }
   ],
   "source": [
    "class MyClass:\n",
    "    def show_id(self):\n",
    "        return id(self)\n",
    "    \n",
    "a1 = MyClass()\n",
    "print(id(a1))\n",
    "print(a1.show_id())"
   ]
  },
  {
   "cell_type": "markdown",
   "id": "56b75f91",
   "metadata": {},
   "source": [
    "- Instance variables: variables that belong to object\n",
    "- Class variables: also known as static variable\n",
    "  - It will be defined just under the class\n",
    "  - It is a shared variable accessible to all intances of class"
   ]
  },
  {
   "cell_type": "code",
   "execution_count": 19,
   "id": "2562fa97",
   "metadata": {},
   "outputs": [],
   "source": [
    "class A():\n",
    "    #class var\n",
    "    var1 = \"Hello\" #Class variable\n",
    "    \n",
    "    #initialiser\n",
    "    def __init__(self,var2,var3):\n",
    "        self.var2=var2 #instance variable\n",
    "        var3=var3 #local variable"
   ]
  },
  {
   "cell_type": "code",
   "execution_count": 20,
   "id": "ba5506d8",
   "metadata": {},
   "outputs": [],
   "source": [
    "a = A(2,3)"
   ]
  },
  {
   "cell_type": "code",
   "execution_count": 21,
   "id": "be553ee1",
   "metadata": {},
   "outputs": [
    {
     "data": {
      "text/plain": [
       "2"
      ]
     },
     "execution_count": 21,
     "metadata": {},
     "output_type": "execute_result"
    }
   ],
   "source": [
    "a.var2"
   ]
  },
  {
   "cell_type": "code",
   "execution_count": 22,
   "id": "7039f4e2",
   "metadata": {},
   "outputs": [
    {
     "ename": "AttributeError",
     "evalue": "'A' object has no attribute 'var3'",
     "output_type": "error",
     "traceback": [
      "\u001b[0;31m---------------------------------------------------------------------------\u001b[0m",
      "\u001b[0;31mAttributeError\u001b[0m                            Traceback (most recent call last)",
      "Cell \u001b[0;32mIn [22], line 1\u001b[0m\n\u001b[0;32m----> 1\u001b[0m a\u001b[38;5;241m.\u001b[39mvar3\n",
      "\u001b[0;31mAttributeError\u001b[0m: 'A' object has no attribute 'var3'"
     ]
    }
   ],
   "source": [
    "a.var3"
   ]
  },
  {
   "cell_type": "code",
   "execution_count": 23,
   "id": "d4d8dcb6",
   "metadata": {},
   "outputs": [
    {
     "data": {
      "text/plain": [
       "'Hello'"
      ]
     },
     "execution_count": 23,
     "metadata": {},
     "output_type": "execute_result"
    }
   ],
   "source": [
    "a.var1"
   ]
  },
  {
   "cell_type": "code",
   "execution_count": 24,
   "id": "593f42bf",
   "metadata": {},
   "outputs": [],
   "source": [
    "b = A(3,4)"
   ]
  },
  {
   "cell_type": "code",
   "execution_count": 25,
   "id": "66a923c2",
   "metadata": {},
   "outputs": [
    {
     "data": {
      "text/plain": [
       "'Hello'"
      ]
     },
     "execution_count": 25,
     "metadata": {},
     "output_type": "execute_result"
    }
   ],
   "source": [
    "b.var1"
   ]
  },
  {
   "cell_type": "code",
   "execution_count": 26,
   "id": "224cbcfe",
   "metadata": {},
   "outputs": [
    {
     "name": "stdout",
     "output_type": "stream",
     "text": [
      "4364875952\n",
      "4364875952\n"
     ]
    }
   ],
   "source": [
    "print(id(b.var1))\n",
    "print(id(a.var1))"
   ]
  },
  {
   "cell_type": "code",
   "execution_count": 30,
   "id": "de7d15f6",
   "metadata": {},
   "outputs": [
    {
     "name": "stdout",
     "output_type": "stream",
     "text": [
      "Hello\n",
      "4364875952\n"
     ]
    }
   ],
   "source": [
    "print(A.var1)\n",
    "print(id(A.var1)) #same id as instances"
   ]
  },
  {
   "cell_type": "code",
   "execution_count": 31,
   "id": "69c2b461",
   "metadata": {},
   "outputs": [
    {
     "name": "stdout",
     "output_type": "stream",
     "text": [
      "<__main__.A object at 0x1056790a0>\n"
     ]
    }
   ],
   "source": [
    "print(a)"
   ]
  },
  {
   "cell_type": "code",
   "execution_count": 2,
   "id": "f93b5f0a",
   "metadata": {},
   "outputs": [],
   "source": [
    "class Employee:\n",
    "    company = \"scaler\"\n",
    "    \n",
    "    def __init__(self, name):\n",
    "        self.name = name"
   ]
  },
  {
   "cell_type": "code",
   "execution_count": 6,
   "id": "e36034c9",
   "metadata": {},
   "outputs": [
    {
     "name": "stdout",
     "output_type": "stream",
     "text": [
      "scaler\n",
      "scaler\n",
      "scaler\n",
      "4502261104 4502261104 4502261104\n"
     ]
    }
   ],
   "source": [
    "e1 = Employee(\"Nafis\")\n",
    "e2 = Employee(\"Chowdhury\")\n",
    "\n",
    "print(e1.company)\n",
    "print(e2.company)\n",
    "print(Employee.company)\n",
    "print(id(Employee.company), id(e1.company), id(e2.company))"
   ]
  },
  {
   "cell_type": "code",
   "execution_count": 7,
   "id": "ce6f415d",
   "metadata": {},
   "outputs": [
    {
     "name": "stdout",
     "output_type": "stream",
     "text": [
      "Interviewbit\n",
      "Interviewbit\n",
      "Interviewbit\n",
      "4535113264 4535113264 4535113264\n"
     ]
    }
   ],
   "source": [
    "#change Class variable using Class variable itself\n",
    "#method 1\n",
    "Employee.company = \"Interviewbit\"\n",
    "\n",
    "print(e1.company)\n",
    "print(e2.company)\n",
    "print(Employee.company)\n",
    "print(id(Employee.company), id(e1.company), id(e2.company))"
   ]
  },
  {
   "cell_type": "code",
   "execution_count": 10,
   "id": "87cad81c",
   "metadata": {},
   "outputs": [
    {
     "name": "stdout",
     "output_type": "stream",
     "text": [
      "Scaler\n",
      "Interviewbit\n",
      "Interviewbit\n",
      "4535113264 4536354608 4535113264\n"
     ]
    }
   ],
   "source": [
    "#method 2\n",
    "# change using object\n",
    "e1.company = \"Scaler\"\n",
    "#class varibale overwritten b class variable\n",
    "\n",
    "print(e1.company) \n",
    "print(e2.company)\n",
    "print(Employee.company)\n",
    "print(id(Employee.company), id(e1.company), id(e2.company))"
   ]
  },
  {
   "cell_type": "code",
   "execution_count": 9,
   "id": "059984dc",
   "metadata": {},
   "outputs": [
    {
     "data": {
      "text/plain": [
       "({'name': 'Nafis', 'company': 'Scaler'}, {'name': 'Chowdhury'})"
      ]
     },
     "execution_count": 9,
     "metadata": {},
     "output_type": "execute_result"
    }
   ],
   "source": [
    "e1.__dict__, e2.__dict__"
   ]
  },
  {
   "cell_type": "code",
   "execution_count": 11,
   "id": "278b9494",
   "metadata": {},
   "outputs": [
    {
     "name": "stdout",
     "output_type": "stream",
     "text": [
      "3\n"
     ]
    }
   ],
   "source": [
    "class A:\n",
    "    counter= 0\n",
    "    def __init__(self):\n",
    "      A.counter+=1 #class\n",
    "\n",
    "A() #object 1\n",
    "\n",
    "obj1 = A() #object 2\n",
    "\n",
    "if A(): #object 3\n",
    "    print(A.counter)"
   ]
  },
  {
   "cell_type": "code",
   "execution_count": 13,
   "id": "36898e09",
   "metadata": {},
   "outputs": [
    {
     "name": "stdout",
     "output_type": "stream",
     "text": [
      "0\n",
      "1\n"
     ]
    }
   ],
   "source": [
    "class A:\n",
    "    counter= 0\n",
    "    def __init__(self):\n",
    "      self.counter+=1 #OBJECT\n",
    "\n",
    "A() #object 1\n",
    "\n",
    "obj1 = A() #object 2\n",
    "\n",
    "if A(): #object 3\n",
    "    print(A.counter) #CLASS VARIBALE\n",
    "    print(obj1.counter) #OBJECT VARIABLE"
   ]
  },
  {
   "cell_type": "code",
   "execution_count": 16,
   "id": "03104a9d",
   "metadata": {},
   "outputs": [
    {
     "name": "stdout",
     "output_type": "stream",
     "text": [
      "0\n",
      "1\n",
      "1\n"
     ]
    }
   ],
   "source": [
    "class A:\n",
    "    counter= 0\n",
    "    def __init__(self):\n",
    "      self.counter+=1 #OBJECT\n",
    "\n",
    "A() #object 1\n",
    "\n",
    "obj1 = A() #object 2\n",
    "obj1 = A() #object 3\n",
    "obj2 = A() #object 4\n",
    "\n",
    "if A(): #object 5\n",
    "    print(A.counter) #CLASS VARIBALE\n",
    "    print(obj1.counter) #OBJECT VARIABLE\n",
    "    print(obj2.counter) #object variable"
   ]
  },
  {
   "cell_type": "code",
   "execution_count": 19,
   "id": "28bc2d5a",
   "metadata": {},
   "outputs": [],
   "source": [
    "class Employee:\n",
    "    \n",
    "    #class var\n",
    "    company = [\"scaler\"] #mutable\n",
    "    \n",
    "    #constructor\n",
    "    def __init__(self, name):\n",
    "        self.name = name\n",
    "        \n",
    "    #chnages beaviour of print\n",
    "    def __str__(self):\n",
    "        return \"Employee name is \" +  self.name\n",
    "    \n",
    "    # changes == beaviour\n",
    "    def __eq__(self, obj2):\n",
    "        return self.name == obj2.name"
   ]
  },
  {
   "cell_type": "code",
   "execution_count": 21,
   "id": "bafa70b8",
   "metadata": {},
   "outputs": [
    {
     "name": "stdout",
     "output_type": "stream",
     "text": [
      "['scaler', 'Interviewbit', 'Interviewbit']\n",
      "['scaler', 'Interviewbit', 'Interviewbit']\n",
      "['scaler', 'Interviewbit', 'Interviewbit']\n"
     ]
    }
   ],
   "source": [
    "#update mutable using object\n",
    "e1= Employee(\"Nafis\")\n",
    "e2= Employee(\"Chowdhury\")\n",
    "\n",
    "e1.company.append(\"Interviewbit\")\n",
    "\n",
    "print(e1.company)\n",
    "print(e2.company)\n",
    "print(Employee.company)\n",
    "\n",
    "# all three are changing although objecjt is used to mutate\n",
    "\"\"\"\n",
    "All of the objects (instances) of the Employee class share the same class attribute company, \n",
    "which is a mutable object (list). When you modify the company attribute of an instance, you are actually \n",
    "modifying the same list object that all other instances are sharing. Therefore, when you print the \n",
    "company attribute of another instance or the Employee class, you will see the updated value.\n",
    "\n",
    "\"\"\""
   ]
  },
  {
   "cell_type": "code",
   "execution_count": 26,
   "id": "5f7e2bc6",
   "metadata": {},
   "outputs": [],
   "source": [
    "class Employee:\n",
    "    \n",
    "    \n",
    "    #constructor\n",
    "    def __init__(self, name, company):\n",
    "        self.name = name\n",
    "        self.company = [company] #mutable object variable\n",
    "        \n"
   ]
  },
  {
   "cell_type": "code",
   "execution_count": 27,
   "id": "5d24a764",
   "metadata": {},
   "outputs": [
    {
     "name": "stdout",
     "output_type": "stream",
     "text": [
      "['scaler'] ['scaler']\n"
     ]
    }
   ],
   "source": [
    "e1 = Employee(\"nafis\", \"scaler\")\n",
    "e2 = Employee(\"Chowdhury\", \"scaler\")\n",
    "\n",
    "print(e1.company, e2.company)\n"
   ]
  },
  {
   "cell_type": "code",
   "execution_count": 28,
   "id": "1fbdd677",
   "metadata": {},
   "outputs": [],
   "source": [
    "e1.company.append(\"Interviewbit\")"
   ]
  },
  {
   "cell_type": "code",
   "execution_count": 31,
   "id": "260e546e",
   "metadata": {},
   "outputs": [
    {
     "name": "stdout",
     "output_type": "stream",
     "text": [
      "['scaler', 'Interviewbit'] ['scaler']\n"
     ]
    }
   ],
   "source": [
    "print(e1.company, e2.company)#, Employee.company)"
   ]
  },
  {
   "cell_type": "markdown",
   "id": "e8490a3c",
   "metadata": {},
   "source": [
    "## Magic Methods"
   ]
  },
  {
   "cell_type": "code",
   "execution_count": 39,
   "id": "41cfd0e7",
   "metadata": {},
   "outputs": [],
   "source": [
    "class Employee:\n",
    "    \n",
    "    \n",
    "    \n",
    "    #constructor\n",
    "    def __init__(self, name, company):\n",
    "        self.name = name\n",
    "        self.company = [company] #mutable object variable\n",
    "        \n",
    "    #chnages beaviour of print\n",
    "    def __str__(self):\n",
    "        return \"Employee name is \" +  self.name\n",
    "    "
   ]
  },
  {
   "cell_type": "code",
   "execution_count": 36,
   "id": "b5598f7f",
   "metadata": {},
   "outputs": [
    {
     "name": "stdout",
     "output_type": "stream",
     "text": [
      "Employee name is nafis\n",
      "Employee name is Chowdhury\n"
     ]
    }
   ],
   "source": [
    "e1 = Employee(\"nafis\", \"scaler\")\n",
    "e2 = Employee(\"Chowdhury\", \"scaler\")\n",
    "\n",
    "print(e1, e2, sep= \"\\n\")"
   ]
  },
  {
   "cell_type": "code",
   "execution_count": 38,
   "id": "41f2b784",
   "metadata": {},
   "outputs": [
    {
     "name": "stdout",
     "output_type": "stream",
     "text": [
      "\n"
     ]
    },
    {
     "data": {
      "text/plain": [
       "['__bool__',\n",
       " '__class__',\n",
       " '__delattr__',\n",
       " '__dir__',\n",
       " '__doc__',\n",
       " '__eq__',\n",
       " '__format__',\n",
       " '__ge__',\n",
       " '__getattribute__',\n",
       " '__gt__',\n",
       " '__hash__',\n",
       " '__init__',\n",
       " '__init_subclass__',\n",
       " '__le__',\n",
       " '__lt__',\n",
       " '__ne__',\n",
       " '__new__',\n",
       " '__reduce__',\n",
       " '__reduce_ex__',\n",
       " '__repr__',\n",
       " '__setattr__',\n",
       " '__sizeof__',\n",
       " '__str__',\n",
       " '__subclasshook__']"
      ]
     },
     "execution_count": 38,
     "metadata": {},
     "output_type": "execute_result"
    }
   ],
   "source": [
    "dir(print())"
   ]
  },
  {
   "cell_type": "code",
   "execution_count": 40,
   "id": "9b09b937",
   "metadata": {},
   "outputs": [],
   "source": [
    "class Employee:\n",
    "    \n",
    "    #constructor\n",
    "    def __init__(self, name, company):\n",
    "        self.name = name\n",
    "        self.company = [company] #mutable object variable\n",
    "        \n",
    "    #chnages beaviour of print\n",
    "    def __str__(self):\n",
    "        return \"Employee name is \" +  self.name\n",
    "    \n",
    "    # changes == beaviour\n",
    "    def __eq__(self, obj2):\n",
    "        return self.name == obj2.name"
   ]
  },
  {
   "cell_type": "code",
   "execution_count": 41,
   "id": "28f3b022",
   "metadata": {},
   "outputs": [],
   "source": [
    "e1 = Employee(\"nafis\", \"scaler\")\n",
    "e2 = Employee(\"Chowdhury\", \"scaler\")"
   ]
  },
  {
   "cell_type": "code",
   "execution_count": 42,
   "id": "73182ee9",
   "metadata": {},
   "outputs": [
    {
     "data": {
      "text/plain": [
       "False"
      ]
     },
     "execution_count": 42,
     "metadata": {},
     "output_type": "execute_result"
    }
   ],
   "source": [
    "e1 == e2"
   ]
  },
  {
   "cell_type": "code",
   "execution_count": 43,
   "id": "ab637954",
   "metadata": {},
   "outputs": [
    {
     "data": {
      "text/plain": [
       "('nafis', 'Chowdhury')"
      ]
     },
     "execution_count": 43,
     "metadata": {},
     "output_type": "execute_result"
    }
   ],
   "source": [
    "e1.name, e2.name"
   ]
  },
  {
   "cell_type": "code",
   "execution_count": 44,
   "id": "d88392d8",
   "metadata": {},
   "outputs": [],
   "source": [
    "e1 = Employee(\"nafis\", \"scaler\")\n",
    "e2 = Employee(\"nafis\", \"scaler\")"
   ]
  },
  {
   "cell_type": "code",
   "execution_count": 45,
   "id": "8cda08e0",
   "metadata": {},
   "outputs": [
    {
     "data": {
      "text/plain": [
       "True"
      ]
     },
     "execution_count": 45,
     "metadata": {},
     "output_type": "execute_result"
    }
   ],
   "source": [
    "e1==e2"
   ]
  },
  {
   "cell_type": "markdown",
   "id": "afc19dfe",
   "metadata": {},
   "source": [
    "## Pillars of OOP\n",
    "\n",
    "- Encapsulation\n",
    "    - Encapsulation is the practice of keeping the implementation details of an object hidden from the outside world, and only exposing a public interface for interacting with the object. This helps to keep the code modular, maintainable, and reduces the risk of unintended side effects caused by external code."
   ]
  },
  {
   "cell_type": "code",
   "execution_count": 65,
   "id": "33003e12",
   "metadata": {},
   "outputs": [
    {
     "name": "stdout",
     "output_type": "stream",
     "text": [
      "4000\n"
     ]
    }
   ],
   "source": [
    "class BankAccount:\n",
    "    def __init__(self, account_number, balance):\n",
    "        self.account_number = account_number\n",
    "        self.__balance = balance  # private attribute\n",
    "        \n",
    "    def deposit(self, amount):\n",
    "        self.__balance += amount\n",
    "        \n",
    "    def withdraw(self, amount):\n",
    "        if self.__balance >= amount:\n",
    "            self.__balance -= amount\n",
    "        else:\n",
    "            print(\"Insufficient balance\")\n",
    "            \n",
    "    def get_balance(self):\n",
    "        return self.__balance\n",
    "    \n",
    "account1 = BankAccount(123456, 5000)\n",
    "account1.deposit(1000)\n",
    "account1.withdraw(2000)\n",
    "print(account1.get_balance())  # Output: 4000\n"
   ]
  },
  {
   "cell_type": "markdown",
   "id": "9fd16a83",
   "metadata": {},
   "source": [
    "#### In this example, the BankAccount class has a private attribute __balance that is hidden from the outside world. The public methods deposit, withdraw, and get_balance provide a public interface for interacting with the object. These methods can access the private attribute __balance, but external code cannot."
   ]
  },
  {
   "cell_type": "code",
   "execution_count": 49,
   "id": "c4359733",
   "metadata": {},
   "outputs": [],
   "source": [
    "class DSML:\n",
    "    \n",
    "    def teach(self):\n",
    "        print(\"Teaches DSML\")\n",
    "\n",
    "class Academy:\n",
    "    \n",
    "    def teach(self):\n",
    "        print(\"Teaches Soft Dev\")"
   ]
  },
  {
   "cell_type": "markdown",
   "id": "1c663659",
   "metadata": {},
   "source": [
    "- Inheritance: \n",
    "    - Inheritance is the ability to create a new class by deriving it from an existing class. The new class inherits all the properties and behaviors of the existing class, and can also add new properties and behaviors or modify the existing ones."
   ]
  },
  {
   "cell_type": "code",
   "execution_count": 54,
   "id": "b0354295",
   "metadata": {},
   "outputs": [
    {
     "name": "stdout",
     "output_type": "stream",
     "text": [
      "Woof\n",
      "Meow\n"
     ]
    }
   ],
   "source": [
    "class Animal:\n",
    "    def __init__(self, name):\n",
    "        self.name = name\n",
    "        \n",
    "    def make_sound(self):\n",
    "        pass\n",
    "    \n",
    "class Dog(Animal):\n",
    "    def make_sound(self):\n",
    "        print(\"Woof\")\n",
    "        \n",
    "class Cat(Animal):\n",
    "    def make_sound(self):\n",
    "        print(\"Meow\")\n",
    "        \n",
    "dog1 = Dog(\"Rex\")\n",
    "cat1 = Cat(\"Fluffy\")\n",
    "dog1.make_sound()  # Output: Woof\n",
    "cat1.make_sound()  # Output: Meow\n"
   ]
  },
  {
   "cell_type": "markdown",
   "id": "10fabcfc",
   "metadata": {},
   "source": [
    "#### In this example, the Dog and Cat classes inherit from the Animal class. They share the name attribute and have their own implementation of the make_sound method."
   ]
  },
  {
   "cell_type": "markdown",
   "id": "c15936c4",
   "metadata": {},
   "source": [
    "- Polymorphism: \n",
    "    - Polymorphism is the ability of an object to take on multiple forms. In OOP, it means that different objects can be treated as if they were the same type, as long as they have a common interface.\n"
   ]
  },
  {
   "cell_type": "code",
   "execution_count": 55,
   "id": "4e709201",
   "metadata": {},
   "outputs": [
    {
     "name": "stdout",
     "output_type": "stream",
     "text": [
      "50\n",
      "153.86\n"
     ]
    }
   ],
   "source": [
    "class Shape:\n",
    "    def area(self):\n",
    "        pass\n",
    "    \n",
    "class Rectangle(Shape):\n",
    "    def __init__(self, width, height):\n",
    "        self.width = width\n",
    "        self.height = height\n",
    "        \n",
    "    def area(self):\n",
    "        return self.width * self.height\n",
    "    \n",
    "class Circle(Shape):\n",
    "    def __init__(self, radius):\n",
    "        self.radius = radius\n",
    "        \n",
    "    def area(self):\n",
    "        return 3.14 * self.radius ** 2\n",
    "    \n",
    "shapes = [Rectangle(5, 10), Circle(7)]\n",
    "for shape in shapes:\n",
    "    print(shape.area())"
   ]
  },
  {
   "cell_type": "markdown",
   "id": "f1c65eef",
   "metadata": {},
   "source": [
    "#### In this example, the Rectangle and Circle classes inherit from the Shape class and have their own implementation of the area method. The shapes list contains objects of both classes, but they can be treated as if they were the same type because they share the area method."
   ]
  },
  {
   "cell_type": "markdown",
   "id": "34da3ca3",
   "metadata": {},
   "source": [
    "- Abstraction: \n",
    "    - Abstraction is the practice of hiding unnecessary details and complexity from the user, and only exposing the essential features of an object. This helps to simplify the interface and make the object easier to use"
   ]
  },
  {
   "cell_type": "code",
   "execution_count": 58,
   "id": "573b71fc",
   "metadata": {},
   "outputs": [],
   "source": [
    "class Instructor():\n",
    "    \n",
    "    def __init__(self, name, batch):\n",
    "        self.name = name\n",
    "        self.batch = batch\n",
    "    \n",
    "class DSML(Instructor):\n",
    "    \n",
    "    def __init__(self, name, batch, IDE):\n",
    "    #method1\n",
    "        Instructor.__init__(self, name, batch)\n",
    "        self.IDE = IDE\n",
    "    \n",
    "    def task(self):\n",
    "        print(\"teaches DS & ML\")\n",
    "        \n",
    "class Academy(Instructor):\n",
    "    \n",
    "    def __init__(self, name, batch, software):\n",
    "    #method2 \n",
    "        super().__init__(name, batch)\n",
    "        self.software = software\n",
    "    \n",
    "    def task(self):\n",
    "        print(\"Teaches Soft Dev\")\n",
    "    \n",
    "    \n",
    "    "
   ]
  },
  {
   "cell_type": "code",
   "execution_count": 61,
   "id": "40c7e2e1",
   "metadata": {},
   "outputs": [],
   "source": [
    "t1 = DSML(\"nafis\", \"sep22\", \"jupyter\")\n",
    "t2 = Academy(\"chowdhury\", \"dec22\", \"root\")"
   ]
  },
  {
   "cell_type": "code",
   "execution_count": 64,
   "id": "0b2d91ff",
   "metadata": {},
   "outputs": [
    {
     "data": {
      "text/plain": [
       "('nafis', 'dec22')"
      ]
     },
     "execution_count": 64,
     "metadata": {},
     "output_type": "execute_result"
    }
   ],
   "source": [
    "t1.name, t2.batch"
   ]
  },
  {
   "cell_type": "markdown",
   "id": "51a28ee8",
   "metadata": {},
   "source": [
    "- private variables\n",
    "    - can only be accessed only inside class\n",
    "    - cannot be be inherited\n",
    "    - there in no true private variable in python"
   ]
  },
  {
   "cell_type": "code",
   "execution_count": 66,
   "id": "6567d3b5",
   "metadata": {},
   "outputs": [
    {
     "ename": "AttributeError",
     "evalue": "'BankAccount' object has no attribute '__balance'",
     "output_type": "error",
     "traceback": [
      "\u001b[0;31m---------------------------------------------------------------------------\u001b[0m",
      "\u001b[0;31mAttributeError\u001b[0m                            Traceback (most recent call last)",
      "Cell \u001b[0;32mIn [66], line 21\u001b[0m\n\u001b[1;32m     19\u001b[0m account1\u001b[38;5;241m.\u001b[39mdeposit(\u001b[38;5;241m1000\u001b[39m)\n\u001b[1;32m     20\u001b[0m account1\u001b[38;5;241m.\u001b[39mwithdraw(\u001b[38;5;241m2000\u001b[39m)\n\u001b[0;32m---> 21\u001b[0m account1\u001b[38;5;241m.\u001b[39m__balance()\n",
      "\u001b[0;31mAttributeError\u001b[0m: 'BankAccount' object has no attribute '__balance'"
     ]
    }
   ],
   "source": [
    "class BankAccount:\n",
    "    def __init__(self, account_number, balance):\n",
    "        self.account_number = account_number\n",
    "        self.__balance = balance  # private attribute\n",
    "        \n",
    "    def deposit(self, amount):\n",
    "        self.__balance += amount\n",
    "        \n",
    "    def withdraw(self, amount):\n",
    "        if self.__balance >= amount:\n",
    "            self.__balance -= amount\n",
    "        else:\n",
    "            print(\"Insufficient balance\")\n",
    "            \n",
    "    def get_balance(self):\n",
    "        return self.__balance\n",
    "    \n",
    "account1 = BankAccount(123456, 5000)\n",
    "account1.deposit(1000)\n",
    "account1.withdraw(2000)\n",
    "account1.__balance()  \n",
    "#print(account1.get_balance())  # Output: 4000"
   ]
  },
  {
   "cell_type": "code",
   "execution_count": 67,
   "id": "0039dc2b",
   "metadata": {},
   "outputs": [
    {
     "data": {
      "text/plain": [
       "{'account_number': 123456, '_BankAccount__balance': 4000}"
      ]
     },
     "execution_count": 67,
     "metadata": {},
     "output_type": "execute_result"
    }
   ],
   "source": [
    "account1.__dict__"
   ]
  },
  {
   "cell_type": "code",
   "execution_count": 70,
   "id": "8793d299",
   "metadata": {},
   "outputs": [
    {
     "data": {
      "text/plain": [
       "4000"
      ]
     },
     "execution_count": 70,
     "metadata": {},
     "output_type": "execute_result"
    }
   ],
   "source": [
    "account1._BankAccount__balance"
   ]
  },
  {
   "cell_type": "code",
   "execution_count": 73,
   "id": "e3d7124c",
   "metadata": {},
   "outputs": [
    {
     "name": "stdout",
     "output_type": "stream",
     "text": [
      "1000000\n"
     ]
    }
   ],
   "source": [
    "account1._BankAccount__balance = 1000000\n",
    "print(account1._BankAccount__balance)"
   ]
  },
  {
   "cell_type": "code",
   "execution_count": 74,
   "id": "d9a9bbb1",
   "metadata": {},
   "outputs": [
    {
     "name": "stdout",
     "output_type": "stream",
     "text": [
      "lose win\n"
     ]
    }
   ],
   "source": [
    "class football:\n",
    "    final_res= 'lose'\n",
    "    def __init__(self,name,score):\n",
    "        self.name = name\n",
    "        self.score = score\n",
    "        self.final_res = 'lose'\n",
    "    \n",
    "    def calc(self, winning_score):\n",
    "        if self.score>winning_score:\n",
    "            self.final_res='win'\n",
    "match = football('Juventus',3)\n",
    "match.calc(2)\n",
    "print(football.final_res, match.final_res)"
   ]
  },
  {
   "cell_type": "code",
   "execution_count": 80,
   "id": "a6fd981d",
   "metadata": {},
   "outputs": [
    {
     "name": "stdout",
     "output_type": "stream",
     "text": [
      "Emma 10 Math for Machine Learning\n"
     ]
    }
   ],
   "source": [
    "class Student:\n",
    "  # Class variable\n",
    "  subject_name = 'Math for Machine Learning'\n",
    "\n",
    "  # constructor\n",
    "  def __init__(self, name, roll_no):\n",
    "    self.name = name\n",
    "    self.roll_no = roll_no\n",
    "\n",
    "# outside the class\n",
    "# create Objects\n",
    "s1 = Student('Emma', 10) \n",
    "#s1.subject_name = 'Machine Learning'\n",
    "#_____________________#blank2\n",
    "\n",
    "print(s1.name, s1.roll_no, s1.subject_name)"
   ]
  },
  {
   "cell_type": "code",
   "execution_count": 81,
   "id": "d7752b10",
   "metadata": {},
   "outputs": [
    {
     "name": "stdout",
     "output_type": "stream",
     "text": [
      "Roll: 34 Marks: A None Age: 17\n"
     ]
    }
   ],
   "source": [
    "class Student:\n",
    "    def __init__(self,roll,marks):\n",
    "        self.roll = roll\n",
    "        self.marks = marks\n",
    "    def display(self):\n",
    "        print('Roll:', self.roll,'Marks:',self.marks, end=\" \")\n",
    "\n",
    "student1 = Student(34,'A')\n",
    "student1.age = 17\n",
    "print(student1.display(), 'Age:',student1.age)  \n",
    "#none coming since display func is not returning anything"
   ]
  },
  {
   "cell_type": "code",
   "execution_count": 82,
   "id": "86226e6a",
   "metadata": {},
   "outputs": [
    {
     "name": "stdout",
     "output_type": "stream",
     "text": [
      "[(True, 64), (False, 125), (True, 216)]\n"
     ]
    }
   ],
   "source": [
    "class solution:\n",
    "  def initial(self,sets):\n",
    "    return self.final(sets)\n",
    " \n",
    "  def final(self, sets):\n",
    "    return list(map(lambda x: ((x**3)%2==0,x**3),sets))\n",
    "\n",
    "print(solution().initial([4,5,6]))"
   ]
  },
  {
   "cell_type": "code",
   "execution_count": 83,
   "id": "3e67db13",
   "metadata": {},
   "outputs": [
    {
     "data": {
      "text/plain": [
       "[(False, 1), (True, 8), (False, 27)]"
      ]
     },
     "execution_count": 83,
     "metadata": {},
     "output_type": "execute_result"
    }
   ],
   "source": [
    "sets = [1,2,3]\n",
    "\n",
    "list(map(lambda x: ((x**3)%2==0,x**3),sets))"
   ]
  },
  {
   "cell_type": "code",
   "execution_count": null,
   "id": "b69df15c",
   "metadata": {},
   "outputs": [],
   "source": []
  }
 ],
 "metadata": {
  "kernelspec": {
   "display_name": "Python 3 (ipykernel)",
   "language": "python",
   "name": "python3"
  },
  "language_info": {
   "codemirror_mode": {
    "name": "ipython",
    "version": 3
   },
   "file_extension": ".py",
   "mimetype": "text/x-python",
   "name": "python",
   "nbconvert_exporter": "python",
   "pygments_lexer": "ipython3",
   "version": "3.9.5"
  }
 },
 "nbformat": 4,
 "nbformat_minor": 5
}
