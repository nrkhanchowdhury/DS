{
 "cells": [
  {
   "cell_type": "code",
   "execution_count": 3,
   "id": "fafaf2d6",
   "metadata": {},
   "outputs": [
    {
     "name": "stdout",
     "output_type": "stream",
     "text": [
      "1 100\n",
      "2 0\n"
     ]
    }
   ],
   "source": [
    "# bank account system\n",
    "\n",
    "class Account:\n",
    "    \n",
    "    counter =0\n",
    "    def __init__(self, openingBal=0):\n",
    "        Account.counter +=1 #increment counter when account is created\n",
    "        self.id = Account.counter\n",
    "        self.bal = openingBal\n",
    "        \n",
    "a1 = Account(100)\n",
    "print(a1.id, a1.bal)\n",
    "a2 = Account()\n",
    "print(a2.id, a2.bal)"
   ]
  },
  {
   "cell_type": "code",
   "execution_count": 4,
   "id": "1381c2a9",
   "metadata": {},
   "outputs": [],
   "source": [
    "\n",
    "class Account:\n",
    "    \n",
    "    counter =0\n",
    "    def __init__(self, openingBal=0):\n",
    "        Account.counter +=1 #increment counter when account is created\n",
    "        self.id = Account.counter\n",
    "        self.bal = openingBal\n",
    "        \n",
    "    def __str__(self):\n",
    "        return \"Account: {} has INR {}\".format(self.id, self.bal)"
   ]
  },
  {
   "cell_type": "code",
   "execution_count": 5,
   "id": "11eccbba",
   "metadata": {},
   "outputs": [
    {
     "name": "stdout",
     "output_type": "stream",
     "text": [
      "Account: 1 has INR 1000\n"
     ]
    }
   ],
   "source": [
    "a1 = Account(1000)\n",
    "print(a1) "
   ]
  },
  {
   "cell_type": "code",
   "execution_count": 23,
   "id": "c09e642a",
   "metadata": {},
   "outputs": [],
   "source": [
    "class Account:\n",
    "    \n",
    "    counter =0\n",
    "    def __init__(self, openingBal=0):\n",
    "        Account.counter +=1 #increment counter when account is created\n",
    "        self.id = Account.counter\n",
    "        self.bal = openingBal\n",
    "        self.passbook = []\n",
    "        \n",
    "    def deposit(self, amount):\n",
    "        if amount >0:\n",
    "            self.bal += amount\n",
    "            self.passbook.append((\"Credited\", amount)) #tuple to avoid mutabilty\n",
    "        \n",
    "    def withdraw(self, amount):\n",
    "        if self.bal >= amount:\n",
    "            self.bal -=amount\n",
    "            self.passbook.append((\"Debited\", amount)) #tuple to avoid mutabilty\n",
    "        else:\n",
    "            print(\"Insufficient balance\")\n",
    "        \n",
    "    def __str__(self):\n",
    "        return \"Account: {} has INR {}\".format(self.id, self.bal)"
   ]
  },
  {
   "cell_type": "code",
   "execution_count": 30,
   "id": "48725a0f",
   "metadata": {},
   "outputs": [],
   "source": [
    "a1 = Account(1000)\n",
    "a1.deposit(100)"
   ]
  },
  {
   "cell_type": "code",
   "execution_count": 31,
   "id": "30613b5d",
   "metadata": {},
   "outputs": [
    {
     "name": "stdout",
     "output_type": "stream",
     "text": [
      "Account: 2 has INR 1100\n"
     ]
    }
   ],
   "source": [
    "print(a1)"
   ]
  },
  {
   "cell_type": "code",
   "execution_count": 32,
   "id": "f1ec61e2",
   "metadata": {},
   "outputs": [
    {
     "data": {
      "text/plain": [
       "[('Credited', 100)]"
      ]
     },
     "execution_count": 32,
     "metadata": {},
     "output_type": "execute_result"
    }
   ],
   "source": [
    "a1.passbook"
   ]
  },
  {
   "cell_type": "code",
   "execution_count": 33,
   "id": "d33550cc",
   "metadata": {},
   "outputs": [
    {
     "name": "stdout",
     "output_type": "stream",
     "text": [
      "Insufficient balance\n",
      "Account: 2 has INR 1100\n"
     ]
    }
   ],
   "source": [
    "a1.withdraw(1500)\n",
    "print(a1)"
   ]
  },
  {
   "cell_type": "code",
   "execution_count": 22,
   "id": "d8284179",
   "metadata": {},
   "outputs": [
    {
     "data": {
      "text/plain": [
       "[('Credited', 100), ('Debited', 500)]"
      ]
     },
     "execution_count": 22,
     "metadata": {},
     "output_type": "execute_result"
    }
   ],
   "source": [
    "a1.passbook"
   ]
  },
  {
   "cell_type": "code",
   "execution_count": 38,
   "id": "175008a1",
   "metadata": {},
   "outputs": [],
   "source": [
    "class Account:\n",
    "    \n",
    "    counter =0\n",
    "    def __init__(self, openingBal=0):\n",
    "        Account.counter +=1 #increment counter when account is created\n",
    "        self.id = Account.counter\n",
    "        self.bal = openingBal\n",
    "        self.passbook = []\n",
    "        self.numTrans = 0\n",
    "        self.maxTrans = 2\n",
    "        \n",
    "    def deposit(self, amount):\n",
    "        if amount >0 and self.numTrans < self.maxTrans:\n",
    "            self.bal += amount\n",
    "            self.passbook.append((\"Credited\", amount)) #tuple to avoid mutabilty\n",
    "            self.numTrans +=1                          #update after each transaction\n",
    "            \n",
    "        if self.numTrans >=self.maxTrans:\n",
    "            print(\"Max. transaction limit reached\")\n",
    "        \n",
    "    def withdraw(self, amount):\n",
    "        if self.bal >= amount and amount >0 and self.numTrans <=self.maxTrans:\n",
    "            self.bal -=amount\n",
    "            self.passbook.append((\"Debited\", amount)) #tuple to avoid mutabilty\n",
    "        else:\n",
    "            print(\"Insufficient balance\")\n",
    "        \n",
    "    def __str__(self):\n",
    "        return \"Account: {} has INR {}\".format(self.id, self.bal)\n",
    "    \n",
    "class SavingsAcc(Account):\n",
    "    \n",
    "    def __init__(self):  # __init__ will override parent __init__\n",
    "        self.numTrans = 0\n",
    "\n",
    "class CurrentAcc(Account):\n",
    "    pass\n"
   ]
  },
  {
   "cell_type": "code",
   "execution_count": 39,
   "id": "b3570f0c",
   "metadata": {},
   "outputs": [
    {
     "ename": "TypeError",
     "evalue": "__init__() takes 1 positional argument but 2 were given",
     "output_type": "error",
     "traceback": [
      "\u001b[0;31m---------------------------------------------------------------------------\u001b[0m",
      "\u001b[0;31mTypeError\u001b[0m                                 Traceback (most recent call last)",
      "Cell \u001b[0;32mIn [39], line 1\u001b[0m\n\u001b[0;32m----> 1\u001b[0m sa1 \u001b[38;5;241m=\u001b[39m SavingsAcc(\u001b[38;5;241m100\u001b[39m)\n\u001b[1;32m      2\u001b[0m \u001b[38;5;28mprint\u001b[39m(sa1)\n",
      "\u001b[0;31mTypeError\u001b[0m: __init__() takes 1 positional argument but 2 were given"
     ]
    }
   ],
   "source": [
    "sa1 = SavingsAcc(100)\n",
    "print(sa1)\n",
    "# init in child class not expecting positonal argument"
   ]
  },
  {
   "cell_type": "code",
   "execution_count": 61,
   "id": "9c0f4748",
   "metadata": {},
   "outputs": [],
   "source": [
    "class Account:\n",
    "    \n",
    "    counter =0\n",
    "    def __init__(self, openingBal=0):\n",
    "        Account.counter +=1 #increment counter when account is created\n",
    "        self.id = Account.counter\n",
    "        self.__bal = openingBal  #PRIVATE\n",
    "        self.passbook = []\n",
    "        self.numTrans = 0\n",
    "        self.maxTrans = 2\n",
    "        \n",
    "    def deposit(self, amount):\n",
    "        if amount >0 and self.numTrans < self.maxTrans:\n",
    "            self.__bal += amount\n",
    "            self.passbook.append((\"Credited\", amount)) #tuple to avoid mutabilty\n",
    "            self.numTrans +=1                          #update after each transaction\n",
    "            \n",
    "        if self.numTrans >=self.maxTrans:\n",
    "            print(\"Max. transaction limit reached\")\n",
    "        \n",
    "    def withdraw(self, amount):\n",
    "        if self.__bal >= amount and amount >0 and self.numTrans <=self.maxTrans:\n",
    "            self.__bal -=amount\n",
    "            self.passbook.append((\"Debited\", amount)) #tuple to avoid mutabilty\n",
    "        else:\n",
    "            print(\"Insufficient balance\")\n",
    "        \n",
    "    def __str__(self):\n",
    "        return \"Account: {} has INR {}\".format(self.id, self.__bal)\n",
    "    \n",
    "class SavingsAcc(Account):\n",
    "    \n",
    "    def __init__(self, openingBal=0):  # __init__ will override parent __init__\n",
    "        super().__init__(openingBal) #exceute the parent init\n",
    "        self.numTrans = 0\n",
    "\n",
    "class CurrentAcc(Account):\n",
    "     \n",
    "    def __init__(self,openingBal=0):\n",
    "        super().__init__(openingBal)\n",
    "        self.maxTrans = 5\n"
   ]
  },
  {
   "cell_type": "code",
   "execution_count": 62,
   "id": "5026816a",
   "metadata": {},
   "outputs": [
    {
     "name": "stdout",
     "output_type": "stream",
     "text": [
      "Account: 1 has INR 200\n"
     ]
    }
   ],
   "source": [
    "sa1 = SavingsAcc(200)\n",
    "print(sa1)"
   ]
  },
  {
   "cell_type": "code",
   "execution_count": 53,
   "id": "e8600e7d",
   "metadata": {},
   "outputs": [
    {
     "data": {
      "text/plain": [
       "(1, [], 0, 2)"
      ]
     },
     "execution_count": 53,
     "metadata": {},
     "output_type": "execute_result"
    }
   ],
   "source": [
    "sa1.id, sa1.passbook, sa1.numTrans, sa1.maxTrans"
   ]
  },
  {
   "cell_type": "code",
   "execution_count": 54,
   "id": "578ad9d4",
   "metadata": {},
   "outputs": [
    {
     "name": "stdout",
     "output_type": "stream",
     "text": [
      "Account: 2 has INR 0\n"
     ]
    }
   ],
   "source": [
    "ca1 = CurrentAcc()\n",
    "print(ca1)"
   ]
  },
  {
   "cell_type": "code",
   "execution_count": 55,
   "id": "2dd96d19",
   "metadata": {},
   "outputs": [
    {
     "data": {
      "text/plain": [
       "(2, [], 0, 5)"
      ]
     },
     "execution_count": 55,
     "metadata": {},
     "output_type": "execute_result"
    }
   ],
   "source": [
    "ca1.id, ca1.passbook, ca1.numTrans, ca1.maxTrans"
   ]
  },
  {
   "cell_type": "code",
   "execution_count": 64,
   "id": "7b05a6fd",
   "metadata": {},
   "outputs": [
    {
     "data": {
      "text/plain": [
       "10000393383"
      ]
     },
     "execution_count": 64,
     "metadata": {},
     "output_type": "execute_result"
    }
   ],
   "source": [
    "sa1.__bal = 10000393383\n",
    "sa1.__bal"
   ]
  },
  {
   "cell_type": "code",
   "execution_count": 65,
   "id": "82dd6b5c",
   "metadata": {},
   "outputs": [
    {
     "data": {
      "text/plain": [
       "{'id': 1,\n",
       " '_Account__bal': 200,\n",
       " 'passbook': [],\n",
       " 'numTrans': 0,\n",
       " 'maxTrans': 2,\n",
       " '__bal': 10000393383}"
      ]
     },
     "execution_count": 65,
     "metadata": {},
     "output_type": "execute_result"
    }
   ],
   "source": [
    "sa1.__dict__"
   ]
  },
  {
   "cell_type": "markdown",
   "id": "a262d03e",
   "metadata": {},
   "source": [
    "## Polymorphism\n",
    "    - It allows to perform the same action in many different ways"
   ]
  },
  {
   "attachments": {
    "1_cFSJ95jyw-ACiWaIRxAbbg.jpeg": {
     "image/jpeg": "[encoded data removed]"
    }
   },
   "cell_type": "markdown",
   "id": "5f6abb25",
   "metadata": {},
   "source": [
    "![1_cFSJ95jyw-ACiWaIRxAbbg.jpeg](attachment:1_cFSJ95jyw-ACiWaIRxAbbg.jpeg)"
   ]
  },
  {
   "cell_type": "code",
   "execution_count": 66,
   "id": "f030b55d",
   "metadata": {},
   "outputs": [],
   "source": [
    "class Account:\n",
    "    \n",
    "    counter =0\n",
    "    def __init__(self, openingBal=0):\n",
    "        Account.counter +=1 #increment counter when account is created\n",
    "        self.id = Account.counter\n",
    "        self.__bal = openingBal  #PRIVATE\n",
    "        self.passbook = []\n",
    "        self.numTrans = 0\n",
    "        self.maxTrans = 2\n",
    "        \n",
    "    def deposit(self, amount):\n",
    "        if amount >0 and self.numTrans < self.maxTrans:\n",
    "            self.__bal += amount\n",
    "            self.passbook.append((\"Credited\", amount)) #tuple to avoid mutabilty\n",
    "            self.numTrans +=1                          #update after each transaction\n",
    "            \n",
    "        if self.numTrans >=self.maxTrans:\n",
    "            print(\"Max. transaction limit reached\")\n",
    "        \n",
    "    def withdraw(self, amount):\n",
    "        if self.__bal >= amount and amount >0 and self.numTrans <=self.maxTrans:\n",
    "            self.__bal -=amount\n",
    "            self.passbook.append((\"Debited\", amount)) #tuple to avoid mutabilty\n",
    "        else:\n",
    "            print(\"Insufficient balance\")\n",
    "        \n",
    "    def __str__(self):\n",
    "        return \"Account: {} has INR {}\".format(self.id, self.__bal)\n",
    "    \n",
    "class SavingsAcc(Account):\n",
    "    \n",
    "    def __init__(self, openingBal=0):  # __init__ will override parent __init__\n",
    "        super().__init__(openingBal) #exceute the parent init\n",
    "        self.numTrans = 0\n",
    "        \n",
    "    def get_interest(self):\n",
    "        interest = self.__bal*0.05\n",
    "        print(interest)\n",
    "\n",
    "class CurrentAcc(Account):\n",
    "     \n",
    "    def __init__(self,openingBal=0):\n",
    "        super().__init__(openingBal)\n",
    "        self.maxTrans = 5               # CURRENT ACC SPECIFIC MAC NO. OF TRANSACTIONS\n",
    "        \n",
    "    def get_interest(self):             # SAME METHOD DIFFERENT ACTION: POLYMORPHISM\n",
    "        interest = self.__bal*0.01\n",
    "        print(interest)"
   ]
  },
  {
   "cell_type": "code",
   "execution_count": 67,
   "id": "d8807673",
   "metadata": {},
   "outputs": [
    {
     "name": "stdout",
     "output_type": "stream",
     "text": [
      "Account: 1 has INR 1000\n"
     ]
    }
   ],
   "source": [
    "sa1 = SavingsAcc(1000)\n",
    "print(sa1)"
   ]
  },
  {
   "cell_type": "code",
   "execution_count": 68,
   "id": "df053035",
   "metadata": {},
   "outputs": [
    {
     "ename": "AttributeError",
     "evalue": "'SavingsAcc' object has no attribute '_SavingsAcc__bal'",
     "output_type": "error",
     "traceback": [
      "\u001b[0;31m---------------------------------------------------------------------------\u001b[0m",
      "\u001b[0;31mAttributeError\u001b[0m                            Traceback (most recent call last)",
      "Cell \u001b[0;32mIn [68], line 1\u001b[0m\n\u001b[0;32m----> 1\u001b[0m sa1\u001b[38;5;241m.\u001b[39mget_interest()\n",
      "Cell \u001b[0;32mIn [66], line 38\u001b[0m, in \u001b[0;36mSavingsAcc.get_interest\u001b[0;34m(self)\u001b[0m\n\u001b[1;32m     37\u001b[0m \u001b[38;5;28;01mdef\u001b[39;00m \u001b[38;5;21mget_interest\u001b[39m(\u001b[38;5;28mself\u001b[39m):\n\u001b[0;32m---> 38\u001b[0m     interest \u001b[38;5;241m=\u001b[39m \u001b[38;5;28;43mself\u001b[39;49m\u001b[38;5;241;43m.\u001b[39;49m\u001b[43m__bal\u001b[49m\u001b[38;5;241m*\u001b[39m\u001b[38;5;241m0.05\u001b[39m\n\u001b[1;32m     39\u001b[0m     \u001b[38;5;28mprint\u001b[39m(interest)\n",
      "\u001b[0;31mAttributeError\u001b[0m: 'SavingsAcc' object has no attribute '_SavingsAcc__bal'"
     ]
    }
   ],
   "source": [
    "sa1.get_interest()  # private __bal not acessible by child class"
   ]
  },
  {
   "cell_type": "code",
   "execution_count": null,
   "id": "42891179",
   "metadata": {},
   "outputs": [],
   "source": []
  }
 ],
 "metadata": {
  "kernelspec": {
   "display_name": "Python 3 (ipykernel)",
   "language": "python",
   "name": "python3"
  },
  "language_info": {
   "codemirror_mode": {
    "name": "ipython",
    "version": 3
   },
   "file_extension": ".py",
   "mimetype": "text/x-python",
   "name": "python",
   "nbconvert_exporter": "python",
   "pygments_lexer": "ipython3",
   "version": "3.9.5"
  }
 },
 "nbformat": 4,
 "nbformat_minor": 5
}
