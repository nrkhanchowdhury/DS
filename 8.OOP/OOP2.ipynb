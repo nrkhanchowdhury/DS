{
 "cells": [
  {
   "cell_type": "markdown",
   "id": "a1a3e788",
   "metadata": {},
   "source": [
    "## Types of inheritance\n",
    " - single\n",
    " - multiple\n",
    " - multilevel\n",
    " - hierarchial\n",
    " - hybrid"
   ]
  },
  {
   "cell_type": "markdown",
   "id": "22ac4278",
   "metadata": {},
   "source": [
    "### Single Inheritance\n",
    "    - child class inherits all properties and methods from a single parent class"
   ]
  },
  {
   "cell_type": "code",
   "execution_count": 2,
   "id": "a1edf515",
   "metadata": {},
   "outputs": [],
   "source": [
    "class Vehicle:\n",
    "    \n",
    "    def vehicle_info(self):\n",
    "        print(\"Inside vehicle class\")\n",
    "        \n",
    "class Car(Vehicle):\n",
    "    \n",
    "    def car_info(self):\n",
    "        print(\"Inside car class\")\n",
    "\n",
    "c = Car()"
   ]
  },
  {
   "cell_type": "code",
   "execution_count": 3,
   "id": "7a901427",
   "metadata": {},
   "outputs": [
    {
     "name": "stdout",
     "output_type": "stream",
     "text": [
      "Inside vehicle class\n"
     ]
    }
   ],
   "source": [
    "c.vehicle_info()  "
   ]
  },
  {
   "cell_type": "markdown",
   "id": "87b3b6d7",
   "metadata": {},
   "source": [
    "### Multiple Inheritance\n",
    "    - child class inherits from multiple parent class"
   ]
  },
  {
   "cell_type": "code",
   "execution_count": 4,
   "id": "0cce4d53",
   "metadata": {},
   "outputs": [],
   "source": [
    "class Person:\n",
    "    def person_info(self):\n",
    "        print(\"Inside Person class\")\n",
    "class Company:\n",
    "    def company_info(self):\n",
    "        print(\"Inside of Compay class\")\n",
    "\n",
    "class Employee(Person, Company):\n",
    "    def emp_info(self):\n",
    "        print(\"inside of Employee class\")\n",
    "\n",
    "e = Employee()\n",
    "    "
   ]
  },
  {
   "cell_type": "code",
   "execution_count": 6,
   "id": "7866a61b",
   "metadata": {},
   "outputs": [
    {
     "name": "stdout",
     "output_type": "stream",
     "text": [
      "Inside Person class\n",
      "Inside of Compay class\n"
     ]
    },
    {
     "data": {
      "text/plain": [
       "(None, None)"
      ]
     },
     "execution_count": 6,
     "metadata": {},
     "output_type": "execute_result"
    }
   ],
   "source": [
    "e.person_info(), e.company_info()"
   ]
  },
  {
   "cell_type": "markdown",
   "id": "697da76a",
   "metadata": {},
   "source": [
    "### Multi-level inheritance:\n",
    "    - a class inherits from child class or derived class (parent -> derived -> child)"
   ]
  },
  {
   "cell_type": "code",
   "execution_count": 7,
   "id": "21833e04",
   "metadata": {},
   "outputs": [],
   "source": [
    "class Vehicle:\n",
    "    \n",
    "    def vehicle_info(self):\n",
    "        print(\"Inside vehicle class\")\n",
    "        \n",
    "class Car(Vehicle):\n",
    "    \n",
    "    def car_info(self):\n",
    "        print(\"Inside car class\")\n",
    "\n",
    "class Sports_Car(Car):\n",
    "    \n",
    "    def sports_info(self):\n",
    "        print(\"inside sports car class\")\n",
    "\n",
    "s = Sports_Car()"
   ]
  },
  {
   "cell_type": "code",
   "execution_count": 8,
   "id": "b7409988",
   "metadata": {},
   "outputs": [
    {
     "name": "stdout",
     "output_type": "stream",
     "text": [
      "Inside vehicle class\n",
      "Inside car class\n",
      "inside sports car class\n"
     ]
    },
    {
     "data": {
      "text/plain": [
       "(None, None, None)"
      ]
     },
     "execution_count": 8,
     "metadata": {},
     "output_type": "execute_result"
    }
   ],
   "source": [
    "s.vehicle_info(), s.car_info(), s.sports_info()"
   ]
  },
  {
   "cell_type": "markdown",
   "id": "ddb06bce",
   "metadata": {},
   "source": [
    "### Hierarchial Inheritance\n",
    "    - more than one child class from a single parent class [parent -> child1, chid2]"
   ]
  },
  {
   "cell_type": "code",
   "execution_count": 9,
   "id": "d1dbcc28",
   "metadata": {},
   "outputs": [],
   "source": [
    "class Vehicle:\n",
    "    \n",
    "    def vehicle_info(self):\n",
    "        print(\"Inside vehicle class\")\n",
    "        \n",
    "class Car(Vehicle):\n",
    "    \n",
    "    def car_info(self):\n",
    "        print(\"Inside car class\")\n",
    "        \n",
    "        \n",
    "class Truck(Vehicle):\n",
    "    \n",
    "    def truck_info(self):\n",
    "        print(\"inside the truch class\")\n",
    "        \n",
    "t =Truck()"
   ]
  },
  {
   "cell_type": "code",
   "execution_count": 10,
   "id": "780c360a",
   "metadata": {},
   "outputs": [
    {
     "ename": "AttributeError",
     "evalue": "'Truck' object has no attribute 'car_info'",
     "output_type": "error",
     "traceback": [
      "\u001b[0;31m---------------------------------------------------------------------------\u001b[0m",
      "\u001b[0;31mAttributeError\u001b[0m                            Traceback (most recent call last)",
      "Cell \u001b[0;32mIn [10], line 1\u001b[0m\n\u001b[0;32m----> 1\u001b[0m t\u001b[38;5;241m.\u001b[39mcar_info()\n",
      "\u001b[0;31mAttributeError\u001b[0m: 'Truck' object has no attribute 'car_info'"
     ]
    }
   ],
   "source": [
    "t.car_info()"
   ]
  },
  {
   "cell_type": "code",
   "execution_count": 11,
   "id": "9ba1ad38",
   "metadata": {},
   "outputs": [
    {
     "name": "stdout",
     "output_type": "stream",
     "text": [
      "Inside vehicle class\n"
     ]
    }
   ],
   "source": [
    "t.vehicle_info()"
   ]
  },
  {
   "cell_type": "code",
   "execution_count": 12,
   "id": "8af30cff",
   "metadata": {},
   "outputs": [
    {
     "name": "stdout",
     "output_type": "stream",
     "text": [
      "inside the truch class\n"
     ]
    }
   ],
   "source": [
    "t.truck_info()"
   ]
  },
  {
   "cell_type": "markdown",
   "id": "e7a7d2b5",
   "metadata": {},
   "source": [
    "### Hybrid Inheritance\n",
    "    - mixture of all sort of inheritance"
   ]
  },
  {
   "cell_type": "code",
   "execution_count": 13,
   "id": "3b190aa7",
   "metadata": {},
   "outputs": [],
   "source": [
    "class Vehicle:\n",
    "    \n",
    "    def vehicle_info(self):\n",
    "        print(\"Inside vehicle class\")\n",
    "        \n",
    "class Car(Vehicle):\n",
    "    \n",
    "    def car_info(self):\n",
    "        print(\"Inside car class\")\n",
    "        \n",
    "        \n",
    "class Truck(Vehicle):\n",
    "    \n",
    "    def truck_info(self):\n",
    "        print(\"inside the truch class\")\n",
    "        \n",
    "class Sports_Car(Car, Vehicle):  #following the method resolution order - child<derived<parent\n",
    "    \n",
    "    def sports_info(self):\n",
    "        print(\"inside sports car class\")"
   ]
  },
  {
   "cell_type": "code",
   "execution_count": 14,
   "id": "fc49b639",
   "metadata": {},
   "outputs": [],
   "source": [
    "s = Sports_Car()"
   ]
  },
  {
   "cell_type": "code",
   "execution_count": 15,
   "id": "40daa18d",
   "metadata": {},
   "outputs": [
    {
     "name": "stdout",
     "output_type": "stream",
     "text": [
      "Inside car class\n"
     ]
    }
   ],
   "source": [
    "s.car_info()"
   ]
  },
  {
   "cell_type": "code",
   "execution_count": 16,
   "id": "4a5d620a",
   "metadata": {},
   "outputs": [
    {
     "ename": "AttributeError",
     "evalue": "'Sports_Car' object has no attribute 'truck_info'",
     "output_type": "error",
     "traceback": [
      "\u001b[0;31m---------------------------------------------------------------------------\u001b[0m",
      "\u001b[0;31mAttributeError\u001b[0m                            Traceback (most recent call last)",
      "Cell \u001b[0;32mIn [16], line 1\u001b[0m\n\u001b[0;32m----> 1\u001b[0m s\u001b[38;5;241m.\u001b[39mtruck_info()\n",
      "\u001b[0;31mAttributeError\u001b[0m: 'Sports_Car' object has no attribute 'truck_info'"
     ]
    }
   ],
   "source": [
    "s.truck_info()"
   ]
  },
  {
   "cell_type": "markdown",
   "id": "b08917d1",
   "metadata": {},
   "source": [
    "### Method overiding\n",
    "    - rewrite method in the child class"
   ]
  },
  {
   "cell_type": "code",
   "execution_count": 17,
   "id": "7b4f8c3a",
   "metadata": {},
   "outputs": [],
   "source": [
    "class Vehicle:\n",
    "    \n",
    "    def max_speed(self):\n",
    "        print(\"max speed is 100km/hr\")\n",
    "        \n",
    "class Car(Vehicle):\n",
    "    \n",
    "    def max_speed(self):\n",
    "        print(\"max speed is 200km/hr\")\n",
    "        \n",
    "c = Car()"
   ]
  },
  {
   "cell_type": "code",
   "execution_count": 18,
   "id": "17f337d2",
   "metadata": {},
   "outputs": [
    {
     "name": "stdout",
     "output_type": "stream",
     "text": [
      "max speed is 200km/hr\n"
     ]
    }
   ],
   "source": [
    "c.max_speed()"
   ]
  },
  {
   "cell_type": "markdown",
   "id": "84760186",
   "metadata": {},
   "source": [
    "### Method resoltion order (MRO)"
   ]
  },
  {
   "cell_type": "code",
   "execution_count": 19,
   "id": "6e79dcd2",
   "metadata": {},
   "outputs": [],
   "source": [
    "class A:\n",
    "    def process(self):\n",
    "        print(\"in class A\")\n",
    "    \n",
    "class B(A):\n",
    "    def info(self):\n",
    "        print(\"in class B\")\n",
    "\n",
    "class C(B):\n",
    "    def display(self):\n",
    "        print(\"In class C\")\n",
    "        \n",
    "c = C()"
   ]
  },
  {
   "cell_type": "code",
   "execution_count": 20,
   "id": "5951bbd9",
   "metadata": {},
   "outputs": [
    {
     "name": "stdout",
     "output_type": "stream",
     "text": [
      "in class A\n"
     ]
    }
   ],
   "source": [
    "c.process()"
   ]
  },
  {
   "cell_type": "code",
   "execution_count": 22,
   "id": "9f570e04",
   "metadata": {},
   "outputs": [
    {
     "data": {
      "text/plain": [
       "[__main__.C, __main__.B, __main__.A, object]"
      ]
     },
     "execution_count": 22,
     "metadata": {},
     "output_type": "execute_result"
    }
   ],
   "source": [
    "C.mro() #order of searching the method from child to parent in sequential order"
   ]
  },
  {
   "cell_type": "markdown",
   "id": "d80df9fc",
   "metadata": {},
   "source": [
    "### Access Modifiers\n",
    "    - Public    : data members are acessible within the class and outside \n",
    "    - Private   : data members are ONLY accessible within the class and NOT outside\n",
    "    - Protected : data members are ONLY accessbile within the class and to its subclass"
   ]
  },
  {
   "cell_type": "code",
   "execution_count": 30,
   "id": "6f01c758",
   "metadata": {},
   "outputs": [],
   "source": [
    "class Employee():\n",
    "    #constructor\n",
    "    def __init__(self, name, salary, project):\n",
    "        self.name = name            #PUBLIC\n",
    "        self.__salary = salary      #PRIVATE\n",
    "        self._project = project     #PROTECTED\n",
    "    \n",
    "    def info(self):\n",
    "        print(self.name, self.__salary)\n",
    "        \n",
    "    def work(self):\n",
    "        print(self.name, self._project)\n",
    "        \n",
    "class Person(Employee):\n",
    "    \n",
    "    def details(self):\n",
    "        print(self.name, self._project)\n",
    "        \n",
    "emp = Person(\"nafis\", 100000, \"NLP\")"
   ]
  },
  {
   "cell_type": "code",
   "execution_count": 24,
   "id": "e237370e",
   "metadata": {},
   "outputs": [
    {
     "data": {
      "text/plain": [
       "100000"
      ]
     },
     "execution_count": 24,
     "metadata": {},
     "output_type": "execute_result"
    }
   ],
   "source": [
    "emp.name #public data member"
   ]
  },
  {
   "cell_type": "code",
   "execution_count": 26,
   "id": "e1b5933f",
   "metadata": {},
   "outputs": [
    {
     "ename": "AttributeError",
     "evalue": "'Employee' object has no attribute '__salary'",
     "output_type": "error",
     "traceback": [
      "\u001b[0;31m---------------------------------------------------------------------------\u001b[0m",
      "\u001b[0;31mAttributeError\u001b[0m                            Traceback (most recent call last)",
      "Cell \u001b[0;32mIn [26], line 1\u001b[0m\n\u001b[0;32m----> 1\u001b[0m emp\u001b[38;5;241m.\u001b[39m__salary\n",
      "\u001b[0;31mAttributeError\u001b[0m: 'Employee' object has no attribute '__salary'"
     ]
    }
   ],
   "source": [
    "emp.__salary  # private data member"
   ]
  },
  {
   "cell_type": "code",
   "execution_count": 32,
   "id": "fe417448",
   "metadata": {},
   "outputs": [
    {
     "name": "stdout",
     "output_type": "stream",
     "text": [
      "nafis 100000\n"
     ]
    }
   ],
   "source": [
    "emp.info()"
   ]
  },
  {
   "cell_type": "code",
   "execution_count": 29,
   "id": "da957a92",
   "metadata": {},
   "outputs": [
    {
     "name": "stdout",
     "output_type": "stream",
     "text": [
      "nafis NLP\n"
     ]
    }
   ],
   "source": [
    "emp.work()"
   ]
  },
  {
   "cell_type": "code",
   "execution_count": 31,
   "id": "6d24bfdb",
   "metadata": {},
   "outputs": [
    {
     "name": "stdout",
     "output_type": "stream",
     "text": [
      "nafis NLP\n"
     ]
    }
   ],
   "source": [
    "emp.details()"
   ]
  }
 ],
 "metadata": {
  "kernelspec": {
   "display_name": "Python 3 (ipykernel)",
   "language": "python",
   "name": "python3"
  },
  "language_info": {
   "codemirror_mode": {
    "name": "ipython",
    "version": 3
   },
   "file_extension": ".py",
   "mimetype": "text/x-python",
   "name": "python",
   "nbconvert_exporter": "python",
   "pygments_lexer": "ipython3",
   "version": "3.9.5"
  }
 },
 "nbformat": 4,
 "nbformat_minor": 5
}
