{
 "cells": [
  {
   "cell_type": "markdown",
   "id": "9d0970af",
   "metadata": {},
   "source": [
    "# Agenda\n",
    "\n",
    "- Use Case: Fitness data analysis\n",
    "- 2D arrays\n",
    "- Indexing and slicing\n",
    "- Fancy indexing\n",
    "- Aggregate functions\n",
    "- Logical operations\n",
    "- Fitbit soluntion"
   ]
  },
  {
   "cell_type": "code",
   "execution_count": 1,
   "id": "46e4e068",
   "metadata": {},
   "outputs": [],
   "source": [
    "import numpy as np"
   ]
  },
  {
   "cell_type": "code",
   "execution_count": 2,
   "id": "98896416",
   "metadata": {},
   "outputs": [
    {
     "data": {
      "text/plain": [
       "array([['06-10-2017', '5464', 'Neutral', '181', '5', 'Inactive'],\n",
       "       ['07-10-2017', '6041', 'Sad', '197', '8', 'Inactive'],\n",
       "       ['08-10-2017', '25', 'Sad', '0', '5', 'Inactive'],\n",
       "       ['09-10-2017', '5461', 'Sad', '174', '4', 'Inactive'],\n",
       "       ['10-10-2017', '6915', 'Neutral', '223', '5', 'Active'],\n",
       "       ['11-10-2017', '4545', 'Sad', '149', '6', 'Inactive'],\n",
       "       ['12-10-2017', '4340', 'Sad', '140', '6', 'Inactive'],\n",
       "       ['13-10-2017', '1230', 'Sad', '38', '7', 'Inactive'],\n",
       "       ['14-10-2017', '61', 'Sad', '1', '5', 'Inactive'],\n",
       "       ['15-10-2017', '1258', 'Sad', '40', '6', 'Inactive'],\n",
       "       ['16-10-2017', '3148', 'Sad', '101', '8', 'Inactive'],\n",
       "       ['17-10-2017', '4687', 'Sad', '152', '5', 'Inactive'],\n",
       "       ['18-10-2017', '4732', 'Happy', '150', '6', 'Active'],\n",
       "       ['19-10-2017', '3519', 'Sad', '113', '7', 'Inactive'],\n",
       "       ['20-10-2017', '1580', 'Sad', '49', '5', 'Inactive'],\n",
       "       ['21-10-2017', '2822', 'Sad', '86', '6', 'Inactive'],\n",
       "       ['22-10-2017', '181', 'Sad', '6', '8', 'Inactive'],\n",
       "       ['23-10-2017', '3158', 'Neutral', '99', '5', 'Inactive'],\n",
       "       ['24-10-2017', '4383', 'Neutral', '143', '4', 'Inactive'],\n",
       "       ['25-10-2017', '3881', 'Neutral', '125', '5', 'Inactive'],\n",
       "       ['26-10-2017', '4037', 'Neutral', '129', '6', 'Inactive'],\n",
       "       ['27-10-2017', '202', 'Neutral', '6', '8', 'Inactive'],\n",
       "       ['28-10-2017', '292', 'Neutral', '9', '5', 'Inactive'],\n",
       "       ['29-10-2017', '330', 'Happy', '10', '6', 'Inactive'],\n",
       "       ['30-10-2017', '2209', 'Neutral', '72', '5', 'Inactive'],\n",
       "       ['31-10-2017', '4550', 'Happy', '150', '8', 'Active'],\n",
       "       ['01-11-2017', '4435', 'Happy', '141', '5', 'Inactive'],\n",
       "       ['02-11-2017', '4779', 'Happy', '156', '4', 'Inactive'],\n",
       "       ['03-11-2017', '1831', 'Happy', '57', '5', 'Inactive'],\n",
       "       ['04-11-2017', '2255', 'Happy', '72', '4', 'Inactive'],\n",
       "       ['05-11-2017', '539', 'Happy', '17', '5', 'Active'],\n",
       "       ['06-11-2017', '5464', 'Happy', '181', '4', 'Inactive'],\n",
       "       ['07-11-2017', '6041', 'Neutral', '197', '3', 'Inactive'],\n",
       "       ['08-11-2017', '4068', 'Happy', '131', '2', 'Inactive'],\n",
       "       ['09-11-2017', '4683', 'Happy', '154', '9', 'Inactive'],\n",
       "       ['10-11-2017', '4033', 'Happy', '137', '5', 'Inactive'],\n",
       "       ['11-11-2017', '6314', 'Happy', '193', '6', 'Active'],\n",
       "       ['12-11-2017', '614', 'Happy', '19', '4', 'Active'],\n",
       "       ['13-11-2017', '3149', 'Happy', '101', '5', 'Active'],\n",
       "       ['14-11-2017', '4005', 'Happy', '139', '8', 'Active'],\n",
       "       ['15-11-2017', '4880', 'Happy', '164', '4', 'Active'],\n",
       "       ['16-11-2017', '4136', 'Happy', '137', '5', 'Active'],\n",
       "       ['17-11-2017', '705', 'Happy', '22', '6', 'Active'],\n",
       "       ['18-11-2017', '570', 'Neutral', '17', '5', 'Active'],\n",
       "       ['19-11-2017', '269', 'Happy', '9', '6', 'Active'],\n",
       "       ['20-11-2017', '4275', 'Happy', '145', '5', 'Inactive'],\n",
       "       ['21-11-2017', '5999', 'Happy', '192', '6', 'Inactive'],\n",
       "       ['22-11-2017', '4421', 'Happy', '146', '5', 'Inactive'],\n",
       "       ['23-11-2017', '6930', 'Happy', '234', '6', 'Inactive'],\n",
       "       ['24-11-2017', '5195', 'Happy', '167', '5', 'Inactive'],\n",
       "       ['25-11-2017', '546', 'Happy', '16', '6', 'Inactive'],\n",
       "       ['26-11-2017', '493', 'Happy', '17', '7', 'Active'],\n",
       "       ['27-11-2017', '995', 'Happy', '32', '6', 'Active'],\n",
       "       ['28-11-2017', '1163', 'Neutral', '35', '7', 'Active'],\n",
       "       ['29-11-2017', '6676', 'Sad', '220', '6', 'Active'],\n",
       "       ['30-11-2017', '3608', 'Happy', '116', '5', 'Active'],\n",
       "       ['01-12-2017', '774', 'Happy', '23', '6', 'Active'],\n",
       "       ['02-12-2017', '1421', 'Happy', '44', '7', 'Active'],\n",
       "       ['03-12-2017', '4064', 'Happy', '131', '8', 'Active'],\n",
       "       ['04-12-2017', '2725', 'Happy', '86', '8', 'Active'],\n",
       "       ['05-12-2017', '5934', 'Happy', '194', '7', 'Active'],\n",
       "       ['06-12-2017', '1867', 'Happy', '60', '8', 'Active'],\n",
       "       ['07-12-2017', '3721', 'Sad', '121', '5', 'Active'],\n",
       "       ['08-12-2017', '2374', 'Neutral', '76', '4', 'Inactive'],\n",
       "       ['09-12-2017', '2909', 'Neutral', '93', '3', 'Active'],\n",
       "       ['10-12-2017', '1648', 'Sad', '53', '3', 'Active'],\n",
       "       ['11-12-2017', '799', 'Sad', '25', '4', 'Inactive'],\n",
       "       ['12-12-2017', '7102', 'Neutral', '227', '5', 'Active'],\n",
       "       ['13-12-2017', '3941', 'Neutral', '125', '5', 'Active'],\n",
       "       ['14-12-2017', '7422', 'Happy', '243', '5', 'Active'],\n",
       "       ['15-12-2017', '437', 'Neutral', '14', '3', 'Active'],\n",
       "       ['16-12-2017', '1231', 'Neutral', '39', '4', 'Active'],\n",
       "       ['17-12-2017', '1696', 'Sad', '55', '4', 'Inactive'],\n",
       "       ['18-12-2017', '4921', 'Neutral', '158', '5', 'Active'],\n",
       "       ['19-12-2017', '221', 'Sad', '7', '5', 'Active'],\n",
       "       ['20-12-2017', '6500', 'Neutral', '213', '5', 'Active'],\n",
       "       ['21-12-2017', '3575', 'Neutral', '116', '5', 'Active'],\n",
       "       ['22-12-2017', '4061', 'Sad', '129', '5', 'Inactive'],\n",
       "       ['23-12-2017', '651', 'Sad', '21', '5', 'Inactive'],\n",
       "       ['24-12-2017', '753', 'Sad', '28', '4', 'Inactive'],\n",
       "       ['25-12-2017', '518', 'Sad', '16', '3', 'Inactive'],\n",
       "       ['26-12-2017', '5537', 'Happy', '180', '4', 'Active'],\n",
       "       ['27-12-2017', '4108', 'Neutral', '138', '5', 'Active'],\n",
       "       ['28-12-2017', '5376', 'Happy', '176', '5', 'Active'],\n",
       "       ['29-12-2017', '3066', 'Neutral', '99', '4', 'Active'],\n",
       "       ['30-12-2017', '177', 'Sad', '5', '5', 'Inactive'],\n",
       "       ['31-12-2017', '36', 'Sad', '1', '3', 'Inactive'],\n",
       "       ['01-01-2018', '299', 'Sad', '10', '3', 'Inactive'],\n",
       "       ['02-01-2018', '1447', 'Neutral', '47', '3', 'Inactive'],\n",
       "       ['03-01-2018', '2599', 'Neutral', '84', '2', 'Inactive'],\n",
       "       ['04-01-2018', '702', 'Sad', '23', '3', 'Inactive'],\n",
       "       ['05-01-2018', '133', 'Sad', '4', '2', 'Inactive'],\n",
       "       ['06-01-2018', '153', 'Happy', '0', '8', 'Inactive'],\n",
       "       ['07-01-2018', '500', 'Neutral', '0', '5', 'Active'],\n",
       "       ['08-01-2018', '2127', 'Neutral', '0', '5', 'Inactive'],\n",
       "       ['09-01-2018', '2203', 'Happy', '0', '5', 'Active']], dtype='<U10')"
      ]
     },
     "execution_count": 2,
     "metadata": {},
     "output_type": "execute_result"
    }
   ],
   "source": [
    "data = np.loadtxt(\"fitbit.txt\", dtype=\"str\")\n",
    "data"
   ]
  },
  {
   "cell_type": "code",
   "execution_count": 3,
   "id": "516744e6",
   "metadata": {},
   "outputs": [
    {
     "name": "stdout",
     "output_type": "stream",
     "text": [
      "(96, 6) 2\n"
     ]
    }
   ],
   "source": [
    "print(data.shape, data.ndim)"
   ]
  },
  {
   "cell_type": "code",
   "execution_count": 4,
   "id": "42a02aa3",
   "metadata": {},
   "outputs": [
    {
     "data": {
      "text/plain": [
       "array(['06-10-2017', '5464', 'Neutral', '181', '5', 'Inactive'],\n",
       "      dtype='<U10')"
      ]
     },
     "execution_count": 4,
     "metadata": {},
     "output_type": "execute_result"
    }
   ],
   "source": [
    "data[0]"
   ]
  },
  {
   "cell_type": "code",
   "execution_count": 6,
   "id": "5177b18c",
   "metadata": {},
   "outputs": [
    {
     "data": {
      "text/plain": [
       "array([['06-10-2017', '5464', 'Neutral', '181', '5', 'Inactive'],\n",
       "       ['07-10-2017', '6041', 'Sad', '197', '8', 'Inactive'],\n",
       "       ['08-10-2017', '25', 'Sad', '0', '5', 'Inactive'],\n",
       "       ['09-10-2017', '5461', 'Sad', '174', '4', 'Inactive'],\n",
       "       ['10-10-2017', '6915', 'Neutral', '223', '5', 'Active']],\n",
       "      dtype='<U10')"
      ]
     },
     "execution_count": 6,
     "metadata": {},
     "output_type": "execute_result"
    }
   ],
   "source": [
    "data[:5]"
   ]
  },
  {
   "cell_type": "code",
   "execution_count": 7,
   "id": "17552d9a",
   "metadata": {},
   "outputs": [],
   "source": [
    "a = np.array(range(16))"
   ]
  },
  {
   "cell_type": "code",
   "execution_count": 8,
   "id": "42ff2a41",
   "metadata": {},
   "outputs": [
    {
     "data": {
      "text/plain": [
       "array([ 0,  1,  2,  3,  4,  5,  6,  7,  8,  9, 10, 11, 12, 13, 14, 15])"
      ]
     },
     "execution_count": 8,
     "metadata": {},
     "output_type": "execute_result"
    }
   ],
   "source": [
    "a"
   ]
  },
  {
   "cell_type": "code",
   "execution_count": 9,
   "id": "59d0aa76",
   "metadata": {},
   "outputs": [
    {
     "data": {
      "text/plain": [
       "(16,)"
      ]
     },
     "execution_count": 9,
     "metadata": {},
     "output_type": "execute_result"
    }
   ],
   "source": [
    "a.shape"
   ]
  },
  {
   "cell_type": "code",
   "execution_count": 11,
   "id": "518524a0",
   "metadata": {},
   "outputs": [],
   "source": [
    "#creating a 2d array\n",
    "b = np.array([[1,2,3],[4,5,6]]) #manually"
   ]
  },
  {
   "cell_type": "code",
   "execution_count": 12,
   "id": "8afb6421",
   "metadata": {},
   "outputs": [
    {
     "data": {
      "text/plain": [
       "array([[1, 2, 3],\n",
       "       [4, 5, 6]])"
      ]
     },
     "execution_count": 12,
     "metadata": {},
     "output_type": "execute_result"
    }
   ],
   "source": [
    "b"
   ]
  },
  {
   "cell_type": "code",
   "execution_count": 14,
   "id": "4873c11d",
   "metadata": {},
   "outputs": [
    {
     "data": {
      "text/plain": [
       "array([[1, 2, 3, 4, 5, 6]])"
      ]
     },
     "execution_count": 14,
     "metadata": {},
     "output_type": "execute_result"
    }
   ],
   "source": [
    "b.reshape(1,6)"
   ]
  },
  {
   "cell_type": "code",
   "execution_count": 15,
   "id": "6da3f36f",
   "metadata": {},
   "outputs": [
    {
     "data": {
      "text/plain": [
       "array([[1, 2, 3],\n",
       "       [4, 5, 6]])"
      ]
     },
     "execution_count": 15,
     "metadata": {},
     "output_type": "execute_result"
    }
   ],
   "source": [
    "b.reshape(2,3)"
   ]
  },
  {
   "cell_type": "code",
   "execution_count": 19,
   "id": "7c27142e",
   "metadata": {},
   "outputs": [
    {
     "data": {
      "text/plain": [
       "array([[1, 2, 3],\n",
       "       [4, 5, 6]])"
      ]
     },
     "execution_count": 19,
     "metadata": {},
     "output_type": "execute_result"
    }
   ],
   "source": [
    "b.reshape(-1,3) # -1 dummy indices if you do not hardcode"
   ]
  },
  {
   "cell_type": "code",
   "execution_count": 20,
   "id": "13fabf5e",
   "metadata": {},
   "outputs": [],
   "source": [
    "c = np.arange(20)"
   ]
  },
  {
   "cell_type": "code",
   "execution_count": 21,
   "id": "c02315fc",
   "metadata": {},
   "outputs": [
    {
     "data": {
      "text/plain": [
       "array([ 0,  1,  2,  3,  4,  5,  6,  7,  8,  9, 10, 11, 12, 13, 14, 15, 16,\n",
       "       17, 18, 19])"
      ]
     },
     "execution_count": 21,
     "metadata": {},
     "output_type": "execute_result"
    }
   ],
   "source": [
    "c"
   ]
  },
  {
   "cell_type": "code",
   "execution_count": 22,
   "id": "87e63d53",
   "metadata": {},
   "outputs": [
    {
     "data": {
      "text/plain": [
       "array([[ 0,  1,  2,  3,  4],\n",
       "       [ 5,  6,  7,  8,  9],\n",
       "       [10, 11, 12, 13, 14],\n",
       "       [15, 16, 17, 18, 19]])"
      ]
     },
     "execution_count": 22,
     "metadata": {},
     "output_type": "execute_result"
    }
   ],
   "source": [
    "c.reshape(-1,5)"
   ]
  },
  {
   "cell_type": "code",
   "execution_count": 24,
   "id": "aa47b6aa",
   "metadata": {},
   "outputs": [
    {
     "data": {
      "text/plain": [
       "array([[ 0,  1,  2,  3],\n",
       "       [ 4,  5,  6,  7],\n",
       "       [ 8,  9, 10, 11],\n",
       "       [12, 13, 14, 15],\n",
       "       [16, 17, 18, 19]])"
      ]
     },
     "execution_count": 24,
     "metadata": {},
     "output_type": "execute_result"
    }
   ],
   "source": [
    "c.reshape(5,-1)"
   ]
  },
  {
   "cell_type": "code",
   "execution_count": 25,
   "id": "ef9feaa4",
   "metadata": {},
   "outputs": [
    {
     "data": {
      "text/plain": [
       "20"
      ]
     },
     "execution_count": 25,
     "metadata": {},
     "output_type": "execute_result"
    }
   ],
   "source": [
    "len(c)"
   ]
  },
  {
   "cell_type": "code",
   "execution_count": 26,
   "id": "3d949d6b",
   "metadata": {},
   "outputs": [
    {
     "data": {
      "text/plain": [
       "array([ 0,  1,  2,  3,  4,  5,  6,  7,  8,  9, 10, 11, 12, 13, 14, 15, 16,\n",
       "       17, 18, 19])"
      ]
     },
     "execution_count": 26,
     "metadata": {},
     "output_type": "execute_result"
    }
   ],
   "source": [
    "c"
   ]
  },
  {
   "cell_type": "code",
   "execution_count": 28,
   "id": "0cd8c17a",
   "metadata": {},
   "outputs": [
    {
     "data": {
      "text/plain": [
       "array([[ 0,  1,  2,  3],\n",
       "       [ 4,  5,  6,  7],\n",
       "       [ 8,  9, 10, 11],\n",
       "       [12, 13, 14, 15],\n",
       "       [16, 17, 18, 19]])"
      ]
     },
     "execution_count": 28,
     "metadata": {},
     "output_type": "execute_result"
    }
   ],
   "source": [
    "c = c.reshape(5,-1)\n",
    "c"
   ]
  },
  {
   "cell_type": "code",
   "execution_count": 30,
   "id": "431e2eb8",
   "metadata": {},
   "outputs": [
    {
     "data": {
      "text/plain": [
       "5"
      ]
     },
     "execution_count": 30,
     "metadata": {},
     "output_type": "execute_result"
    }
   ],
   "source": [
    "len(c)"
   ]
  },
  {
   "cell_type": "code",
   "execution_count": 31,
   "id": "ea7ccfcf",
   "metadata": {},
   "outputs": [
    {
     "data": {
      "text/plain": [
       "6"
      ]
     },
     "execution_count": 31,
     "metadata": {},
     "output_type": "execute_result"
    }
   ],
   "source": [
    "c[1,2]"
   ]
  },
  {
   "cell_type": "code",
   "execution_count": 33,
   "id": "aea98c4e",
   "metadata": {},
   "outputs": [
    {
     "data": {
      "text/plain": [
       "array([[ 0,  1,  2,  3],\n",
       "       [ 4,  5,  6,  7],\n",
       "       [ 8,  9, 10, 11]])"
      ]
     },
     "execution_count": 33,
     "metadata": {},
     "output_type": "execute_result"
    }
   ],
   "source": [
    "d = np.arange(12).reshape(3,4)\n",
    "d"
   ]
  },
  {
   "cell_type": "code",
   "execution_count": 34,
   "id": "f43bd4a4",
   "metadata": {},
   "outputs": [
    {
     "data": {
      "text/plain": [
       "array([[ 0,  4,  8],\n",
       "       [ 1,  5,  9],\n",
       "       [ 2,  6, 10],\n",
       "       [ 3,  7, 11]])"
      ]
     },
     "execution_count": 34,
     "metadata": {},
     "output_type": "execute_result"
    }
   ],
   "source": [
    "#Transpose of a matrix\n",
    "d.T"
   ]
  },
  {
   "cell_type": "code",
   "execution_count": 35,
   "id": "454eca2b",
   "metadata": {},
   "outputs": [
    {
     "data": {
      "text/plain": [
       "(3, 4)"
      ]
     },
     "execution_count": 35,
     "metadata": {},
     "output_type": "execute_result"
    }
   ],
   "source": [
    "d.shape"
   ]
  },
  {
   "cell_type": "code",
   "execution_count": 37,
   "id": "aac8ed90",
   "metadata": {},
   "outputs": [
    {
     "data": {
      "text/plain": [
       "array([[ 0,  1,  2,  3],\n",
       "       [ 4,  5,  6,  7],\n",
       "       [ 8,  9, 10, 11]])"
      ]
     },
     "execution_count": 37,
     "metadata": {},
     "output_type": "execute_result"
    }
   ],
   "source": [
    "d.T.T"
   ]
  },
  {
   "cell_type": "markdown",
   "id": "77ca34e8",
   "metadata": {},
   "source": [
    "#### Indexing and slicing"
   ]
  },
  {
   "cell_type": "code",
   "execution_count": 38,
   "id": "40342800",
   "metadata": {},
   "outputs": [
    {
     "data": {
      "text/plain": [
       "array([1, 2, 3, 4, 5, 6, 7, 8, 9])"
      ]
     },
     "execution_count": 38,
     "metadata": {},
     "output_type": "execute_result"
    }
   ],
   "source": [
    "m1 = np.arange(1,10)\n",
    "m1"
   ]
  },
  {
   "cell_type": "code",
   "execution_count": 39,
   "id": "b4d30904",
   "metadata": {},
   "outputs": [
    {
     "data": {
      "text/plain": [
       "array([[1, 2, 3],\n",
       "       [4, 5, 6],\n",
       "       [7, 8, 9]])"
      ]
     },
     "execution_count": 39,
     "metadata": {},
     "output_type": "execute_result"
    }
   ],
   "source": [
    "m1.reshape(-1,3)"
   ]
  },
  {
   "cell_type": "code",
   "execution_count": 40,
   "id": "6e5a6deb",
   "metadata": {},
   "outputs": [],
   "source": [
    "arr2 = np.arange(12).reshape(-1,4)"
   ]
  },
  {
   "cell_type": "code",
   "execution_count": 42,
   "id": "cc75b87f",
   "metadata": {},
   "outputs": [
    {
     "data": {
      "text/plain": [
       "array([[ 0,  1,  2,  3],\n",
       "       [ 4,  5,  6,  7],\n",
       "       [ 8,  9, 10, 11]])"
      ]
     },
     "execution_count": 42,
     "metadata": {},
     "output_type": "execute_result"
    }
   ],
   "source": [
    "arr2"
   ]
  },
  {
   "cell_type": "code",
   "execution_count": 43,
   "id": "14fa8f4e",
   "metadata": {},
   "outputs": [
    {
     "data": {
      "text/plain": [
       "2"
      ]
     },
     "execution_count": 43,
     "metadata": {},
     "output_type": "execute_result"
    }
   ],
   "source": [
    "arr2.ndim"
   ]
  },
  {
   "cell_type": "code",
   "execution_count": 44,
   "id": "70e51b26",
   "metadata": {},
   "outputs": [
    {
     "data": {
      "text/plain": [
       "array([[0, 1],\n",
       "       [4, 5],\n",
       "       [8, 9]])"
      ]
     },
     "execution_count": 44,
     "metadata": {},
     "output_type": "execute_result"
    }
   ],
   "source": [
    "arr2[:,:2]"
   ]
  },
  {
   "cell_type": "code",
   "execution_count": 48,
   "id": "f5091b9d",
   "metadata": {},
   "outputs": [
    {
     "data": {
      "text/plain": [
       "array([[ 0,  1,  2,  3],\n",
       "       [ 4,  5,  6,  7],\n",
       "       [ 8,  9, 10, 11]])"
      ]
     },
     "execution_count": 48,
     "metadata": {},
     "output_type": "execute_result"
    }
   ],
   "source": [
    "arr2"
   ]
  },
  {
   "cell_type": "code",
   "execution_count": 49,
   "id": "68ed77aa",
   "metadata": {},
   "outputs": [
    {
     "data": {
      "text/plain": [
       "array([[6]])"
      ]
     },
     "execution_count": 49,
     "metadata": {},
     "output_type": "execute_result"
    }
   ],
   "source": [
    "arr2[1:2,2:3]"
   ]
  },
  {
   "cell_type": "code",
   "execution_count": 50,
   "id": "4518c83d",
   "metadata": {},
   "outputs": [
    {
     "data": {
      "text/plain": [
       "array([['06-10-2017', '5464', 'Neutral', '181', '5', 'Inactive'],\n",
       "       ['07-10-2017', '6041', 'Sad', '197', '8', 'Inactive'],\n",
       "       ['08-10-2017', '25', 'Sad', '0', '5', 'Inactive'],\n",
       "       ['09-10-2017', '5461', 'Sad', '174', '4', 'Inactive'],\n",
       "       ['10-10-2017', '6915', 'Neutral', '223', '5', 'Active']],\n",
       "      dtype='<U10')"
      ]
     },
     "execution_count": 50,
     "metadata": {},
     "output_type": "execute_result"
    }
   ],
   "source": [
    "data[:5]"
   ]
  },
  {
   "cell_type": "code",
   "execution_count": 51,
   "id": "43a194c6",
   "metadata": {},
   "outputs": [],
   "source": [
    "t= np.arange(1,13).reshape(3,-1)"
   ]
  },
  {
   "cell_type": "code",
   "execution_count": 52,
   "id": "d3d9da32",
   "metadata": {},
   "outputs": [
    {
     "data": {
      "text/plain": [
       "array([[ 1,  2,  3,  4],\n",
       "       [ 5,  6,  7,  8],\n",
       "       [ 9, 10, 11, 12]])"
      ]
     },
     "execution_count": 52,
     "metadata": {},
     "output_type": "execute_result"
    }
   ],
   "source": [
    "t"
   ]
  },
  {
   "cell_type": "code",
   "execution_count": 53,
   "id": "49a9aba2",
   "metadata": {},
   "outputs": [
    {
     "data": {
      "text/plain": [
       "array([[ 1,  2,  3,  4],\n",
       "       [ 9, 10, 11, 12]])"
      ]
     },
     "execution_count": 53,
     "metadata": {},
     "output_type": "execute_result"
    }
   ],
   "source": [
    "t[::2,:] #chose rows "
   ]
  },
  {
   "cell_type": "code",
   "execution_count": 54,
   "id": "f5ac0cb8",
   "metadata": {},
   "outputs": [
    {
     "data": {
      "text/plain": [
       "array([[ 1,  3],\n",
       "       [ 5,  7],\n",
       "       [ 9, 11]])"
      ]
     },
     "execution_count": 54,
     "metadata": {},
     "output_type": "execute_result"
    }
   ],
   "source": [
    "t[::,::2]"
   ]
  },
  {
   "cell_type": "code",
   "execution_count": 55,
   "id": "19e60658",
   "metadata": {},
   "outputs": [
    {
     "data": {
      "text/plain": [
       "array([[1, 2, 3, 4]])"
      ]
     },
     "execution_count": 55,
     "metadata": {},
     "output_type": "execute_result"
    }
   ],
   "source": [
    "t[0:2:2,::]"
   ]
  },
  {
   "cell_type": "code",
   "execution_count": 56,
   "id": "f1179a12",
   "metadata": {},
   "outputs": [
    {
     "data": {
      "text/plain": [
       "array([[ 9, 10, 11, 12],\n",
       "       [ 5,  6,  7,  8],\n",
       "       [ 1,  2,  3,  4]])"
      ]
     },
     "execution_count": 56,
     "metadata": {},
     "output_type": "execute_result"
    }
   ],
   "source": [
    "t[::-1,::]"
   ]
  },
  {
   "cell_type": "code",
   "execution_count": 57,
   "id": "dd80e9bd",
   "metadata": {},
   "outputs": [
    {
     "data": {
      "text/plain": [
       "array([[12, 11, 10,  9],\n",
       "       [ 8,  7,  6,  5],\n",
       "       [ 4,  3,  2,  1]])"
      ]
     },
     "execution_count": 57,
     "metadata": {},
     "output_type": "execute_result"
    }
   ],
   "source": [
    "t[::-1,::-1]"
   ]
  },
  {
   "cell_type": "code",
   "execution_count": 58,
   "id": "c2ca2cf9",
   "metadata": {},
   "outputs": [
    {
     "data": {
      "text/plain": [
       "array([[ 1,  2,  3,  4],\n",
       "       [ 5,  6,  7,  8],\n",
       "       [ 9, 10, 11, 12]])"
      ]
     },
     "execution_count": 58,
     "metadata": {},
     "output_type": "execute_result"
    }
   ],
   "source": [
    "t"
   ]
  },
  {
   "cell_type": "code",
   "execution_count": 59,
   "id": "60b8fd7c",
   "metadata": {},
   "outputs": [
    {
     "data": {
      "text/plain": [
       "array([[ 9, 10, 11, 12],\n",
       "       [ 1,  2,  3,  4]])"
      ]
     },
     "execution_count": 59,
     "metadata": {},
     "output_type": "execute_result"
    }
   ],
   "source": [
    "t[::-2,::]"
   ]
  },
  {
   "cell_type": "code",
   "execution_count": 66,
   "id": "62e8e021",
   "metadata": {},
   "outputs": [
    {
     "name": "stdout",
     "output_type": "stream",
     "text": [
      "[3, 4, 5] [6, 7, 8]\n"
     ]
    }
   ],
   "source": [
    "a = [1,2,3,4,5]\n",
    "b = [8,7,6]\n",
    "print(a[2 : ],b[ : :-1])\n"
   ]
  },
  {
   "cell_type": "code",
   "execution_count": 67,
   "id": "ed9c4116",
   "metadata": {},
   "outputs": [],
   "source": [
    "a[2:]=b[::-1] #assignment and NOT equal to"
   ]
  },
  {
   "cell_type": "code",
   "execution_count": 68,
   "id": "c64b110c",
   "metadata": {},
   "outputs": [
    {
     "data": {
      "text/plain": [
       "[1, 2, 6, 7, 8]"
      ]
     },
     "execution_count": 68,
     "metadata": {},
     "output_type": "execute_result"
    }
   ],
   "source": [
    "a"
   ]
  },
  {
   "cell_type": "code",
   "execution_count": 69,
   "id": "f11e0abf",
   "metadata": {},
   "outputs": [],
   "source": [
    "c = np.array([1,2,3,4,5])\n",
    "d = np.array([8,7,6])"
   ]
  },
  {
   "cell_type": "code",
   "execution_count": 70,
   "id": "fd456385",
   "metadata": {},
   "outputs": [
    {
     "data": {
      "text/plain": [
       "(array([1, 2, 3, 4, 5]), array([8, 7, 6]))"
      ]
     },
     "execution_count": 70,
     "metadata": {},
     "output_type": "execute_result"
    }
   ],
   "source": [
    "c,d"
   ]
  },
  {
   "cell_type": "code",
   "execution_count": 72,
   "id": "8bbcf92a",
   "metadata": {},
   "outputs": [],
   "source": [
    "c[:3] = d[::-1]"
   ]
  },
  {
   "cell_type": "code",
   "execution_count": 73,
   "id": "524a5afe",
   "metadata": {},
   "outputs": [
    {
     "data": {
      "text/plain": [
       "array([6, 7, 8, 4, 5])"
      ]
     },
     "execution_count": 73,
     "metadata": {},
     "output_type": "execute_result"
    }
   ],
   "source": [
    "c"
   ]
  },
  {
   "cell_type": "code",
   "execution_count": 76,
   "id": "136dd98b",
   "metadata": {},
   "outputs": [
    {
     "data": {
      "text/plain": [
       "[1, 2, 6, [6, 7, 8], 8]"
      ]
     },
     "execution_count": 76,
     "metadata": {},
     "output_type": "execute_result"
    }
   ],
   "source": [
    "a[3] = b[::-1] #a,b are list\n",
    "a #list within list"
   ]
  },
  {
   "cell_type": "code",
   "execution_count": 77,
   "id": "6ad7d0fb",
   "metadata": {},
   "outputs": [
    {
     "ename": "ValueError",
     "evalue": "setting an array element with a sequence.",
     "output_type": "error",
     "traceback": [
      "\u001b[0;31m---------------------------------------------------------------------------\u001b[0m",
      "\u001b[0;31mTypeError\u001b[0m                                 Traceback (most recent call last)",
      "\u001b[0;31mTypeError\u001b[0m: only size-1 arrays can be converted to Python scalars",
      "\nThe above exception was the direct cause of the following exception:\n",
      "\u001b[0;31mValueError\u001b[0m                                Traceback (most recent call last)",
      "Cell \u001b[0;32mIn [77], line 1\u001b[0m\n\u001b[0;32m----> 1\u001b[0m c[\u001b[38;5;241m3\u001b[39m] \u001b[38;5;241m=\u001b[39m d[::\u001b[38;5;241m-\u001b[39m\u001b[38;5;241m1\u001b[39m]\n",
      "\u001b[0;31mValueError\u001b[0m: setting an array element with a sequence."
     ]
    }
   ],
   "source": [
    "c[3] = d[::-1] #c,d are ndarray"
   ]
  },
  {
   "cell_type": "code",
   "execution_count": 79,
   "id": "8cd53e52",
   "metadata": {},
   "outputs": [
    {
     "data": {
      "text/plain": [
       "array([['04-01-2018', '702', 'Sad', '23', '3', 'Inactive'],\n",
       "       ['05-01-2018', '133', 'Sad', '4', '2', 'Inactive'],\n",
       "       ['06-01-2018', '153', 'Happy', '0', '8', 'Inactive'],\n",
       "       ['07-01-2018', '500', 'Neutral', '0', '5', 'Active'],\n",
       "       ['08-01-2018', '2127', 'Neutral', '0', '5', 'Inactive'],\n",
       "       ['09-01-2018', '2203', 'Happy', '0', '5', 'Active']], dtype='<U10')"
      ]
     },
     "execution_count": 79,
     "metadata": {},
     "output_type": "execute_result"
    }
   ],
   "source": [
    "# Fitbit analysis\n",
    "data[-6:]"
   ]
  },
  {
   "cell_type": "code",
   "execution_count": 80,
   "id": "b4d79b93",
   "metadata": {},
   "outputs": [
    {
     "data": {
      "text/plain": [
       "array(['06-10-2017', '07-10-2017', '08-10-2017', '09-10-2017',\n",
       "       '10-10-2017', '11-10-2017', '12-10-2017', '13-10-2017',\n",
       "       '14-10-2017', '15-10-2017', '16-10-2017', '17-10-2017',\n",
       "       '18-10-2017', '19-10-2017', '20-10-2017', '21-10-2017',\n",
       "       '22-10-2017', '23-10-2017', '24-10-2017', '25-10-2017',\n",
       "       '26-10-2017', '27-10-2017', '28-10-2017', '29-10-2017',\n",
       "       '30-10-2017', '31-10-2017', '01-11-2017', '02-11-2017',\n",
       "       '03-11-2017', '04-11-2017', '05-11-2017', '06-11-2017',\n",
       "       '07-11-2017', '08-11-2017', '09-11-2017', '10-11-2017',\n",
       "       '11-11-2017', '12-11-2017', '13-11-2017', '14-11-2017',\n",
       "       '15-11-2017', '16-11-2017', '17-11-2017', '18-11-2017',\n",
       "       '19-11-2017', '20-11-2017', '21-11-2017', '22-11-2017',\n",
       "       '23-11-2017', '24-11-2017', '25-11-2017', '26-11-2017',\n",
       "       '27-11-2017', '28-11-2017', '29-11-2017', '30-11-2017',\n",
       "       '01-12-2017', '02-12-2017', '03-12-2017', '04-12-2017',\n",
       "       '05-12-2017', '06-12-2017', '07-12-2017', '08-12-2017',\n",
       "       '09-12-2017', '10-12-2017', '11-12-2017', '12-12-2017',\n",
       "       '13-12-2017', '14-12-2017', '15-12-2017', '16-12-2017',\n",
       "       '17-12-2017', '18-12-2017', '19-12-2017', '20-12-2017',\n",
       "       '21-12-2017', '22-12-2017', '23-12-2017', '24-12-2017',\n",
       "       '25-12-2017', '26-12-2017', '27-12-2017', '28-12-2017',\n",
       "       '29-12-2017', '30-12-2017', '31-12-2017', '01-01-2018',\n",
       "       '02-01-2018', '03-01-2018', '04-01-2018', '05-01-2018',\n",
       "       '06-01-2018', '07-01-2018', '08-01-2018', '09-01-2018'],\n",
       "      dtype='<U10')"
      ]
     },
     "execution_count": 80,
     "metadata": {},
     "output_type": "execute_result"
    }
   ],
   "source": [
    "data[:,0]"
   ]
  },
  {
   "cell_type": "code",
   "execution_count": 81,
   "id": "0e3380d2",
   "metadata": {},
   "outputs": [],
   "source": [
    "data_T = data.T"
   ]
  },
  {
   "cell_type": "code",
   "execution_count": 82,
   "id": "1f78d400",
   "metadata": {},
   "outputs": [
    {
     "data": {
      "text/plain": [
       "array([['06-10-2017', '07-10-2017', '08-10-2017', '09-10-2017',\n",
       "        '10-10-2017', '11-10-2017', '12-10-2017', '13-10-2017',\n",
       "        '14-10-2017', '15-10-2017', '16-10-2017', '17-10-2017',\n",
       "        '18-10-2017', '19-10-2017', '20-10-2017', '21-10-2017',\n",
       "        '22-10-2017', '23-10-2017', '24-10-2017', '25-10-2017',\n",
       "        '26-10-2017', '27-10-2017', '28-10-2017', '29-10-2017',\n",
       "        '30-10-2017', '31-10-2017', '01-11-2017', '02-11-2017',\n",
       "        '03-11-2017', '04-11-2017', '05-11-2017', '06-11-2017',\n",
       "        '07-11-2017', '08-11-2017', '09-11-2017', '10-11-2017',\n",
       "        '11-11-2017', '12-11-2017', '13-11-2017', '14-11-2017',\n",
       "        '15-11-2017', '16-11-2017', '17-11-2017', '18-11-2017',\n",
       "        '19-11-2017', '20-11-2017', '21-11-2017', '22-11-2017',\n",
       "        '23-11-2017', '24-11-2017', '25-11-2017', '26-11-2017',\n",
       "        '27-11-2017', '28-11-2017', '29-11-2017', '30-11-2017',\n",
       "        '01-12-2017', '02-12-2017', '03-12-2017', '04-12-2017',\n",
       "        '05-12-2017', '06-12-2017', '07-12-2017', '08-12-2017',\n",
       "        '09-12-2017', '10-12-2017', '11-12-2017', '12-12-2017',\n",
       "        '13-12-2017', '14-12-2017', '15-12-2017', '16-12-2017',\n",
       "        '17-12-2017', '18-12-2017', '19-12-2017', '20-12-2017',\n",
       "        '21-12-2017', '22-12-2017', '23-12-2017', '24-12-2017',\n",
       "        '25-12-2017', '26-12-2017', '27-12-2017', '28-12-2017',\n",
       "        '29-12-2017', '30-12-2017', '31-12-2017', '01-01-2018',\n",
       "        '02-01-2018', '03-01-2018', '04-01-2018', '05-01-2018',\n",
       "        '06-01-2018', '07-01-2018', '08-01-2018', '09-01-2018'],\n",
       "       ['5464', '6041', '25', '5461', '6915', '4545', '4340', '1230',\n",
       "        '61', '1258', '3148', '4687', '4732', '3519', '1580', '2822',\n",
       "        '181', '3158', '4383', '3881', '4037', '202', '292', '330',\n",
       "        '2209', '4550', '4435', '4779', '1831', '2255', '539', '5464',\n",
       "        '6041', '4068', '4683', '4033', '6314', '614', '3149', '4005',\n",
       "        '4880', '4136', '705', '570', '269', '4275', '5999', '4421',\n",
       "        '6930', '5195', '546', '493', '995', '1163', '6676', '3608',\n",
       "        '774', '1421', '4064', '2725', '5934', '1867', '3721', '2374',\n",
       "        '2909', '1648', '799', '7102', '3941', '7422', '437', '1231',\n",
       "        '1696', '4921', '221', '6500', '3575', '4061', '651', '753',\n",
       "        '518', '5537', '4108', '5376', '3066', '177', '36', '299',\n",
       "        '1447', '2599', '702', '133', '153', '500', '2127', '2203'],\n",
       "       ['Neutral', 'Sad', 'Sad', 'Sad', 'Neutral', 'Sad', 'Sad', 'Sad',\n",
       "        'Sad', 'Sad', 'Sad', 'Sad', 'Happy', 'Sad', 'Sad', 'Sad', 'Sad',\n",
       "        'Neutral', 'Neutral', 'Neutral', 'Neutral', 'Neutral', 'Neutral',\n",
       "        'Happy', 'Neutral', 'Happy', 'Happy', 'Happy', 'Happy', 'Happy',\n",
       "        'Happy', 'Happy', 'Neutral', 'Happy', 'Happy', 'Happy', 'Happy',\n",
       "        'Happy', 'Happy', 'Happy', 'Happy', 'Happy', 'Happy', 'Neutral',\n",
       "        'Happy', 'Happy', 'Happy', 'Happy', 'Happy', 'Happy', 'Happy',\n",
       "        'Happy', 'Happy', 'Neutral', 'Sad', 'Happy', 'Happy', 'Happy',\n",
       "        'Happy', 'Happy', 'Happy', 'Happy', 'Sad', 'Neutral', 'Neutral',\n",
       "        'Sad', 'Sad', 'Neutral', 'Neutral', 'Happy', 'Neutral',\n",
       "        'Neutral', 'Sad', 'Neutral', 'Sad', 'Neutral', 'Neutral', 'Sad',\n",
       "        'Sad', 'Sad', 'Sad', 'Happy', 'Neutral', 'Happy', 'Neutral',\n",
       "        'Sad', 'Sad', 'Sad', 'Neutral', 'Neutral', 'Sad', 'Sad', 'Happy',\n",
       "        'Neutral', 'Neutral', 'Happy'],\n",
       "       ['181', '197', '0', '174', '223', '149', '140', '38', '1', '40',\n",
       "        '101', '152', '150', '113', '49', '86', '6', '99', '143', '125',\n",
       "        '129', '6', '9', '10', '72', '150', '141', '156', '57', '72',\n",
       "        '17', '181', '197', '131', '154', '137', '193', '19', '101',\n",
       "        '139', '164', '137', '22', '17', '9', '145', '192', '146', '234',\n",
       "        '167', '16', '17', '32', '35', '220', '116', '23', '44', '131',\n",
       "        '86', '194', '60', '121', '76', '93', '53', '25', '227', '125',\n",
       "        '243', '14', '39', '55', '158', '7', '213', '116', '129', '21',\n",
       "        '28', '16', '180', '138', '176', '99', '5', '1', '10', '47',\n",
       "        '84', '23', '4', '0', '0', '0', '0'],\n",
       "       ['5', '8', '5', '4', '5', '6', '6', '7', '5', '6', '8', '5', '6',\n",
       "        '7', '5', '6', '8', '5', '4', '5', '6', '8', '5', '6', '5', '8',\n",
       "        '5', '4', '5', '4', '5', '4', '3', '2', '9', '5', '6', '4', '5',\n",
       "        '8', '4', '5', '6', '5', '6', '5', '6', '5', '6', '5', '6', '7',\n",
       "        '6', '7', '6', '5', '6', '7', '8', '8', '7', '8', '5', '4', '3',\n",
       "        '3', '4', '5', '5', '5', '3', '4', '4', '5', '5', '5', '5', '5',\n",
       "        '5', '4', '3', '4', '5', '5', '4', '5', '3', '3', '3', '2', '3',\n",
       "        '2', '8', '5', '5', '5'],\n",
       "       ['Inactive', 'Inactive', 'Inactive', 'Inactive', 'Active',\n",
       "        'Inactive', 'Inactive', 'Inactive', 'Inactive', 'Inactive',\n",
       "        'Inactive', 'Inactive', 'Active', 'Inactive', 'Inactive',\n",
       "        'Inactive', 'Inactive', 'Inactive', 'Inactive', 'Inactive',\n",
       "        'Inactive', 'Inactive', 'Inactive', 'Inactive', 'Inactive',\n",
       "        'Active', 'Inactive', 'Inactive', 'Inactive', 'Inactive',\n",
       "        'Active', 'Inactive', 'Inactive', 'Inactive', 'Inactive',\n",
       "        'Inactive', 'Active', 'Active', 'Active', 'Active', 'Active',\n",
       "        'Active', 'Active', 'Active', 'Active', 'Inactive', 'Inactive',\n",
       "        'Inactive', 'Inactive', 'Inactive', 'Inactive', 'Active',\n",
       "        'Active', 'Active', 'Active', 'Active', 'Active', 'Active',\n",
       "        'Active', 'Active', 'Active', 'Active', 'Active', 'Inactive',\n",
       "        'Active', 'Active', 'Inactive', 'Active', 'Active', 'Active',\n",
       "        'Active', 'Active', 'Inactive', 'Active', 'Active', 'Active',\n",
       "        'Active', 'Inactive', 'Inactive', 'Inactive', 'Inactive',\n",
       "        'Active', 'Active', 'Active', 'Active', 'Inactive', 'Inactive',\n",
       "        'Inactive', 'Inactive', 'Inactive', 'Inactive', 'Inactive',\n",
       "        'Inactive', 'Active', 'Inactive', 'Active']], dtype='<U10')"
      ]
     },
     "execution_count": 82,
     "metadata": {},
     "output_type": "execute_result"
    }
   ],
   "source": [
    "data_T"
   ]
  },
  {
   "cell_type": "code",
   "execution_count": 83,
   "id": "e7def66d",
   "metadata": {},
   "outputs": [
    {
     "data": {
      "text/plain": [
       "(6, 96)"
      ]
     },
     "execution_count": 83,
     "metadata": {},
     "output_type": "execute_result"
    }
   ],
   "source": [
    "data_T.shape"
   ]
  },
  {
   "cell_type": "code",
   "execution_count": 84,
   "id": "91eec327",
   "metadata": {},
   "outputs": [],
   "source": [
    "#extract the variables using transpose\n",
    "date, step_count, mood, calories, sleephours, active = data.T"
   ]
  },
  {
   "cell_type": "code",
   "execution_count": 85,
   "id": "32e75794",
   "metadata": {},
   "outputs": [
    {
     "data": {
      "text/plain": [
       "array(['5464', '6041', '25', '5461', '6915', '4545', '4340', '1230', '61',\n",
       "       '1258', '3148', '4687', '4732', '3519', '1580', '2822', '181',\n",
       "       '3158', '4383', '3881', '4037', '202', '292', '330', '2209',\n",
       "       '4550', '4435', '4779', '1831', '2255', '539', '5464', '6041',\n",
       "       '4068', '4683', '4033', '6314', '614', '3149', '4005', '4880',\n",
       "       '4136', '705', '570', '269', '4275', '5999', '4421', '6930',\n",
       "       '5195', '546', '493', '995', '1163', '6676', '3608', '774', '1421',\n",
       "       '4064', '2725', '5934', '1867', '3721', '2374', '2909', '1648',\n",
       "       '799', '7102', '3941', '7422', '437', '1231', '1696', '4921',\n",
       "       '221', '6500', '3575', '4061', '651', '753', '518', '5537', '4108',\n",
       "       '5376', '3066', '177', '36', '299', '1447', '2599', '702', '133',\n",
       "       '153', '500', '2127', '2203'], dtype='<U10')"
      ]
     },
     "execution_count": 85,
     "metadata": {},
     "output_type": "execute_result"
    }
   ],
   "source": [
    "step_count"
   ]
  },
  {
   "cell_type": "code",
   "execution_count": 86,
   "id": "866e2a57",
   "metadata": {},
   "outputs": [
    {
     "data": {
      "text/plain": [
       "dtype('int64')"
      ]
     },
     "execution_count": 86,
     "metadata": {},
     "output_type": "execute_result"
    }
   ],
   "source": [
    "step_count = np.array(step_count, dtype = \"int64\")\n",
    "step_count.dtype"
   ]
  },
  {
   "cell_type": "code",
   "execution_count": 87,
   "id": "7bc7d6ff",
   "metadata": {},
   "outputs": [
    {
     "data": {
      "text/plain": [
       "array([['06-10-2017', '5464', 'Neutral', '181', '5', 'Inactive'],\n",
       "       ['07-10-2017', '6041', 'Sad', '197', '8', 'Inactive'],\n",
       "       ['08-10-2017', '25', 'Sad', '0', '5', 'Inactive'],\n",
       "       ['09-10-2017', '5461', 'Sad', '174', '4', 'Inactive'],\n",
       "       ['10-10-2017', '6915', 'Neutral', '223', '5', 'Active'],\n",
       "       ['11-10-2017', '4545', 'Sad', '149', '6', 'Inactive'],\n",
       "       ['12-10-2017', '4340', 'Sad', '140', '6', 'Inactive'],\n",
       "       ['13-10-2017', '1230', 'Sad', '38', '7', 'Inactive'],\n",
       "       ['14-10-2017', '61', 'Sad', '1', '5', 'Inactive'],\n",
       "       ['15-10-2017', '1258', 'Sad', '40', '6', 'Inactive'],\n",
       "       ['16-10-2017', '3148', 'Sad', '101', '8', 'Inactive'],\n",
       "       ['17-10-2017', '4687', 'Sad', '152', '5', 'Inactive'],\n",
       "       ['18-10-2017', '4732', 'Happy', '150', '6', 'Active'],\n",
       "       ['19-10-2017', '3519', 'Sad', '113', '7', 'Inactive'],\n",
       "       ['20-10-2017', '1580', 'Sad', '49', '5', 'Inactive'],\n",
       "       ['21-10-2017', '2822', 'Sad', '86', '6', 'Inactive'],\n",
       "       ['22-10-2017', '181', 'Sad', '6', '8', 'Inactive'],\n",
       "       ['23-10-2017', '3158', 'Neutral', '99', '5', 'Inactive'],\n",
       "       ['24-10-2017', '4383', 'Neutral', '143', '4', 'Inactive'],\n",
       "       ['25-10-2017', '3881', 'Neutral', '125', '5', 'Inactive'],\n",
       "       ['26-10-2017', '4037', 'Neutral', '129', '6', 'Inactive'],\n",
       "       ['27-10-2017', '202', 'Neutral', '6', '8', 'Inactive'],\n",
       "       ['28-10-2017', '292', 'Neutral', '9', '5', 'Inactive'],\n",
       "       ['29-10-2017', '330', 'Happy', '10', '6', 'Inactive'],\n",
       "       ['30-10-2017', '2209', 'Neutral', '72', '5', 'Inactive'],\n",
       "       ['31-10-2017', '4550', 'Happy', '150', '8', 'Active'],\n",
       "       ['01-11-2017', '4435', 'Happy', '141', '5', 'Inactive'],\n",
       "       ['02-11-2017', '4779', 'Happy', '156', '4', 'Inactive'],\n",
       "       ['03-11-2017', '1831', 'Happy', '57', '5', 'Inactive'],\n",
       "       ['04-11-2017', '2255', 'Happy', '72', '4', 'Inactive'],\n",
       "       ['05-11-2017', '539', 'Happy', '17', '5', 'Active'],\n",
       "       ['06-11-2017', '5464', 'Happy', '181', '4', 'Inactive'],\n",
       "       ['07-11-2017', '6041', 'Neutral', '197', '3', 'Inactive'],\n",
       "       ['08-11-2017', '4068', 'Happy', '131', '2', 'Inactive'],\n",
       "       ['09-11-2017', '4683', 'Happy', '154', '9', 'Inactive'],\n",
       "       ['10-11-2017', '4033', 'Happy', '137', '5', 'Inactive'],\n",
       "       ['11-11-2017', '6314', 'Happy', '193', '6', 'Active'],\n",
       "       ['12-11-2017', '614', 'Happy', '19', '4', 'Active'],\n",
       "       ['13-11-2017', '3149', 'Happy', '101', '5', 'Active'],\n",
       "       ['14-11-2017', '4005', 'Happy', '139', '8', 'Active'],\n",
       "       ['15-11-2017', '4880', 'Happy', '164', '4', 'Active'],\n",
       "       ['16-11-2017', '4136', 'Happy', '137', '5', 'Active'],\n",
       "       ['17-11-2017', '705', 'Happy', '22', '6', 'Active'],\n",
       "       ['18-11-2017', '570', 'Neutral', '17', '5', 'Active'],\n",
       "       ['19-11-2017', '269', 'Happy', '9', '6', 'Active'],\n",
       "       ['20-11-2017', '4275', 'Happy', '145', '5', 'Inactive'],\n",
       "       ['21-11-2017', '5999', 'Happy', '192', '6', 'Inactive'],\n",
       "       ['22-11-2017', '4421', 'Happy', '146', '5', 'Inactive'],\n",
       "       ['23-11-2017', '6930', 'Happy', '234', '6', 'Inactive'],\n",
       "       ['24-11-2017', '5195', 'Happy', '167', '5', 'Inactive'],\n",
       "       ['25-11-2017', '546', 'Happy', '16', '6', 'Inactive'],\n",
       "       ['26-11-2017', '493', 'Happy', '17', '7', 'Active'],\n",
       "       ['27-11-2017', '995', 'Happy', '32', '6', 'Active'],\n",
       "       ['28-11-2017', '1163', 'Neutral', '35', '7', 'Active'],\n",
       "       ['29-11-2017', '6676', 'Sad', '220', '6', 'Active'],\n",
       "       ['30-11-2017', '3608', 'Happy', '116', '5', 'Active'],\n",
       "       ['01-12-2017', '774', 'Happy', '23', '6', 'Active'],\n",
       "       ['02-12-2017', '1421', 'Happy', '44', '7', 'Active'],\n",
       "       ['03-12-2017', '4064', 'Happy', '131', '8', 'Active'],\n",
       "       ['04-12-2017', '2725', 'Happy', '86', '8', 'Active'],\n",
       "       ['05-12-2017', '5934', 'Happy', '194', '7', 'Active'],\n",
       "       ['06-12-2017', '1867', 'Happy', '60', '8', 'Active'],\n",
       "       ['07-12-2017', '3721', 'Sad', '121', '5', 'Active'],\n",
       "       ['08-12-2017', '2374', 'Neutral', '76', '4', 'Inactive'],\n",
       "       ['09-12-2017', '2909', 'Neutral', '93', '3', 'Active'],\n",
       "       ['10-12-2017', '1648', 'Sad', '53', '3', 'Active'],\n",
       "       ['11-12-2017', '799', 'Sad', '25', '4', 'Inactive'],\n",
       "       ['12-12-2017', '7102', 'Neutral', '227', '5', 'Active'],\n",
       "       ['13-12-2017', '3941', 'Neutral', '125', '5', 'Active'],\n",
       "       ['14-12-2017', '7422', 'Happy', '243', '5', 'Active'],\n",
       "       ['15-12-2017', '437', 'Neutral', '14', '3', 'Active'],\n",
       "       ['16-12-2017', '1231', 'Neutral', '39', '4', 'Active'],\n",
       "       ['17-12-2017', '1696', 'Sad', '55', '4', 'Inactive'],\n",
       "       ['18-12-2017', '4921', 'Neutral', '158', '5', 'Active'],\n",
       "       ['19-12-2017', '221', 'Sad', '7', '5', 'Active'],\n",
       "       ['20-12-2017', '6500', 'Neutral', '213', '5', 'Active'],\n",
       "       ['21-12-2017', '3575', 'Neutral', '116', '5', 'Active'],\n",
       "       ['22-12-2017', '4061', 'Sad', '129', '5', 'Inactive'],\n",
       "       ['23-12-2017', '651', 'Sad', '21', '5', 'Inactive'],\n",
       "       ['24-12-2017', '753', 'Sad', '28', '4', 'Inactive'],\n",
       "       ['25-12-2017', '518', 'Sad', '16', '3', 'Inactive'],\n",
       "       ['26-12-2017', '5537', 'Happy', '180', '4', 'Active'],\n",
       "       ['27-12-2017', '4108', 'Neutral', '138', '5', 'Active'],\n",
       "       ['28-12-2017', '5376', 'Happy', '176', '5', 'Active'],\n",
       "       ['29-12-2017', '3066', 'Neutral', '99', '4', 'Active'],\n",
       "       ['30-12-2017', '177', 'Sad', '5', '5', 'Inactive'],\n",
       "       ['31-12-2017', '36', 'Sad', '1', '3', 'Inactive'],\n",
       "       ['01-01-2018', '299', 'Sad', '10', '3', 'Inactive'],\n",
       "       ['02-01-2018', '1447', 'Neutral', '47', '3', 'Inactive'],\n",
       "       ['03-01-2018', '2599', 'Neutral', '84', '2', 'Inactive'],\n",
       "       ['04-01-2018', '702', 'Sad', '23', '3', 'Inactive'],\n",
       "       ['05-01-2018', '133', 'Sad', '4', '2', 'Inactive'],\n",
       "       ['06-01-2018', '153', 'Happy', '0', '8', 'Inactive'],\n",
       "       ['07-01-2018', '500', 'Neutral', '0', '5', 'Active'],\n",
       "       ['08-01-2018', '2127', 'Neutral', '0', '5', 'Inactive'],\n",
       "       ['09-01-2018', '2203', 'Happy', '0', '5', 'Active']], dtype='<U10')"
      ]
     },
     "execution_count": 87,
     "metadata": {},
     "output_type": "execute_result"
    }
   ],
   "source": [
    "data"
   ]
  },
  {
   "cell_type": "code",
   "execution_count": 88,
   "id": "4987aa13",
   "metadata": {},
   "outputs": [
    {
     "data": {
      "text/plain": [
       "array(['06-10-2017', '07-10-2017', '08-10-2017', '09-10-2017',\n",
       "       '10-10-2017', '11-10-2017', '12-10-2017', '13-10-2017',\n",
       "       '14-10-2017', '15-10-2017', '16-10-2017', '17-10-2017',\n",
       "       '18-10-2017', '19-10-2017', '20-10-2017', '21-10-2017',\n",
       "       '22-10-2017', '23-10-2017', '24-10-2017', '25-10-2017',\n",
       "       '26-10-2017', '27-10-2017', '28-10-2017', '29-10-2017',\n",
       "       '30-10-2017', '31-10-2017', '01-11-2017', '02-11-2017',\n",
       "       '03-11-2017', '04-11-2017', '05-11-2017', '06-11-2017',\n",
       "       '07-11-2017', '08-11-2017', '09-11-2017', '10-11-2017',\n",
       "       '11-11-2017', '12-11-2017', '13-11-2017', '14-11-2017',\n",
       "       '15-11-2017', '16-11-2017', '17-11-2017', '18-11-2017',\n",
       "       '19-11-2017', '20-11-2017', '21-11-2017', '22-11-2017',\n",
       "       '23-11-2017', '24-11-2017', '25-11-2017', '26-11-2017',\n",
       "       '27-11-2017', '28-11-2017', '29-11-2017', '30-11-2017',\n",
       "       '01-12-2017', '02-12-2017', '03-12-2017', '04-12-2017',\n",
       "       '05-12-2017', '06-12-2017', '07-12-2017', '08-12-2017',\n",
       "       '09-12-2017', '10-12-2017', '11-12-2017', '12-12-2017',\n",
       "       '13-12-2017', '14-12-2017', '15-12-2017', '16-12-2017',\n",
       "       '17-12-2017', '18-12-2017', '19-12-2017', '20-12-2017',\n",
       "       '21-12-2017', '22-12-2017', '23-12-2017', '24-12-2017',\n",
       "       '25-12-2017', '26-12-2017', '27-12-2017', '28-12-2017',\n",
       "       '29-12-2017', '30-12-2017', '31-12-2017', '01-01-2018',\n",
       "       '02-01-2018', '03-01-2018', '04-01-2018', '05-01-2018',\n",
       "       '06-01-2018', '07-01-2018', '08-01-2018', '09-01-2018'],\n",
       "      dtype='<U10')"
      ]
     },
     "execution_count": 88,
     "metadata": {},
     "output_type": "execute_result"
    }
   ],
   "source": [
    "date = data[:,0]\n",
    "date"
   ]
  },
  {
   "cell_type": "code",
   "execution_count": 89,
   "id": "27653602",
   "metadata": {},
   "outputs": [
    {
     "data": {
      "text/plain": [
       "dtype('int64')"
      ]
     },
     "execution_count": 89,
     "metadata": {},
     "output_type": "execute_result"
    }
   ],
   "source": [
    "calories = np.array(calories, dtype = \"int64\")\n",
    "calories.dtype"
   ]
  },
  {
   "cell_type": "code",
   "execution_count": 90,
   "id": "6caa69c7",
   "metadata": {},
   "outputs": [
    {
     "data": {
      "text/plain": [
       "dtype('int64')"
      ]
     },
     "execution_count": 90,
     "metadata": {},
     "output_type": "execute_result"
    }
   ],
   "source": [
    "sleephours = np.array(sleephours, dtype = \"int64\")\n",
    "sleephours.dtype"
   ]
  },
  {
   "cell_type": "code",
   "execution_count": 91,
   "id": "82adaed9",
   "metadata": {},
   "outputs": [
    {
     "data": {
      "text/plain": [
       "array(['Happy', 'Neutral', 'Sad'], dtype='<U10')"
      ]
     },
     "execution_count": 91,
     "metadata": {},
     "output_type": "execute_result"
    }
   ],
   "source": [
    "np.unique(mood)"
   ]
  },
  {
   "cell_type": "code",
   "execution_count": 92,
   "id": "519d574a",
   "metadata": {},
   "outputs": [
    {
     "data": {
      "text/plain": [
       "array(['Active', 'Inactive'], dtype='<U10')"
      ]
     },
     "execution_count": 92,
     "metadata": {},
     "output_type": "execute_result"
    }
   ],
   "source": [
    "np.unique(active)"
   ]
  },
  {
   "cell_type": "code",
   "execution_count": 93,
   "id": "2e05f1ae",
   "metadata": {},
   "outputs": [],
   "source": [
    "arr1 = np.arange(12).reshape(3,4)"
   ]
  },
  {
   "cell_type": "code",
   "execution_count": 95,
   "id": "a21f1965",
   "metadata": {},
   "outputs": [
    {
     "data": {
      "text/plain": [
       "array([[ 0,  1,  2,  3],\n",
       "       [ 4,  5,  6,  7],\n",
       "       [ 8,  9, 10, 11]])"
      ]
     },
     "execution_count": 95,
     "metadata": {},
     "output_type": "execute_result"
    }
   ],
   "source": [
    "arr1"
   ]
  },
  {
   "cell_type": "code",
   "execution_count": 96,
   "id": "fe06ad38",
   "metadata": {},
   "outputs": [
    {
     "data": {
      "text/plain": [
       "array([[ True,  True,  True,  True],\n",
       "       [ True,  True, False, False],\n",
       "       [False, False, False, False]])"
      ]
     },
     "execution_count": 96,
     "metadata": {},
     "output_type": "execute_result"
    }
   ],
   "source": [
    "arr1<6"
   ]
  },
  {
   "cell_type": "code",
   "execution_count": 97,
   "id": "102b2fdc",
   "metadata": {},
   "outputs": [
    {
     "data": {
      "text/plain": [
       "array([0, 1, 2, 3, 4, 5])"
      ]
     },
     "execution_count": 97,
     "metadata": {},
     "output_type": "execute_result"
    }
   ],
   "source": [
    "arr1[arr1<6] #returns an 1d array!!!"
   ]
  },
  {
   "cell_type": "code",
   "execution_count": 98,
   "id": "2c0ae624",
   "metadata": {},
   "outputs": [
    {
     "data": {
      "text/plain": [
       "array([ 300,  456,  556, 3345])"
      ]
     },
     "execution_count": 98,
     "metadata": {},
     "output_type": "execute_result"
    }
   ],
   "source": [
    "s = np.array([300,456,556,3345])\n",
    "s"
   ]
  },
  {
   "cell_type": "code",
   "execution_count": 99,
   "id": "75af0be7",
   "metadata": {},
   "outputs": [
    {
     "data": {
      "text/plain": [
       "array([ 300,  556, 3345])"
      ]
     },
     "execution_count": 99,
     "metadata": {},
     "output_type": "execute_result"
    }
   ],
   "source": [
    "s[[True, False, True, True]]"
   ]
  },
  {
   "cell_type": "code",
   "execution_count": 103,
   "id": "f4f0b26d",
   "metadata": {},
   "outputs": [
    {
     "data": {
      "text/plain": [
       "array(['sad', 'happy', 'sad', 'happy'], dtype='<U5')"
      ]
     },
     "execution_count": 103,
     "metadata": {},
     "output_type": "execute_result"
    }
   ],
   "source": [
    "m = np.array([\"sad\",\"happy\",\"sad\",\"happy\"])\n",
    "m"
   ]
  },
  {
   "cell_type": "code",
   "execution_count": 104,
   "id": "d31ebc00",
   "metadata": {},
   "outputs": [
    {
     "data": {
      "text/plain": [
       "array([False,  True, False,  True])"
      ]
     },
     "execution_count": 104,
     "metadata": {},
     "output_type": "execute_result"
    }
   ],
   "source": [
    "m == \"happy\""
   ]
  },
  {
   "cell_type": "code",
   "execution_count": 106,
   "id": "6445d227",
   "metadata": {},
   "outputs": [
    {
     "data": {
      "text/plain": [
       "array([ 456, 3345])"
      ]
     },
     "execution_count": 106,
     "metadata": {},
     "output_type": "execute_result"
    }
   ],
   "source": [
    "s[m==\"happy\"]"
   ]
  },
  {
   "cell_type": "code",
   "execution_count": 107,
   "id": "3992d15e",
   "metadata": {},
   "outputs": [],
   "source": [
    "a = np.arange(12).reshape(3,4)\n"
   ]
  },
  {
   "cell_type": "code",
   "execution_count": 108,
   "id": "f036679f",
   "metadata": {},
   "outputs": [
    {
     "data": {
      "text/plain": [
       "array([[ 0,  1,  2,  3],\n",
       "       [ 4,  5,  6,  7],\n",
       "       [ 8,  9, 10, 11]])"
      ]
     },
     "execution_count": 108,
     "metadata": {},
     "output_type": "execute_result"
    }
   ],
   "source": [
    "a"
   ]
  },
  {
   "cell_type": "code",
   "execution_count": 109,
   "id": "63b1fbfd",
   "metadata": {},
   "outputs": [
    {
     "data": {
      "text/plain": [
       "66"
      ]
     },
     "execution_count": 109,
     "metadata": {},
     "output_type": "execute_result"
    }
   ],
   "source": [
    "np.sum(a)"
   ]
  },
  {
   "cell_type": "code",
   "execution_count": 110,
   "id": "58f18216",
   "metadata": {},
   "outputs": [
    {
     "data": {
      "text/plain": [
       "array([12, 15, 18, 21])"
      ]
     },
     "execution_count": 110,
     "metadata": {},
     "output_type": "execute_result"
    }
   ],
   "source": [
    "np.sum(a, axis=0) #axis =0 row-wise "
   ]
  },
  {
   "cell_type": "code",
   "execution_count": 111,
   "id": "d3436bed",
   "metadata": {},
   "outputs": [
    {
     "data": {
      "text/plain": [
       "array([ 6, 22, 38])"
      ]
     },
     "execution_count": 111,
     "metadata": {},
     "output_type": "execute_result"
    }
   ],
   "source": [
    "np.sum(a, axis=1) #axis =1 col-wise"
   ]
  },
  {
   "cell_type": "code",
   "execution_count": 113,
   "id": "418ef8a0",
   "metadata": {},
   "outputs": [],
   "source": [
    "a = np.array([1,2,3,4,5])\n",
    "b = np.array([2,3,4,5,6])"
   ]
  },
  {
   "cell_type": "code",
   "execution_count": 114,
   "id": "ada1c26f",
   "metadata": {},
   "outputs": [
    {
     "data": {
      "text/plain": [
       "(array([1, 2, 3, 4, 5]), array([2, 3, 4, 5, 6]))"
      ]
     },
     "execution_count": 114,
     "metadata": {},
     "output_type": "execute_result"
    }
   ],
   "source": [
    "a,b"
   ]
  },
  {
   "cell_type": "code",
   "execution_count": 115,
   "id": "9c1aed7d",
   "metadata": {},
   "outputs": [
    {
     "data": {
      "text/plain": [
       "array([ True,  True,  True,  True,  True])"
      ]
     },
     "execution_count": 115,
     "metadata": {},
     "output_type": "execute_result"
    }
   ],
   "source": [
    "a<b"
   ]
  },
  {
   "cell_type": "code",
   "execution_count": 116,
   "id": "dd6cf4a0",
   "metadata": {},
   "outputs": [
    {
     "data": {
      "text/plain": [
       "True"
      ]
     },
     "execution_count": 116,
     "metadata": {},
     "output_type": "execute_result"
    }
   ],
   "source": [
    "np.any(a<b)"
   ]
  },
  {
   "cell_type": "code",
   "execution_count": 117,
   "id": "cb0a82e7",
   "metadata": {},
   "outputs": [
    {
     "data": {
      "text/plain": [
       "True"
      ]
     },
     "execution_count": 117,
     "metadata": {},
     "output_type": "execute_result"
    }
   ],
   "source": [
    "np.all(a<b)"
   ]
  },
  {
   "cell_type": "code",
   "execution_count": 119,
   "id": "7a00eb55",
   "metadata": {},
   "outputs": [
    {
     "data": {
      "text/plain": [
       "array([1, 1, 1, 1, 1])"
      ]
     },
     "execution_count": 119,
     "metadata": {},
     "output_type": "execute_result"
    }
   ],
   "source": [
    "np.where(a>0,+1,-1) #return +1 if a>0 else -1"
   ]
  },
  {
   "cell_type": "code",
   "execution_count": 120,
   "id": "59714414",
   "metadata": {},
   "outputs": [
    {
     "data": {
      "text/plain": [
       "array([5464, 6041,   25, 5461, 6915, 4545, 4340, 1230,   61, 1258, 3148,\n",
       "       4687, 4732, 3519, 1580, 2822,  181, 3158, 4383, 3881, 4037,  202,\n",
       "        292,  330, 2209, 4550, 4435, 4779, 1831, 2255,  539, 5464, 6041,\n",
       "       4068, 4683, 4033, 6314,  614, 3149, 4005, 4880, 4136,  705,  570,\n",
       "        269, 4275, 5999, 4421, 6930, 5195,  546,  493,  995, 1163, 6676,\n",
       "       3608,  774, 1421, 4064, 2725, 5934, 1867, 3721, 2374, 2909, 1648,\n",
       "        799, 7102, 3941, 7422,  437, 1231, 1696, 4921,  221, 6500, 3575,\n",
       "       4061,  651,  753,  518, 5537, 4108, 5376, 3066,  177,   36,  299,\n",
       "       1447, 2599,  702,  133,  153,  500, 2127, 2203])"
      ]
     },
     "execution_count": 120,
     "metadata": {},
     "output_type": "execute_result"
    }
   ],
   "source": [
    "step_count"
   ]
  },
  {
   "cell_type": "code",
   "execution_count": 121,
   "id": "57696eda",
   "metadata": {},
   "outputs": [
    {
     "data": {
      "text/plain": [
       "array(['Neutral', 'Sad', 'Sad', 'Sad', 'Neutral', 'Sad', 'Sad', 'Sad',\n",
       "       'Sad', 'Sad', 'Sad', 'Sad', 'Happy', 'Sad', 'Sad', 'Sad', 'Sad',\n",
       "       'Neutral', 'Neutral', 'Neutral', 'Neutral', 'Neutral', 'Neutral',\n",
       "       'Happy', 'Neutral', 'Happy', 'Happy', 'Happy', 'Happy', 'Happy',\n",
       "       'Happy', 'Happy', 'Neutral', 'Happy', 'Happy', 'Happy', 'Happy',\n",
       "       'Happy', 'Happy', 'Happy', 'Happy', 'Happy', 'Happy', 'Neutral',\n",
       "       'Happy', 'Happy', 'Happy', 'Happy', 'Happy', 'Happy', 'Happy',\n",
       "       'Happy', 'Happy', 'Neutral', 'Sad', 'Happy', 'Happy', 'Happy',\n",
       "       'Happy', 'Happy', 'Happy', 'Happy', 'Sad', 'Neutral', 'Neutral',\n",
       "       'Sad', 'Sad', 'Neutral', 'Neutral', 'Happy', 'Neutral', 'Neutral',\n",
       "       'Sad', 'Neutral', 'Sad', 'Neutral', 'Neutral', 'Sad', 'Sad', 'Sad',\n",
       "       'Sad', 'Happy', 'Neutral', 'Happy', 'Neutral', 'Sad', 'Sad', 'Sad',\n",
       "       'Neutral', 'Neutral', 'Sad', 'Sad', 'Happy', 'Neutral', 'Neutral',\n",
       "       'Happy'], dtype='<U10')"
      ]
     },
     "execution_count": 121,
     "metadata": {},
     "output_type": "execute_result"
    }
   ],
   "source": [
    "mood"
   ]
  },
  {
   "cell_type": "code",
   "execution_count": 124,
   "id": "a42ffa93",
   "metadata": {},
   "outputs": [
    {
     "data": {
      "text/plain": [
       "array([4732,  330, 4550, 4435, 4779, 1831, 2255,  539, 5464, 4068, 4683,\n",
       "       4033, 6314,  614, 3149, 4005, 4880, 4136,  705,  269, 4275, 5999,\n",
       "       4421, 6930, 5195,  546,  493,  995, 3608,  774, 1421, 4064, 2725,\n",
       "       5934, 1867, 7422, 5537, 5376,  153, 2203])"
      ]
     },
     "execution_count": 124,
     "metadata": {},
     "output_type": "execute_result"
    }
   ],
   "source": [
    "step_count_happy = step_count[mood==\"Happy\"]\n",
    "step_count_happy"
   ]
  },
  {
   "cell_type": "code",
   "execution_count": 125,
   "id": "ef8db434",
   "metadata": {},
   "outputs": [
    {
     "data": {
      "text/plain": [
       "(96, 40, 29)"
      ]
     },
     "execution_count": 125,
     "metadata": {},
     "output_type": "execute_result"
    }
   ],
   "source": [
    "len(step_count), len(step_count_happy), len(step_count[mood==\"Sad\"])"
   ]
  },
  {
   "cell_type": "code",
   "execution_count": 127,
   "id": "f59e965d",
   "metadata": {},
   "outputs": [
    {
     "name": "stdout",
     "output_type": "stream",
     "text": [
      "3392.725\n",
      "2103.0689655172414\n",
      "3153.777777777778\n"
     ]
    }
   ],
   "source": [
    "#average step count when he was happy, sad, neutral\n",
    "print(np.mean(step_count_happy))\n",
    "print(np.mean(step_count[mood==\"Sad\"]))\n",
    "print(np.mean(step_count[mood==\"Neutral\"]))"
   ]
  },
  {
   "cell_type": "code",
   "execution_count": 134,
   "id": "fb57882c",
   "metadata": {},
   "outputs": [
    {
     "data": {
      "text/plain": [
       "array(['Neutral', 'Sad', 'Sad', 'Neutral', 'Sad', 'Sad', 'Sad', 'Happy',\n",
       "       'Neutral', 'Neutral', 'Happy', 'Happy', 'Happy', 'Happy',\n",
       "       'Neutral', 'Happy', 'Happy', 'Happy', 'Happy', 'Happy', 'Happy',\n",
       "       'Happy', 'Happy', 'Happy', 'Happy', 'Happy', 'Happy', 'Sad',\n",
       "       'Happy', 'Happy', 'Neutral', 'Happy', 'Neutral', 'Neutral', 'Sad',\n",
       "       'Happy', 'Neutral', 'Happy'], dtype='<U10')"
      ]
     },
     "execution_count": 134,
     "metadata": {},
     "output_type": "execute_result"
    }
   ],
   "source": [
    "# if the step count is >4000, returns the no. of days the guy was happy, sad, neutral\n",
    "\n",
    "mask = step_count > 4000\n",
    "mood[mask]"
   ]
  },
  {
   "cell_type": "code",
   "execution_count": 135,
   "id": "82a5d56f",
   "metadata": {},
   "outputs": [
    {
     "data": {
      "text/plain": [
       "(array(['Happy', 'Neutral', 'Sad'], dtype='<U10'), array([22,  9,  7]))"
      ]
     },
     "execution_count": 135,
     "metadata": {},
     "output_type": "execute_result"
    }
   ],
   "source": [
    "np.unique(mood[mask], return_counts=True)"
   ]
  },
  {
   "cell_type": "code",
   "execution_count": 136,
   "id": "59a1660f",
   "metadata": {},
   "outputs": [
    {
     "data": {
      "text/plain": [
       "(array(['Happy', 'Neutral', 'Sad'], dtype='<U10'), array([13,  8, 18]))"
      ]
     },
     "execution_count": 136,
     "metadata": {},
     "output_type": "execute_result"
    }
   ],
   "source": [
    "np.unique(mood[step_count<2000], return_counts=True)"
   ]
  },
  {
   "cell_type": "code",
   "execution_count": null,
   "id": "cac072e7",
   "metadata": {},
   "outputs": [],
   "source": []
  }
 ],
 "metadata": {
  "kernelspec": {
   "display_name": "Python 3 (ipykernel)",
   "language": "python",
   "name": "python3"
  },
  "language_info": {
   "codemirror_mode": {
    "name": "ipython",
    "version": 3
   },
   "file_extension": ".py",
   "mimetype": "text/x-python",
   "name": "python",
   "nbconvert_exporter": "python",
   "pygments_lexer": "ipython3",
   "version": "3.9.5"
  }
 },
 "nbformat": 4,
 "nbformat_minor": 5
}
